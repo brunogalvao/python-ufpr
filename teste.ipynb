{
 "cells": [
  {
   "cell_type": "markdown",
   "metadata": {},
   "source": [
    "# Python + Pandas\n",
    "Testando o Ambiente virtual do GitHub com python + pandas"
   ]
  },
  {
   "cell_type": "code",
   "execution_count": 3,
   "metadata": {},
   "outputs": [
    {
     "name": "stdout",
     "output_type": "stream",
     "text": [
      "Primeiras linhas do DataFrame:\n",
      "    Nome  Idade          Cidade\n",
      "0   João     25       São Paulo\n",
      "1  Maria     30  Rio de Janeiro\n",
      "2  Pedro     28  Belo Horizonte\n",
      "\n",
      "Informações sobre o DataFrame:\n",
      "<class 'pandas.core.frame.DataFrame'>\n",
      "RangeIndex: 3 entries, 0 to 2\n",
      "Data columns (total 3 columns):\n",
      " #   Column  Non-Null Count  Dtype \n",
      "---  ------  --------------  ----- \n",
      " 0   Nome    3 non-null      object\n",
      " 1   Idade   3 non-null      int64 \n",
      " 2   Cidade  3 non-null      object\n",
      "dtypes: int64(1), object(2)\n",
      "memory usage: 200.0+ bytes\n",
      "None\n",
      "\n",
      "Estatísticas básicas das colunas numéricas:\n",
      "           Idade\n",
      "count   3.000000\n",
      "mean   27.666667\n",
      "std     2.516611\n",
      "min    25.000000\n",
      "25%    26.500000\n",
      "50%    28.000000\n",
      "75%    29.000000\n",
      "max    30.000000\n",
      "\n",
      "Pessoas com idade maior que 25:\n",
      "    Nome  Idade          Cidade\n",
      "1  Maria     30  Rio de Janeiro\n",
      "2  Pedro     28  Belo Horizonte\n",
      "\n",
      "Média de idade por cidade:\n",
      "Cidade\n",
      "Belo Horizonte    28.0\n",
      "Rio de Janeiro    30.0\n",
      "São Paulo         25.0\n",
      "Name: Idade, dtype: float64\n"
     ]
    }
   ],
   "source": [
    "import pandas as pd\n",
    "\n",
    "# Carregar os dados do arquivo CSV em um DataFrame\n",
    "df = pd.read_csv('dados.csv')\n",
    "\n",
    "# Exibir as primeiras linhas do DataFrame\n",
    "print(\"Primeiras linhas do DataFrame:\")\n",
    "print(df.head())\n",
    "\n",
    "# Exibir informações sobre o DataFrame\n",
    "print(\"\\nInformações sobre o DataFrame:\")\n",
    "print(df.info())\n",
    "\n",
    "# Calcular estatísticas básicas das colunas numéricas\n",
    "print(\"\\nEstatísticas básicas das colunas numéricas:\")\n",
    "print(df.describe())\n",
    "\n",
    "# Filtrar o DataFrame por idade maior que 25\n",
    "filtro_idade = df['Idade'] > 25\n",
    "print(\"\\nPessoas com idade maior que 25:\")\n",
    "print(df[filtro_idade])\n",
    "\n",
    "# Agrupar os dados por cidade e calcular a média da idade\n",
    "print(\"\\nMédia de idade por cidade:\")\n",
    "print(df.groupby('Cidade')['Idade'].mean())\n"
   ]
  }
 ],
 "metadata": {
  "kernelspec": {
   "display_name": "Python 3 (ipykernel)",
   "language": "python",
   "name": "python3"
  },
  "language_info": {
   "codemirror_mode": {
    "name": "ipython",
    "version": 3
   },
   "file_extension": ".py",
   "mimetype": "text/x-python",
   "name": "python",
   "nbconvert_exporter": "python",
   "pygments_lexer": "ipython3",
   "version": "3.10.13"
  }
 },
 "nbformat": 4,
 "nbformat_minor": 2
}
