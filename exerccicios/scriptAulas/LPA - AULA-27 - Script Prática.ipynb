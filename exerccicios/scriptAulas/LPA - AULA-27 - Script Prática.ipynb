{
  "cells": [
    {
      "cell_type": "markdown",
      "metadata": {
        "id": "gXH7bxwkSph3"
      },
      "source": [
        "\n",
        "## LPA - Prática - Aula 27 - 5.3 Resolução do exercício\n",
        "---"
      ]
    },
    {
      "cell_type": "markdown",
      "metadata": {
        "id": "WoWtvYniWvy4"
      },
      "source": [
        "## Parte 1 - Importação das bibliotecas"
      ]
    },
    {
      "cell_type": "code",
      "execution_count": 1,
      "metadata": {},
      "outputs": [],
      "source": [
        "# Biblioteca Pandas - Manipulação de dados\n",
        "import pandas as pd\n",
        "# Biblioteca Seaborn - Criação de gráficos\n",
        "import seaborn as sns\n",
        "# Biblioteca Matplotlib - Criação de gráficos\n",
        "import matplotlib.pyplot as plt\n",
        "\n",
        "# OPCIONAL - Biblioteca para ignorar mensagens de warning (aviso) ao rodar uma célula de código\n",
        "import warnings\n",
        "warnings.filterwarnings('ignore')"
      ]
    },
    {
      "cell_type": "code",
      "execution_count": 2,
      "metadata": {},
      "outputs": [],
      "source": [
        "# Bibliotecas de machine learning\n",
        "from sklearn.model_selection import train_test_split\n",
        "from sklearn.ensemble import RandomForestRegressor\n",
        "from xgboost import XGBRegressor\n",
        "from sklearn.preprocessing import LabelEncoder\n",
        "\n",
        "# Métricas de avaliação dos modelos\n",
        "from sklearn.metrics import mean_squared_error, mean_absolute_error, r2_score"
      ]
    },
    {
      "cell_type": "markdown",
      "metadata": {},
      "source": [
        "---\n",
        "## Parte 2 - Importação das dos dados"
      ]
    },
    {
      "cell_type": "code",
      "execution_count": 78,
      "metadata": {},
      "outputs": [],
      "source": [
        "# Função read_csv para importar os dados da pasta do computador\n",
        "dados = pd.read_csv('dados_salarial_funcionarios.csv')"
      ]
    },
    {
      "cell_type": "code",
      "execution_count": 79,
      "metadata": {},
      "outputs": [
        {
          "data": {
            "text/plain": [
              "Index(['Idade', 'Genero', 'Nivel Ensino', 'Area Formacao', 'Setor', 'Nivel',\n",
              "       'Faixa Salarial', 'Anos experiencia', 'Faixa Salarial – numero',\n",
              "       'Data ultimo aumento'],\n",
              "      dtype='object')"
            ]
          },
          "execution_count": 79,
          "metadata": {},
          "output_type": "execute_result"
        }
      ],
      "source": [
        "# Listando o nome das colunas\n",
        "dados.columns"
      ]
    },
    {
      "cell_type": "code",
      "execution_count": 5,
      "metadata": {
        "colab": {
          "base_uri": "https://localhost:8080/",
          "height": 716
        },
        "id": "acunDqYqepLw",
        "outputId": "3f8009d0-7f17-4992-8616-5417da1f11b9"
      },
      "outputs": [
        {
          "data": {
            "text/html": [
              "<div>\n",
              "<style scoped>\n",
              "    .dataframe tbody tr th:only-of-type {\n",
              "        vertical-align: middle;\n",
              "    }\n",
              "\n",
              "    .dataframe tbody tr th {\n",
              "        vertical-align: top;\n",
              "    }\n",
              "\n",
              "    .dataframe thead th {\n",
              "        text-align: right;\n",
              "    }\n",
              "</style>\n",
              "<table border=\"1\" class=\"dataframe\">\n",
              "  <thead>\n",
              "    <tr style=\"text-align: right;\">\n",
              "      <th></th>\n",
              "      <th>Idade</th>\n",
              "      <th>Genero</th>\n",
              "      <th>Nivel Ensino</th>\n",
              "      <th>Area Formacao</th>\n",
              "      <th>Setor</th>\n",
              "      <th>Nivel</th>\n",
              "      <th>Faixa Salarial</th>\n",
              "      <th>Anos experiencia</th>\n",
              "      <th>Faixa Salarial – numero</th>\n",
              "      <th>Data ultimo aumento</th>\n",
              "    </tr>\n",
              "  </thead>\n",
              "  <tbody>\n",
              "    <tr>\n",
              "      <th>0</th>\n",
              "      <td>38</td>\n",
              "      <td>Masculino</td>\n",
              "      <td>Pós-graduação</td>\n",
              "      <td>Química / Física</td>\n",
              "      <td>Marketing</td>\n",
              "      <td>Gestor</td>\n",
              "      <td>de R$ 4.001/mês a R$ 6.000/mês</td>\n",
              "      <td>Mais de 10 anos</td>\n",
              "      <td>6000</td>\n",
              "      <td>02/01/21</td>\n",
              "    </tr>\n",
              "    <tr>\n",
              "      <th>1</th>\n",
              "      <td>39</td>\n",
              "      <td>Masculino</td>\n",
              "      <td>Pós-graduação</td>\n",
              "      <td>Economia/ Administração / Contabilidade / Fina...</td>\n",
              "      <td>Consultoria</td>\n",
              "      <td>Gestor</td>\n",
              "      <td>de R$ 6.001/mês a R$ 8.000/mês</td>\n",
              "      <td>de 2 a 3 anos</td>\n",
              "      <td>8000</td>\n",
              "      <td>06/04/21</td>\n",
              "    </tr>\n",
              "    <tr>\n",
              "      <th>2</th>\n",
              "      <td>30</td>\n",
              "      <td>Masculino</td>\n",
              "      <td>Pós-graduação</td>\n",
              "      <td>Computação / Engenharia de Software / Sistemas...</td>\n",
              "      <td>Indústria</td>\n",
              "      <td>Gestor</td>\n",
              "      <td>de R$ 8.001/mês a R$ 12.000/mês</td>\n",
              "      <td>de 1 a 2 anos</td>\n",
              "      <td>12000</td>\n",
              "      <td>15/04/23</td>\n",
              "    </tr>\n",
              "    <tr>\n",
              "      <th>3</th>\n",
              "      <td>38</td>\n",
              "      <td>Feminino</td>\n",
              "      <td>Pós-graduação</td>\n",
              "      <td>Outras</td>\n",
              "      <td>Serviços</td>\n",
              "      <td>Gestor</td>\n",
              "      <td>de R$ 12.001/mês a R$ 16.000/mês</td>\n",
              "      <td>Mais de 10 anos</td>\n",
              "      <td>16000</td>\n",
              "      <td>04/06/21</td>\n",
              "    </tr>\n",
              "    <tr>\n",
              "      <th>4</th>\n",
              "      <td>36</td>\n",
              "      <td>Masculino</td>\n",
              "      <td>Pós-graduação</td>\n",
              "      <td>Outras Engenharias</td>\n",
              "      <td>Varejo</td>\n",
              "      <td>Gestor</td>\n",
              "      <td>de R$ 8.001/mês a R$ 12.000/mês</td>\n",
              "      <td>de 1 a 2 anos</td>\n",
              "      <td>12000</td>\n",
              "      <td>22/03/23</td>\n",
              "    </tr>\n",
              "  </tbody>\n",
              "</table>\n",
              "</div>"
            ],
            "text/plain": [
              "   Idade     Genero   Nivel Ensino  \\\n",
              "0     38  Masculino  Pós-graduação   \n",
              "1     39  Masculino  Pós-graduação   \n",
              "2     30  Masculino  Pós-graduação   \n",
              "3     38   Feminino  Pós-graduação   \n",
              "4     36  Masculino  Pós-graduação   \n",
              "\n",
              "                                       Area Formacao        Setor   Nivel  \\\n",
              "0                                   Química / Física    Marketing  Gestor   \n",
              "1  Economia/ Administração / Contabilidade / Fina...  Consultoria  Gestor   \n",
              "2  Computação / Engenharia de Software / Sistemas...    Indústria  Gestor   \n",
              "3                                             Outras     Serviços  Gestor   \n",
              "4                                 Outras Engenharias       Varejo  Gestor   \n",
              "\n",
              "                     Faixa Salarial Anos experiencia  Faixa Salarial – numero  \\\n",
              "0    de R$ 4.001/mês a R$ 6.000/mês  Mais de 10 anos                     6000   \n",
              "1    de R$ 6.001/mês a R$ 8.000/mês    de 2 a 3 anos                     8000   \n",
              "2   de R$ 8.001/mês a R$ 12.000/mês    de 1 a 2 anos                    12000   \n",
              "3  de R$ 12.001/mês a R$ 16.000/mês  Mais de 10 anos                    16000   \n",
              "4   de R$ 8.001/mês a R$ 12.000/mês    de 1 a 2 anos                    12000   \n",
              "\n",
              "  Data ultimo aumento  \n",
              "0            02/01/21  \n",
              "1            06/04/21  \n",
              "2            15/04/23  \n",
              "3            04/06/21  \n",
              "4            22/03/23  "
            ]
          },
          "execution_count": 5,
          "metadata": {},
          "output_type": "execute_result"
        }
      ],
      "source": [
        "# Imprimindo as 5 primeiras linhas\n",
        "dados.head()"
      ]
    },
    {
      "cell_type": "code",
      "execution_count": 6,
      "metadata": {},
      "outputs": [
        {
          "data": {
            "text/plain": [
              "(1385, 10)"
            ]
          },
          "execution_count": 6,
          "metadata": {},
          "output_type": "execute_result"
        }
      ],
      "source": [
        "# Observando número de linhas e colunas\n",
        "dados.shape"
      ]
    },
    {
      "cell_type": "markdown",
      "metadata": {
        "id": "-_Y0vCZaWx3x"
      },
      "source": [
        "Resumo dos dados: 1385 linhas e 10 colunas (variáveis)"
      ]
    },
    {
      "cell_type": "markdown",
      "metadata": {},
      "source": [
        "---\n",
        "## Parte 3: Análise Exploratória dos Dados (AED)"
      ]
    },
    {
      "cell_type": "markdown",
      "metadata": {},
      "source": [
        "#### Ter uma primeira visão sobre os dados e extrair os primeiros insights"
      ]
    },
    {
      "cell_type": "code",
      "execution_count": 7,
      "metadata": {},
      "outputs": [
        {
          "data": {
            "text/plain": [
              "Idade                       int64\n",
              "Genero                     object\n",
              "Nivel Ensino               object\n",
              "Area Formacao              object\n",
              "Setor                      object\n",
              "Nivel                      object\n",
              "Faixa Salarial             object\n",
              "Anos experiencia           object\n",
              "Faixa Salarial – numero     int64\n",
              "Data ultimo aumento        object\n",
              "dtype: object"
            ]
          },
          "execution_count": 7,
          "metadata": {},
          "output_type": "execute_result"
        }
      ],
      "source": [
        "# Imprime o tipo de dado em cada coluna: object - variáveis categóricas; float64 e int64 - variáveis numéricas\n",
        "dados.dtypes"
      ]
    },
    {
      "cell_type": "code",
      "execution_count": 8,
      "metadata": {},
      "outputs": [],
      "source": [
        "# Coluna Data ultimo aumento está como varivável de texto. É preciso transformá-la para data\n",
        "# Função to_datetime do Pandas\n",
        "dados['Data ultimo aumento'] = pd.to_datetime(dados['Data ultimo aumento'])"
      ]
    },
    {
      "cell_type": "code",
      "execution_count": 9,
      "metadata": {},
      "outputs": [
        {
          "data": {
            "text/html": [
              "<div>\n",
              "<style scoped>\n",
              "    .dataframe tbody tr th:only-of-type {\n",
              "        vertical-align: middle;\n",
              "    }\n",
              "\n",
              "    .dataframe tbody tr th {\n",
              "        vertical-align: top;\n",
              "    }\n",
              "\n",
              "    .dataframe thead th {\n",
              "        text-align: right;\n",
              "    }\n",
              "</style>\n",
              "<table border=\"1\" class=\"dataframe\">\n",
              "  <thead>\n",
              "    <tr style=\"text-align: right;\">\n",
              "      <th></th>\n",
              "      <th>Idade</th>\n",
              "      <th>Genero</th>\n",
              "      <th>Nivel Ensino</th>\n",
              "      <th>Area Formacao</th>\n",
              "      <th>Setor</th>\n",
              "      <th>Nivel</th>\n",
              "      <th>Faixa Salarial</th>\n",
              "      <th>Anos experiencia</th>\n",
              "      <th>Faixa Salarial – numero</th>\n",
              "      <th>Data ultimo aumento</th>\n",
              "    </tr>\n",
              "  </thead>\n",
              "  <tbody>\n",
              "    <tr>\n",
              "      <th>0</th>\n",
              "      <td>38</td>\n",
              "      <td>Masculino</td>\n",
              "      <td>Pós-graduação</td>\n",
              "      <td>Química / Física</td>\n",
              "      <td>Marketing</td>\n",
              "      <td>Gestor</td>\n",
              "      <td>de R$ 4.001/mês a R$ 6.000/mês</td>\n",
              "      <td>Mais de 10 anos</td>\n",
              "      <td>6000</td>\n",
              "      <td>2021-02-01</td>\n",
              "    </tr>\n",
              "    <tr>\n",
              "      <th>1</th>\n",
              "      <td>39</td>\n",
              "      <td>Masculino</td>\n",
              "      <td>Pós-graduação</td>\n",
              "      <td>Economia/ Administração / Contabilidade / Fina...</td>\n",
              "      <td>Consultoria</td>\n",
              "      <td>Gestor</td>\n",
              "      <td>de R$ 6.001/mês a R$ 8.000/mês</td>\n",
              "      <td>de 2 a 3 anos</td>\n",
              "      <td>8000</td>\n",
              "      <td>2021-06-04</td>\n",
              "    </tr>\n",
              "    <tr>\n",
              "      <th>2</th>\n",
              "      <td>30</td>\n",
              "      <td>Masculino</td>\n",
              "      <td>Pós-graduação</td>\n",
              "      <td>Computação / Engenharia de Software / Sistemas...</td>\n",
              "      <td>Indústria</td>\n",
              "      <td>Gestor</td>\n",
              "      <td>de R$ 8.001/mês a R$ 12.000/mês</td>\n",
              "      <td>de 1 a 2 anos</td>\n",
              "      <td>12000</td>\n",
              "      <td>2023-04-15</td>\n",
              "    </tr>\n",
              "    <tr>\n",
              "      <th>3</th>\n",
              "      <td>38</td>\n",
              "      <td>Feminino</td>\n",
              "      <td>Pós-graduação</td>\n",
              "      <td>Outras</td>\n",
              "      <td>Serviços</td>\n",
              "      <td>Gestor</td>\n",
              "      <td>de R$ 12.001/mês a R$ 16.000/mês</td>\n",
              "      <td>Mais de 10 anos</td>\n",
              "      <td>16000</td>\n",
              "      <td>2021-04-06</td>\n",
              "    </tr>\n",
              "    <tr>\n",
              "      <th>4</th>\n",
              "      <td>36</td>\n",
              "      <td>Masculino</td>\n",
              "      <td>Pós-graduação</td>\n",
              "      <td>Outras Engenharias</td>\n",
              "      <td>Varejo</td>\n",
              "      <td>Gestor</td>\n",
              "      <td>de R$ 8.001/mês a R$ 12.000/mês</td>\n",
              "      <td>de 1 a 2 anos</td>\n",
              "      <td>12000</td>\n",
              "      <td>2023-03-22</td>\n",
              "    </tr>\n",
              "  </tbody>\n",
              "</table>\n",
              "</div>"
            ],
            "text/plain": [
              "   Idade     Genero   Nivel Ensino  \\\n",
              "0     38  Masculino  Pós-graduação   \n",
              "1     39  Masculino  Pós-graduação   \n",
              "2     30  Masculino  Pós-graduação   \n",
              "3     38   Feminino  Pós-graduação   \n",
              "4     36  Masculino  Pós-graduação   \n",
              "\n",
              "                                       Area Formacao        Setor   Nivel  \\\n",
              "0                                   Química / Física    Marketing  Gestor   \n",
              "1  Economia/ Administração / Contabilidade / Fina...  Consultoria  Gestor   \n",
              "2  Computação / Engenharia de Software / Sistemas...    Indústria  Gestor   \n",
              "3                                             Outras     Serviços  Gestor   \n",
              "4                                 Outras Engenharias       Varejo  Gestor   \n",
              "\n",
              "                     Faixa Salarial Anos experiencia  Faixa Salarial – numero  \\\n",
              "0    de R$ 4.001/mês a R$ 6.000/mês  Mais de 10 anos                     6000   \n",
              "1    de R$ 6.001/mês a R$ 8.000/mês    de 2 a 3 anos                     8000   \n",
              "2   de R$ 8.001/mês a R$ 12.000/mês    de 1 a 2 anos                    12000   \n",
              "3  de R$ 12.001/mês a R$ 16.000/mês  Mais de 10 anos                    16000   \n",
              "4   de R$ 8.001/mês a R$ 12.000/mês    de 1 a 2 anos                    12000   \n",
              "\n",
              "  Data ultimo aumento  \n",
              "0          2021-02-01  \n",
              "1          2021-06-04  \n",
              "2          2023-04-15  \n",
              "3          2021-04-06  \n",
              "4          2023-03-22  "
            ]
          },
          "execution_count": 9,
          "metadata": {},
          "output_type": "execute_result"
        }
      ],
      "source": [
        "# Verificando a alteração\n",
        "dados.head()"
      ]
    },
    {
      "cell_type": "code",
      "execution_count": 10,
      "metadata": {},
      "outputs": [],
      "source": [
        "# Criando categorias para separar colunas numéricas e categóricas: facilita a AED\n",
        "numericas_cols = [col for col in dados.columns if dados[col].dtype != 'object']\n",
        "categoricas_cols = [col for col in dados.columns if dados[col].dtype == 'object']"
      ]
    },
    {
      "cell_type": "code",
      "execution_count": 11,
      "metadata": {},
      "outputs": [
        {
          "data": {
            "text/html": [
              "<div>\n",
              "<style scoped>\n",
              "    .dataframe tbody tr th:only-of-type {\n",
              "        vertical-align: middle;\n",
              "    }\n",
              "\n",
              "    .dataframe tbody tr th {\n",
              "        vertical-align: top;\n",
              "    }\n",
              "\n",
              "    .dataframe thead th {\n",
              "        text-align: right;\n",
              "    }\n",
              "</style>\n",
              "<table border=\"1\" class=\"dataframe\">\n",
              "  <thead>\n",
              "    <tr style=\"text-align: right;\">\n",
              "      <th></th>\n",
              "      <th>Idade</th>\n",
              "      <th>Faixa Salarial – numero</th>\n",
              "      <th>Data ultimo aumento</th>\n",
              "    </tr>\n",
              "  </thead>\n",
              "  <tbody>\n",
              "    <tr>\n",
              "      <th>count</th>\n",
              "      <td>1385.000000</td>\n",
              "      <td>1385.000000</td>\n",
              "      <td>1385</td>\n",
              "    </tr>\n",
              "    <tr>\n",
              "      <th>mean</th>\n",
              "      <td>30.779783</td>\n",
              "      <td>9992.779783</td>\n",
              "      <td>2022-06-15 08:25:17.978339328</td>\n",
              "    </tr>\n",
              "    <tr>\n",
              "      <th>min</th>\n",
              "      <td>18.000000</td>\n",
              "      <td>1000.000000</td>\n",
              "      <td>2021-01-01 00:00:00</td>\n",
              "    </tr>\n",
              "    <tr>\n",
              "      <th>25%</th>\n",
              "      <td>26.000000</td>\n",
              "      <td>6000.000000</td>\n",
              "      <td>2021-09-19 00:00:00</td>\n",
              "    </tr>\n",
              "    <tr>\n",
              "      <th>50%</th>\n",
              "      <td>29.000000</td>\n",
              "      <td>8000.000000</td>\n",
              "      <td>2022-06-09 00:00:00</td>\n",
              "    </tr>\n",
              "    <tr>\n",
              "      <th>75%</th>\n",
              "      <td>34.000000</td>\n",
              "      <td>12000.000000</td>\n",
              "      <td>2023-03-05 00:00:00</td>\n",
              "    </tr>\n",
              "    <tr>\n",
              "      <th>max</th>\n",
              "      <td>54.000000</td>\n",
              "      <td>45000.000000</td>\n",
              "      <td>2023-12-28 00:00:00</td>\n",
              "    </tr>\n",
              "    <tr>\n",
              "      <th>std</th>\n",
              "      <td>6.869018</td>\n",
              "      <td>7353.675097</td>\n",
              "      <td>NaN</td>\n",
              "    </tr>\n",
              "  </tbody>\n",
              "</table>\n",
              "</div>"
            ],
            "text/plain": [
              "             Idade  Faixa Salarial – numero            Data ultimo aumento\n",
              "count  1385.000000              1385.000000                           1385\n",
              "mean     30.779783              9992.779783  2022-06-15 08:25:17.978339328\n",
              "min      18.000000              1000.000000            2021-01-01 00:00:00\n",
              "25%      26.000000              6000.000000            2021-09-19 00:00:00\n",
              "50%      29.000000              8000.000000            2022-06-09 00:00:00\n",
              "75%      34.000000             12000.000000            2023-03-05 00:00:00\n",
              "max      54.000000             45000.000000            2023-12-28 00:00:00\n",
              "std       6.869018              7353.675097                            NaN"
            ]
          },
          "execution_count": 11,
          "metadata": {},
          "output_type": "execute_result"
        }
      ],
      "source": [
        "# Resumo das variáveis numéricas - Imprime alguns valores de medidas de tendências centrais \n",
        "dados[numericas_cols].describe()"
      ]
    },
    {
      "cell_type": "code",
      "execution_count": 12,
      "metadata": {},
      "outputs": [
        {
          "data": {
            "text/html": [
              "<div>\n",
              "<style scoped>\n",
              "    .dataframe tbody tr th:only-of-type {\n",
              "        vertical-align: middle;\n",
              "    }\n",
              "\n",
              "    .dataframe tbody tr th {\n",
              "        vertical-align: top;\n",
              "    }\n",
              "\n",
              "    .dataframe thead th {\n",
              "        text-align: right;\n",
              "    }\n",
              "</style>\n",
              "<table border=\"1\" class=\"dataframe\">\n",
              "  <thead>\n",
              "    <tr style=\"text-align: right;\">\n",
              "      <th></th>\n",
              "      <th>Genero</th>\n",
              "      <th>Nivel Ensino</th>\n",
              "      <th>Area Formacao</th>\n",
              "      <th>Setor</th>\n",
              "      <th>Nivel</th>\n",
              "      <th>Faixa Salarial</th>\n",
              "      <th>Anos experiencia</th>\n",
              "    </tr>\n",
              "  </thead>\n",
              "  <tbody>\n",
              "    <tr>\n",
              "      <th>count</th>\n",
              "      <td>1385</td>\n",
              "      <td>1385</td>\n",
              "      <td>1361</td>\n",
              "      <td>1385</td>\n",
              "      <td>1385</td>\n",
              "      <td>1385</td>\n",
              "      <td>1385</td>\n",
              "    </tr>\n",
              "    <tr>\n",
              "      <th>unique</th>\n",
              "      <td>2</td>\n",
              "      <td>6</td>\n",
              "      <td>9</td>\n",
              "      <td>23</td>\n",
              "      <td>4</td>\n",
              "      <td>13</td>\n",
              "      <td>6</td>\n",
              "    </tr>\n",
              "    <tr>\n",
              "      <th>top</th>\n",
              "      <td>Masculino</td>\n",
              "      <td>Graduação/Bacharelado</td>\n",
              "      <td>Computação / Engenharia de Software / Sistemas...</td>\n",
              "      <td>Tecnologia/Fábrica de Software</td>\n",
              "      <td>Pleno</td>\n",
              "      <td>de R$ 8.001/mês a R$ 12.000/mês</td>\n",
              "      <td>de 2 a 3 anos</td>\n",
              "    </tr>\n",
              "    <tr>\n",
              "      <th>freq</th>\n",
              "      <td>979</td>\n",
              "      <td>495</td>\n",
              "      <td>588</td>\n",
              "      <td>372</td>\n",
              "      <td>440</td>\n",
              "      <td>295</td>\n",
              "      <td>314</td>\n",
              "    </tr>\n",
              "  </tbody>\n",
              "</table>\n",
              "</div>"
            ],
            "text/plain": [
              "           Genero           Nivel Ensino  \\\n",
              "count        1385                   1385   \n",
              "unique          2                      6   \n",
              "top     Masculino  Graduação/Bacharelado   \n",
              "freq          979                    495   \n",
              "\n",
              "                                            Area Formacao  \\\n",
              "count                                                1361   \n",
              "unique                                                  9   \n",
              "top     Computação / Engenharia de Software / Sistemas...   \n",
              "freq                                                  588   \n",
              "\n",
              "                                 Setor  Nivel  \\\n",
              "count                             1385   1385   \n",
              "unique                              23      4   \n",
              "top     Tecnologia/Fábrica de Software  Pleno   \n",
              "freq                               372    440   \n",
              "\n",
              "                         Faixa Salarial Anos experiencia  \n",
              "count                              1385             1385  \n",
              "unique                               13                6  \n",
              "top     de R$ 8.001/mês a R$ 12.000/mês    de 2 a 3 anos  \n",
              "freq                                295              314  "
            ]
          },
          "execution_count": 12,
          "metadata": {},
          "output_type": "execute_result"
        }
      ],
      "source": [
        "# Resumo das variáveis categóricas - Imprime alguns valores de estatística descritiva\n",
        "dados[categoricas_cols].describe()"
      ]
    },
    {
      "cell_type": "code",
      "execution_count": 13,
      "metadata": {},
      "outputs": [
        {
          "data": {
            "text/plain": [
              "Idade                      False\n",
              "Genero                     False\n",
              "Nivel Ensino               False\n",
              "Area Formacao               True\n",
              "Setor                      False\n",
              "Nivel                      False\n",
              "Faixa Salarial             False\n",
              "Anos experiencia           False\n",
              "Faixa Salarial – numero    False\n",
              "Data ultimo aumento        False\n",
              "dtype: bool"
            ]
          },
          "execution_count": 13,
          "metadata": {},
          "output_type": "execute_result"
        }
      ],
      "source": [
        "# Verificando se existem valores faltantes nos dados \n",
        "dados.isna().any()"
      ]
    },
    {
      "cell_type": "code",
      "execution_count": 14,
      "metadata": {},
      "outputs": [
        {
          "data": {
            "text/plain": [
              "Idade                       0\n",
              "Genero                      0\n",
              "Nivel Ensino                0\n",
              "Area Formacao              24\n",
              "Setor                       0\n",
              "Nivel                       0\n",
              "Faixa Salarial              0\n",
              "Anos experiencia            0\n",
              "Faixa Salarial – numero     0\n",
              "Data ultimo aumento         0\n",
              "dtype: int64"
            ]
          },
          "execution_count": 14,
          "metadata": {},
          "output_type": "execute_result"
        }
      ],
      "source": [
        "# Verificando a quantidade de valores faltantes por coluna\n",
        "dados.isna().sum()"
      ]
    },
    {
      "cell_type": "code",
      "execution_count": 15,
      "metadata": {},
      "outputs": [],
      "source": [
        "# Substituir os valores faltantes por \"Nada consta\". Argumento inplace = true significa que a modificação será aplicada  \n",
        "# Na mesma variável - chamada dados - sem precisar criar outra variável (dados_2, dados_V2, etc)\n",
        "dados['Area Formacao'].fillna('Nada Consta', inplace=True)"
      ]
    },
    {
      "cell_type": "code",
      "execution_count": 16,
      "metadata": {},
      "outputs": [],
      "source": [
        "# Como fazer para substituir pela média\n",
        "# dados['Faixa Salarial – numero'].fillna(dados['Faixa Salarial – numero'].mean(), inplace=True)"
      ]
    },
    {
      "cell_type": "code",
      "execution_count": 17,
      "metadata": {},
      "outputs": [],
      "source": [
        "# Ou então, podemos excluir a coluna com valor faltante, se não for relevante para a análise\n",
        "# dados.drop('Faixa Salarial – numero', axis=1, inplace=True)\n",
        "\n",
        "## axis = 1 - sentido da coluna; axis = 2 - sentido das linhas"
      ]
    },
    {
      "cell_type": "code",
      "execution_count": 18,
      "metadata": {},
      "outputs": [
        {
          "data": {
            "text/plain": [
              "Idade                      0\n",
              "Genero                     0\n",
              "Nivel Ensino               0\n",
              "Area Formacao              0\n",
              "Setor                      0\n",
              "Nivel                      0\n",
              "Faixa Salarial             0\n",
              "Anos experiencia           0\n",
              "Faixa Salarial – numero    0\n",
              "Data ultimo aumento        0\n",
              "dtype: int64"
            ]
          },
          "execution_count": 18,
          "metadata": {},
          "output_type": "execute_result"
        }
      ],
      "source": [
        "# Depois das correções, verificando se ainda há valores faltantes\n",
        "dados.isna().sum()"
      ]
    },
    {
      "cell_type": "code",
      "execution_count": 19,
      "metadata": {},
      "outputs": [
        {
          "data": {
            "text/plain": [
              "0"
            ]
          },
          "execution_count": 19,
          "metadata": {},
          "output_type": "execute_result"
        }
      ],
      "source": [
        "# Verificando se temos valores duplicados\n",
        "dados.duplicated().sum() "
      ]
    },
    {
      "cell_type": "code",
      "execution_count": 20,
      "metadata": {},
      "outputs": [],
      "source": [
        "# Removendo valores duplicados\n",
        "dados.drop_duplicates(inplace=True)"
      ]
    },
    {
      "cell_type": "code",
      "execution_count": 21,
      "metadata": {},
      "outputs": [
        {
          "data": {
            "text/plain": [
              "(1385, 10)"
            ]
          },
          "execution_count": 21,
          "metadata": {},
          "output_type": "execute_result"
        }
      ],
      "source": [
        "# nº de linhas e colunas após mudanças. Caso houvesse dados duplicados, o número de linhas seria reduzido\n",
        "dados.shape"
      ]
    },
    {
      "cell_type": "code",
      "execution_count": 22,
      "metadata": {},
      "outputs": [
        {
          "data": {
            "text/plain": [
              "Nivel\n",
              "Pleno     440\n",
              "Júnior    409\n",
              "Sênior    370\n",
              "Gestor    166\n",
              "Name: count, dtype: int64"
            ]
          },
          "execution_count": 22,
          "metadata": {},
          "output_type": "execute_result"
        }
      ],
      "source": [
        "# Contagem de valores por categoria de 'Nivel'\n",
        "dados['Nivel'].value_counts()"
      ]
    },
    {
      "cell_type": "code",
      "execution_count": 23,
      "metadata": {},
      "outputs": [
        {
          "data": {
            "text/plain": [
              "Faixa Salarial\n",
              "de R$ 8.001/mês a R$ 12.000/mês     295\n",
              "de R$ 6.001/mês a R$ 8.000/mês      255\n",
              "de R$ 4.001/mês a R$ 6.000/mês      242\n",
              "de R$ 12.001/mês a R$ 16.000/mês    140\n",
              "de R$ 3.001/mês a R$ 4.000/mês      113\n",
              "de R$ 2.001/mês a R$ 3000/mês       108\n",
              "de R$ 1.001/mês a R$ 2.000/mês       79\n",
              "de R$ 16.001/mês a R$ 20.000/mês     59\n",
              "de R$ 20.001/mês a R$ 25.000/mês     26\n",
              "de R$ 25.001/mês a R$ 30.000/mês     22\n",
              "Menos de R$ 1.000/mês                19\n",
              "de R$ 30.001/mês a R$ 40.000/mês     18\n",
              "Acima de R$ 40.001/mês                9\n",
              "Name: count, dtype: int64"
            ]
          },
          "execution_count": 23,
          "metadata": {},
          "output_type": "execute_result"
        }
      ],
      "source": [
        "# Contagem de valores por categoria de 'Faixa Salarial'\n",
        "dados['Faixa Salarial'].value_counts()"
      ]
    },
    {
      "cell_type": "code",
      "execution_count": 24,
      "metadata": {},
      "outputs": [],
      "source": [
        "# Criando uma nova coluna\n",
        "# Função para calcular a média salarial dos funcionários\n",
        "dados['Média Salarial'] = dados['Faixa Salarial – numero'].mean().round(0)"
      ]
    },
    {
      "cell_type": "code",
      "execution_count": 25,
      "metadata": {},
      "outputs": [
        {
          "data": {
            "text/html": [
              "<div>\n",
              "<style scoped>\n",
              "    .dataframe tbody tr th:only-of-type {\n",
              "        vertical-align: middle;\n",
              "    }\n",
              "\n",
              "    .dataframe tbody tr th {\n",
              "        vertical-align: top;\n",
              "    }\n",
              "\n",
              "    .dataframe thead th {\n",
              "        text-align: right;\n",
              "    }\n",
              "</style>\n",
              "<table border=\"1\" class=\"dataframe\">\n",
              "  <thead>\n",
              "    <tr style=\"text-align: right;\">\n",
              "      <th></th>\n",
              "      <th>Idade</th>\n",
              "      <th>Genero</th>\n",
              "      <th>Nivel Ensino</th>\n",
              "      <th>Area Formacao</th>\n",
              "      <th>Setor</th>\n",
              "      <th>Nivel</th>\n",
              "      <th>Faixa Salarial</th>\n",
              "      <th>Anos experiencia</th>\n",
              "      <th>Faixa Salarial – numero</th>\n",
              "      <th>Data ultimo aumento</th>\n",
              "      <th>Média Salarial</th>\n",
              "    </tr>\n",
              "  </thead>\n",
              "  <tbody>\n",
              "    <tr>\n",
              "      <th>0</th>\n",
              "      <td>38</td>\n",
              "      <td>Masculino</td>\n",
              "      <td>Pós-graduação</td>\n",
              "      <td>Química / Física</td>\n",
              "      <td>Marketing</td>\n",
              "      <td>Gestor</td>\n",
              "      <td>de R$ 4.001/mês a R$ 6.000/mês</td>\n",
              "      <td>Mais de 10 anos</td>\n",
              "      <td>6000</td>\n",
              "      <td>2021-02-01</td>\n",
              "      <td>9993.0</td>\n",
              "    </tr>\n",
              "    <tr>\n",
              "      <th>1</th>\n",
              "      <td>39</td>\n",
              "      <td>Masculino</td>\n",
              "      <td>Pós-graduação</td>\n",
              "      <td>Economia/ Administração / Contabilidade / Fina...</td>\n",
              "      <td>Consultoria</td>\n",
              "      <td>Gestor</td>\n",
              "      <td>de R$ 6.001/mês a R$ 8.000/mês</td>\n",
              "      <td>de 2 a 3 anos</td>\n",
              "      <td>8000</td>\n",
              "      <td>2021-06-04</td>\n",
              "      <td>9993.0</td>\n",
              "    </tr>\n",
              "    <tr>\n",
              "      <th>2</th>\n",
              "      <td>30</td>\n",
              "      <td>Masculino</td>\n",
              "      <td>Pós-graduação</td>\n",
              "      <td>Computação / Engenharia de Software / Sistemas...</td>\n",
              "      <td>Indústria</td>\n",
              "      <td>Gestor</td>\n",
              "      <td>de R$ 8.001/mês a R$ 12.000/mês</td>\n",
              "      <td>de 1 a 2 anos</td>\n",
              "      <td>12000</td>\n",
              "      <td>2023-04-15</td>\n",
              "      <td>9993.0</td>\n",
              "    </tr>\n",
              "    <tr>\n",
              "      <th>3</th>\n",
              "      <td>38</td>\n",
              "      <td>Feminino</td>\n",
              "      <td>Pós-graduação</td>\n",
              "      <td>Outras</td>\n",
              "      <td>Serviços</td>\n",
              "      <td>Gestor</td>\n",
              "      <td>de R$ 12.001/mês a R$ 16.000/mês</td>\n",
              "      <td>Mais de 10 anos</td>\n",
              "      <td>16000</td>\n",
              "      <td>2021-04-06</td>\n",
              "      <td>9993.0</td>\n",
              "    </tr>\n",
              "    <tr>\n",
              "      <th>4</th>\n",
              "      <td>36</td>\n",
              "      <td>Masculino</td>\n",
              "      <td>Pós-graduação</td>\n",
              "      <td>Outras Engenharias</td>\n",
              "      <td>Varejo</td>\n",
              "      <td>Gestor</td>\n",
              "      <td>de R$ 8.001/mês a R$ 12.000/mês</td>\n",
              "      <td>de 1 a 2 anos</td>\n",
              "      <td>12000</td>\n",
              "      <td>2023-03-22</td>\n",
              "      <td>9993.0</td>\n",
              "    </tr>\n",
              "  </tbody>\n",
              "</table>\n",
              "</div>"
            ],
            "text/plain": [
              "   Idade     Genero   Nivel Ensino  \\\n",
              "0     38  Masculino  Pós-graduação   \n",
              "1     39  Masculino  Pós-graduação   \n",
              "2     30  Masculino  Pós-graduação   \n",
              "3     38   Feminino  Pós-graduação   \n",
              "4     36  Masculino  Pós-graduação   \n",
              "\n",
              "                                       Area Formacao        Setor   Nivel  \\\n",
              "0                                   Química / Física    Marketing  Gestor   \n",
              "1  Economia/ Administração / Contabilidade / Fina...  Consultoria  Gestor   \n",
              "2  Computação / Engenharia de Software / Sistemas...    Indústria  Gestor   \n",
              "3                                             Outras     Serviços  Gestor   \n",
              "4                                 Outras Engenharias       Varejo  Gestor   \n",
              "\n",
              "                     Faixa Salarial Anos experiencia  Faixa Salarial – numero  \\\n",
              "0    de R$ 4.001/mês a R$ 6.000/mês  Mais de 10 anos                     6000   \n",
              "1    de R$ 6.001/mês a R$ 8.000/mês    de 2 a 3 anos                     8000   \n",
              "2   de R$ 8.001/mês a R$ 12.000/mês    de 1 a 2 anos                    12000   \n",
              "3  de R$ 12.001/mês a R$ 16.000/mês  Mais de 10 anos                    16000   \n",
              "4   de R$ 8.001/mês a R$ 12.000/mês    de 1 a 2 anos                    12000   \n",
              "\n",
              "  Data ultimo aumento  Média Salarial  \n",
              "0          2021-02-01          9993.0  \n",
              "1          2021-06-04          9993.0  \n",
              "2          2023-04-15          9993.0  \n",
              "3          2021-04-06          9993.0  \n",
              "4          2023-03-22          9993.0  "
            ]
          },
          "execution_count": 25,
          "metadata": {},
          "output_type": "execute_result"
        }
      ],
      "source": [
        "# Resultado após inserção de nova coluna\n",
        "dados.head()"
      ]
    },
    {
      "cell_type": "markdown",
      "metadata": {},
      "source": [
        "---\n",
        "## Parte 4: Visualização dos resultados"
      ]
    },
    {
      "cell_type": "markdown",
      "metadata": {
        "id": "jow4o6M-Sph8"
      },
      "source": [
        "#### O que queremos responder com esses dados?"
      ]
    },
    {
      "cell_type": "markdown",
      "metadata": {
        "id": "8XCjYK45Sph8"
      },
      "source": [
        "### 1. Distribuição do nº de funcionários por sexo, nível de senioridade e nível de formação"
      ]
    },
    {
      "cell_type": "markdown",
      "metadata": {
        "id": "CbJH6VQ6rRHx"
      },
      "source": [
        "Podemos fazer um gráfico com a distribuição de homens e mulheres"
      ]
    },
    {
      "cell_type": "code",
      "execution_count": 80,
      "metadata": {
        "colab": {
          "base_uri": "https://localhost:8080/"
        },
        "collapsed": true,
        "id": "PRJSP9xcSph9",
        "outputId": "8b516048-63e1-455c-c65f-0e70aeecf1db"
      },
      "outputs": [
        {
          "name": "stdout",
          "output_type": "stream",
          "text": [
            "Genero\n",
            "Masculino    979\n",
            "Feminino     406\n",
            "Name: count, dtype: int64\n"
          ]
        }
      ],
      "source": [
        "# Contagem do nº de homens e mulheres na empresa\n",
        "valores_contados_1 = dados['Genero'].value_counts()\n",
        "print(valores_contados_1)"
      ]
    },
    {
      "cell_type": "code",
      "execution_count": 81,
      "metadata": {
        "colab": {
          "base_uri": "https://localhost:8080/",
          "height": 314
        },
        "id": "OQwBJJqXh4Gi",
        "outputId": "a813a73a-9d94-4ea8-fab0-7ef99924e15a"
      },
      "outputs": [
        {
          "data": {
            "image/png": "[encoded data removed]",
            "text/plain": [
              "<Figure size 2000x1000 with 1 Axes>"
            ]
          },
          "metadata": {},
          "output_type": "display_data"
        }
      ],
      "source": [
        "# Gráfico da distribuição por gênero - plt é a biblioteca Matplotlib\n",
        "plt.figure(figsize=(20,10)) # Aumentar o tamanho da figura na saída dos dados\n",
        "grafico_1 = plt.bar(valores_contados_1.index, valores_contados_1.values) # Variavel Nivel Ensino no eixo X\n",
        "plt.title('Distribuição de funcionários - Homens e Mulheres') # plt.title para inserir título no gráfico\n",
        "plt.ylabel('Total de funcionários'); # # plt.ylabel para inserir título no gráfico\n",
        "plt.bar_label(grafico_1, size=10);"
      ]
    },
    {
      "cell_type": "markdown",
      "metadata": {
        "id": "uTzH-6EniFZT"
      },
      "source": [
        "Vamos gerar esse gráfico de um jeito mais bonito"
      ]
    },
    {
      "cell_type": "markdown",
      "metadata": {
        "id": "rMyBlTho7Lls"
      },
      "source": [
        "Link de palletes do seaborn: [Palettes](https://seaborn.pydata.org/tutorial/color_palettes.html?highlight=palette)"
      ]
    },
    {
      "cell_type": "code",
      "execution_count": 28,
      "metadata": {
        "colab": {
          "base_uri": "https://localhost:8080/",
          "height": 314
        },
        "id": "UtjSpUxBh80B",
        "outputId": "47841c65-6177-47fe-da53-ca5cba182882"
      },
      "outputs": [
        {
          "data": {
            "image/png": "[encoded data removed]",
            "text/plain": [
              "<Figure size 2000x1000 with 1 Axes>"
            ]
          },
          "metadata": {},
          "output_type": "display_data"
        }
      ],
      "source": [
        "# Gráfico da biblioteca sns - Seaborn\n",
        "\n",
        "# sns.countplot para criar gráfico de barras. Eixo X é a contagem (número de valores), eixo Y é a coluna de ordenação\n",
        "# index para ordenar os valores\n",
        "plt.figure(figsize=(20,10))\n",
        "sns.countplot(y=\"Genero\", data=dados, order=dados['Genero'].value_counts().index) \\\n",
        ".set_title(\"Distribuição de funcionários - Homens e Mulheres\"); # set.title para inserir nome do gráfico"
      ]
    },
    {
      "cell_type": "markdown",
      "metadata": {},
      "source": [
        "Agora, de acordo com o nível de formação"
      ]
    },
    {
      "cell_type": "code",
      "execution_count": 82,
      "metadata": {},
      "outputs": [
        {
          "name": "stdout",
          "output_type": "stream",
          "text": [
            "Nivel Ensino\n",
            "Graduação/Bacharelado         495\n",
            "Pós-graduação                 452\n",
            "Mestrado                      185\n",
            "Estudante de Graduação        173\n",
            "Doutorado ou Phd               56\n",
            "Não tenho graduação formal     24\n",
            "Name: count, dtype: int64\n"
          ]
        }
      ],
      "source": [
        "valores_contados_2 = dados['Nivel Ensino'].value_counts()\n",
        "print(valores_contados_2)"
      ]
    },
    {
      "cell_type": "code",
      "execution_count": 83,
      "metadata": {},
      "outputs": [
        {
          "data": {
            "image/png": "[encoded data removed]",
            "text/plain": [
              "<Figure size 2000x1000 with 1 Axes>"
            ]
          },
          "metadata": {},
          "output_type": "display_data"
        }
      ],
      "source": [
        "plt.figure(figsize=(20,10))\n",
        "grafico_2 = plt.bar(valores_contados_2.index, valores_contados_2.values) # Variavel Nivel Ensino no eixo X\n",
        "plt.title('Distribuição de funcionários por nível de formação') # Inserção do título\n",
        "plt.ylabel('Total de funcionários') # Rótulo do eixo Y\n",
        "plt.xticks(rotation=90); # xticks para indicar a rotação do texto no eixo X (90 graus)\n",
        "plt.bar_label(grafico_2, size=10);"
      ]
    },
    {
      "cell_type": "markdown",
      "metadata": {},
      "source": [
        "Agora por nível de senioridade"
      ]
    },
    {
      "cell_type": "code",
      "execution_count": 84,
      "metadata": {},
      "outputs": [
        {
          "name": "stdout",
          "output_type": "stream",
          "text": [
            "Nivel\n",
            "Pleno     440\n",
            "Júnior    409\n",
            "Sênior    370\n",
            "Gestor    166\n",
            "Name: count, dtype: int64\n"
          ]
        }
      ],
      "source": [
        "valores_contados_3 = dados['Nivel'].value_counts()\n",
        "print(valores_contados_3)"
      ]
    },
    {
      "cell_type": "code",
      "execution_count": 85,
      "metadata": {},
      "outputs": [
        {
          "data": {
            "image/png": "[encoded data removed]",
            "text/plain": [
              "<Figure size 2000x1000 with 1 Axes>"
            ]
          },
          "metadata": {},
          "output_type": "display_data"
        }
      ],
      "source": [
        "plt.figure(figsize=(20,10))\n",
        "grafico_3 = plt.bar(valores_contados_3.index, valores_contados_3.values) # Variavel Nivel Ensino no eixo X\n",
        "plt.title('Distribuição de funcionários por nível de senioridade')\n",
        "plt.ylabel('Total de funcionários')\n",
        "plt.xticks(rotation=90); # xticks para indicar a rotação do texto no eixo X (90 graus)\n",
        "plt.bar_label(grafico_3, size=10);"
      ]
    },
    {
      "cell_type": "markdown",
      "metadata": {
        "id": "9JXxTx3SSph_"
      },
      "source": [
        "---\n",
        "### 2. Evolução da média salarial ao longo do tempo, com base na data de último aumento"
      ]
    },
    {
      "cell_type": "code",
      "execution_count": 31,
      "metadata": {},
      "outputs": [],
      "source": [
        "# Criando uma coluna somente com o ano de aumento\n",
        "dados['Data ultimo aumento - Ano']=dados['Data ultimo aumento'].dt.year"
      ]
    },
    {
      "cell_type": "code",
      "execution_count": 32,
      "metadata": {},
      "outputs": [
        {
          "data": {
            "text/plain": [
              "Idade                                 int64\n",
              "Genero                               object\n",
              "Nivel Ensino                         object\n",
              "Area Formacao                        object\n",
              "Setor                                object\n",
              "Nivel                                object\n",
              "Faixa Salarial                       object\n",
              "Anos experiencia                     object\n",
              "Faixa Salarial – numero               int64\n",
              "Data ultimo aumento          datetime64[ns]\n",
              "Média Salarial                      float64\n",
              "Data ultimo aumento - Ano            object\n",
              "dtype: object"
            ]
          },
          "execution_count": 32,
          "metadata": {},
          "output_type": "execute_result"
        }
      ],
      "source": [
        "# Transformando a coluna ano em categoria\n",
        "dados['Data ultimo aumento - Ano'] = dados['Data ultimo aumento - Ano'].astype(str)\n",
        "dados.dtypes"
      ]
    },
    {
      "cell_type": "code",
      "execution_count": 33,
      "metadata": {},
      "outputs": [
        {
          "data": {
            "text/plain": [
              "Data ultimo aumento - Ano  Genero   \n",
              "2021                       Feminino      9695.0\n",
              "                           Masculino     9495.0\n",
              "2022                       Feminino      9331.0\n",
              "                           Masculino    11271.0\n",
              "2023                       Feminino      9440.0\n",
              "Name: Faixa Salarial – numero, dtype: float64"
            ]
          },
          "execution_count": 33,
          "metadata": {},
          "output_type": "execute_result"
        }
      ],
      "source": [
        "# Calculando a média por ano (coluna Data ultimo aumento - Ano) para saber se os salários aumentaram ou diminuíram entre 2021 e 2023\n",
        "media_salarial_ano = dados.groupby(['Data ultimo aumento - Ano', 'Genero'])['Faixa Salarial – numero'].mean().round(0) # round para arrendodar\n",
        "media_salarial_ano.head()"
      ]
    },
    {
      "cell_type": "code",
      "execution_count": 34,
      "metadata": {},
      "outputs": [
        {
          "data": {
            "text/html": [
              "<div>\n",
              "<style scoped>\n",
              "    .dataframe tbody tr th:only-of-type {\n",
              "        vertical-align: middle;\n",
              "    }\n",
              "\n",
              "    .dataframe tbody tr th {\n",
              "        vertical-align: top;\n",
              "    }\n",
              "\n",
              "    .dataframe thead th {\n",
              "        text-align: right;\n",
              "    }\n",
              "</style>\n",
              "<table border=\"1\" class=\"dataframe\">\n",
              "  <thead>\n",
              "    <tr style=\"text-align: right;\">\n",
              "      <th></th>\n",
              "      <th>Data ultimo aumento - Ano</th>\n",
              "      <th>Genero</th>\n",
              "      <th>Salario Medio</th>\n",
              "    </tr>\n",
              "  </thead>\n",
              "  <tbody>\n",
              "    <tr>\n",
              "      <th>0</th>\n",
              "      <td>2021</td>\n",
              "      <td>Feminino</td>\n",
              "      <td>9695.0</td>\n",
              "    </tr>\n",
              "    <tr>\n",
              "      <th>1</th>\n",
              "      <td>2021</td>\n",
              "      <td>Masculino</td>\n",
              "      <td>9495.0</td>\n",
              "    </tr>\n",
              "    <tr>\n",
              "      <th>2</th>\n",
              "      <td>2022</td>\n",
              "      <td>Feminino</td>\n",
              "      <td>9331.0</td>\n",
              "    </tr>\n",
              "    <tr>\n",
              "      <th>3</th>\n",
              "      <td>2022</td>\n",
              "      <td>Masculino</td>\n",
              "      <td>11271.0</td>\n",
              "    </tr>\n",
              "    <tr>\n",
              "      <th>4</th>\n",
              "      <td>2023</td>\n",
              "      <td>Feminino</td>\n",
              "      <td>9440.0</td>\n",
              "    </tr>\n",
              "  </tbody>\n",
              "</table>\n",
              "</div>"
            ],
            "text/plain": [
              "  Data ultimo aumento - Ano     Genero  Salario Medio\n",
              "0                      2021   Feminino         9695.0\n",
              "1                      2021  Masculino         9495.0\n",
              "2                      2022   Feminino         9331.0\n",
              "3                      2022  Masculino        11271.0\n",
              "4                      2023   Feminino         9440.0"
            ]
          },
          "execution_count": 34,
          "metadata": {},
          "output_type": "execute_result"
        }
      ],
      "source": [
        "# Utilizando a função reset_index para criar uma ordem e facilitar a criação do gráfico\n",
        "media_salarial_ano = media_salarial_ano.reset_index(name='Salario Medio')\n",
        "media_salarial_ano.head()"
      ]
    },
    {
      "cell_type": "code",
      "execution_count": 35,
      "metadata": {},
      "outputs": [
        {
          "data": {
            "image/png": "[encoded data removed]",
            "text/plain": [
              "<Figure size 2000x1000 with 1 Axes>"
            ]
          },
          "metadata": {},
          "output_type": "display_data"
        }
      ],
      "source": [
        "# Visualizando a média salarial por ano\n",
        "plt.figure(figsize=(20,10)) # Aumentar tamanho da imagem que será impressa na tela\n",
        "sns.barplot(x='Data ultimo aumento - Ano', y='Salario Medio', hue='Genero', data=media_salarial_ano, hue_order=['Masculino', 'Feminino'])\n",
        "plt.xticks(rotation=45);"
      ]
    },
    {
      "cell_type": "markdown",
      "metadata": {},
      "source": [
        "#### Houve um aumento médio no salário dos funcionários entre 2021 e 2022. Entre 2022 e 2023, houve uma queda"
      ]
    },
    {
      "cell_type": "markdown",
      "metadata": {},
      "source": [
        "---\n",
        "### 3. Distribuição salarial por nível de senioridade e gênero"
      ]
    },
    {
      "cell_type": "code",
      "execution_count": 36,
      "metadata": {},
      "outputs": [
        {
          "data": {
            "text/plain": [
              "Genero     Nivel \n",
              "Feminino   Júnior    134\n",
              "           Pleno     123\n",
              "           Sênior     88\n",
              "           Gestor     61\n",
              "Masculino  Pleno     317\n",
              "Name: count, dtype: int64"
            ]
          },
          "execution_count": 36,
          "metadata": {},
          "output_type": "execute_result"
        }
      ],
      "source": [
        "# Agrupamento por gênero e nível do cargo - Júnior, Pleno, Sênior e Gestão\n",
        "agrupamento_nivel_cargo = dados.groupby('Genero')['Nivel'].value_counts()\n",
        "agrupamento_nivel_cargo.head()"
      ]
    },
    {
      "cell_type": "code",
      "execution_count": 37,
      "metadata": {},
      "outputs": [
        {
          "data": {
            "text/plain": [
              "Genero     Nivel \n",
              "Feminino   Gestor    16491.803279\n",
              "           Júnior     4985.074627\n",
              "           Pleno      8910.569106\n",
              "           Sênior    12386.363636\n",
              "Masculino  Gestor    16514.285714\n",
              "Name: Faixa Salarial – numero, dtype: float64"
            ]
          },
          "execution_count": 37,
          "metadata": {},
          "output_type": "execute_result"
        }
      ],
      "source": [
        "# Cálculo da média por nível do cargo e gênero\n",
        "media_nivel_cargo = dados.groupby(['Genero', 'Nivel'])['Faixa Salarial – numero'].mean()\n",
        "media_nivel_cargo.head()"
      ]
    },
    {
      "cell_type": "code",
      "execution_count": 38,
      "metadata": {},
      "outputs": [
        {
          "data": {
            "text/html": [
              "<div>\n",
              "<style scoped>\n",
              "    .dataframe tbody tr th:only-of-type {\n",
              "        vertical-align: middle;\n",
              "    }\n",
              "\n",
              "    .dataframe tbody tr th {\n",
              "        vertical-align: top;\n",
              "    }\n",
              "\n",
              "    .dataframe thead th {\n",
              "        text-align: right;\n",
              "    }\n",
              "</style>\n",
              "<table border=\"1\" class=\"dataframe\">\n",
              "  <thead>\n",
              "    <tr style=\"text-align: right;\">\n",
              "      <th></th>\n",
              "      <th>Genero</th>\n",
              "      <th>Nivel</th>\n",
              "      <th>Salario Medio</th>\n",
              "    </tr>\n",
              "  </thead>\n",
              "  <tbody>\n",
              "    <tr>\n",
              "      <th>0</th>\n",
              "      <td>Feminino</td>\n",
              "      <td>Gestor</td>\n",
              "      <td>16491.803279</td>\n",
              "    </tr>\n",
              "    <tr>\n",
              "      <th>1</th>\n",
              "      <td>Feminino</td>\n",
              "      <td>Júnior</td>\n",
              "      <td>4985.074627</td>\n",
              "    </tr>\n",
              "    <tr>\n",
              "      <th>2</th>\n",
              "      <td>Feminino</td>\n",
              "      <td>Pleno</td>\n",
              "      <td>8910.569106</td>\n",
              "    </tr>\n",
              "    <tr>\n",
              "      <th>3</th>\n",
              "      <td>Feminino</td>\n",
              "      <td>Sênior</td>\n",
              "      <td>12386.363636</td>\n",
              "    </tr>\n",
              "    <tr>\n",
              "      <th>4</th>\n",
              "      <td>Masculino</td>\n",
              "      <td>Gestor</td>\n",
              "      <td>16514.285714</td>\n",
              "    </tr>\n",
              "  </tbody>\n",
              "</table>\n",
              "</div>"
            ],
            "text/plain": [
              "      Genero   Nivel  Salario Medio\n",
              "0   Feminino  Gestor   16491.803279\n",
              "1   Feminino  Júnior    4985.074627\n",
              "2   Feminino   Pleno    8910.569106\n",
              "3   Feminino  Sênior   12386.363636\n",
              "4  Masculino  Gestor   16514.285714"
            ]
          },
          "execution_count": 38,
          "metadata": {},
          "output_type": "execute_result"
        }
      ],
      "source": [
        "# Utilizando a função reset_index para criar uma ordem e facilitar a criação do gráfico\n",
        "media_nivel_cargo = media_nivel_cargo.reset_index(name='Salario Medio')\n",
        "media_nivel_cargo.head()"
      ]
    },
    {
      "cell_type": "code",
      "execution_count": 39,
      "metadata": {},
      "outputs": [
        {
          "data": {
            "image/png": "[encoded data removed]",
            "text/plain": [
              "<Figure size 2000x1000 with 1 Axes>"
            ]
          },
          "metadata": {},
          "output_type": "display_data"
        }
      ],
      "source": [
        "# Visualizando a média salarial por nível do cargo\n",
        "plt.figure(figsize=(20,10))\n",
        "sns.barplot(x='Nivel', y='Salario Medio', hue='Genero', data=media_nivel_cargo, hue_order=['Masculino', 'Feminino']);"
      ]
    },
    {
      "cell_type": "markdown",
      "metadata": {},
      "source": [
        "---\n",
        "### 4. Distribuição salarial por anos de experiência e gênero"
      ]
    },
    {
      "cell_type": "markdown",
      "metadata": {
        "id": "RchCPBck4PTl"
      },
      "source": [
        "### Vamos analisar os salários\n",
        "\n",
        "Primeiro vamos fazer um histograma para analisar a distribuição geral dos salários"
      ]
    },
    {
      "cell_type": "code",
      "execution_count": 40,
      "metadata": {
        "colab": {
          "base_uri": "https://localhost:8080/",
          "height": 282
        },
        "id": "hA6LYRLA3EOR",
        "outputId": "7a3a8e11-df9f-42a7-971b-cca0d3af05ad"
      },
      "outputs": [
        {
          "data": {
            "text/plain": [
              "<Axes: >"
            ]
          },
          "execution_count": 40,
          "metadata": {},
          "output_type": "execute_result"
        },
        {
          "data": {
            "image/png": "[encoded data removed]",
            "text/plain": [
              "<Figure size 640x480 with 1 Axes>"
            ]
          },
          "metadata": {},
          "output_type": "display_data"
        }
      ],
      "source": [
        "dados['Faixa Salarial – numero'].hist()"
      ]
    },
    {
      "cell_type": "code",
      "execution_count": 41,
      "metadata": {},
      "outputs": [
        {
          "data": {
            "text/plain": [
              "Genero    Anos experiencia\n",
              "Feminino  Menos de 1 ano      90\n",
              "          de 1 a 2 anos       87\n",
              "          de 2 a 3 anos       82\n",
              "          de 4 a 5 anos       70\n",
              "          de 6 a 10 anos      41\n",
              "Name: count, dtype: int64"
            ]
          },
          "execution_count": 41,
          "metadata": {},
          "output_type": "execute_result"
        }
      ],
      "source": [
        "# Agrupamento por gênero e anos de experiência\n",
        "agrupamento_anos_experiencia = dados.groupby('Genero')['Anos experiencia'].value_counts()\n",
        "agrupamento_anos_experiencia.head()"
      ]
    },
    {
      "cell_type": "code",
      "execution_count": 42,
      "metadata": {},
      "outputs": [
        {
          "data": {
            "text/plain": [
              "Genero    Anos experiencia\n",
              "Feminino  Mais de 10 anos     15083.333333\n",
              "          Menos de 1 ano       5388.888889\n",
              "          de 1 a 2 anos        7540.229885\n",
              "          de 2 a 3 anos        9512.195122\n",
              "          de 4 a 5 anos       11685.714286\n",
              "Name: Faixa Salarial – numero, dtype: float64"
            ]
          },
          "execution_count": 42,
          "metadata": {},
          "output_type": "execute_result"
        }
      ],
      "source": [
        "# Cálculo da média por anos de experiência e gênero\n",
        "media_anos_experiencia = dados.groupby(['Genero', 'Anos experiencia'])['Faixa Salarial – numero'].mean()\n",
        "media_anos_experiencia.head()"
      ]
    },
    {
      "cell_type": "code",
      "execution_count": 43,
      "metadata": {},
      "outputs": [
        {
          "data": {
            "text/html": [
              "<div>\n",
              "<style scoped>\n",
              "    .dataframe tbody tr th:only-of-type {\n",
              "        vertical-align: middle;\n",
              "    }\n",
              "\n",
              "    .dataframe tbody tr th {\n",
              "        vertical-align: top;\n",
              "    }\n",
              "\n",
              "    .dataframe thead th {\n",
              "        text-align: right;\n",
              "    }\n",
              "</style>\n",
              "<table border=\"1\" class=\"dataframe\">\n",
              "  <thead>\n",
              "    <tr style=\"text-align: right;\">\n",
              "      <th></th>\n",
              "      <th>Genero</th>\n",
              "      <th>Anos experiencia</th>\n",
              "      <th>Salario Medio</th>\n",
              "    </tr>\n",
              "  </thead>\n",
              "  <tbody>\n",
              "    <tr>\n",
              "      <th>0</th>\n",
              "      <td>Feminino</td>\n",
              "      <td>Mais de 10 anos</td>\n",
              "      <td>15083.333333</td>\n",
              "    </tr>\n",
              "    <tr>\n",
              "      <th>1</th>\n",
              "      <td>Feminino</td>\n",
              "      <td>Menos de 1 ano</td>\n",
              "      <td>5388.888889</td>\n",
              "    </tr>\n",
              "    <tr>\n",
              "      <th>2</th>\n",
              "      <td>Feminino</td>\n",
              "      <td>de 1 a 2 anos</td>\n",
              "      <td>7540.229885</td>\n",
              "    </tr>\n",
              "    <tr>\n",
              "      <th>3</th>\n",
              "      <td>Feminino</td>\n",
              "      <td>de 2 a 3 anos</td>\n",
              "      <td>9512.195122</td>\n",
              "    </tr>\n",
              "    <tr>\n",
              "      <th>4</th>\n",
              "      <td>Feminino</td>\n",
              "      <td>de 4 a 5 anos</td>\n",
              "      <td>11685.714286</td>\n",
              "    </tr>\n",
              "  </tbody>\n",
              "</table>\n",
              "</div>"
            ],
            "text/plain": [
              "     Genero Anos experiencia  Salario Medio\n",
              "0  Feminino  Mais de 10 anos   15083.333333\n",
              "1  Feminino   Menos de 1 ano    5388.888889\n",
              "2  Feminino    de 1 a 2 anos    7540.229885\n",
              "3  Feminino    de 2 a 3 anos    9512.195122\n",
              "4  Feminino    de 4 a 5 anos   11685.714286"
            ]
          },
          "execution_count": 43,
          "metadata": {},
          "output_type": "execute_result"
        }
      ],
      "source": [
        "# Utilizando a função reset_index para criar uma ordem e facilitar a criação do gráfico\n",
        "media_anos_experiencia = media_anos_experiencia.reset_index(name='Salario Medio')\n",
        "media_anos_experiencia.head()"
      ]
    },
    {
      "cell_type": "code",
      "execution_count": 44,
      "metadata": {},
      "outputs": [
        {
          "data": {
            "image/png": "[encoded data removed]",
            "text/plain": [
              "<Figure size 2000x1000 with 1 Axes>"
            ]
          },
          "metadata": {},
          "output_type": "display_data"
        }
      ],
      "source": [
        "# Visualizando a média salarial por nível do cargo\n",
        "plt.figure(figsize=(20,10))\n",
        "sns.barplot(x='Anos experiencia', y='Salario Medio', hue='Genero', data=media_anos_experiencia, hue_order=['Masculino', 'Feminino']);"
      ]
    },
    {
      "cell_type": "markdown",
      "metadata": {
        "id": "FhslXSQ7GS95"
      },
      "source": [
        "---\n",
        "## Parte 5: Organização dos dados para modelagem de machine learning"
      ]
    },
    {
      "cell_type": "markdown",
      "metadata": {},
      "source": [
        "#### Objetivo: predizer o valor do salário dos funcionários\n"
      ]
    },
    {
      "cell_type": "markdown",
      "metadata": {},
      "source": [
        "### 1. Análise da variável resposta (também chamada de target)"
      ]
    },
    {
      "cell_type": "markdown",
      "metadata": {},
      "source": [
        "Como tínhamos visto anteriomente, os casos de valores faltantes foram resolvidos: substituição por \"Nada consta\""
      ]
    },
    {
      "cell_type": "code",
      "execution_count": 45,
      "metadata": {},
      "outputs": [
        {
          "data": {
            "image/png": "[encoded data removed]",
            "text/plain": [
              "<Figure size 640x480 with 1 Axes>"
            ]
          },
          "metadata": {},
          "output_type": "display_data"
        }
      ],
      "source": [
        "sns.boxplot(dados['Faixa Salarial – numero']).set_title(\"Distribuição dos salários\");"
      ]
    },
    {
      "cell_type": "markdown",
      "metadata": {},
      "source": [
        "##### Com esse boxplot de distribuição dos salários, podemos notar que temos casos de salários altos, acima de 25 mil reais. São chamados valores outliers."
      ]
    },
    {
      "cell_type": "markdown",
      "metadata": {},
      "source": [
        "### 2. Divisão dos dados"
      ]
    },
    {
      "cell_type": "markdown",
      "metadata": {},
      "source": [
        "Para a divisão de dados, optou-se por:\n",
        "\n",
        "* Conjunto de Treinamento (X_train, y_train): Conjunto utilizado para treinar o modelo. Neste caso, 70% dos dados são selecionados para treinamento, conforme definido pela variável train_ratio.\n",
        "\n",
        "* Conjunto de Teste (X_test, y_test): Conjunto utilizado para avaliar o desempenho do modelo em dados não vistos durante o treinamento. Neste caso, 30% dos dados são reservados para teste\n"
      ]
    },
    {
      "cell_type": "markdown",
      "metadata": {},
      "source": [
        "Algoritmos de machine learning de Regressão não aceitam variáveis categóricas e, por isso, precisamos utilizar técnicas para converter as classes em números"
      ]
    },
    {
      "cell_type": "code",
      "execution_count": 46,
      "metadata": {},
      "outputs": [
        {
          "data": {
            "text/html": [
              "<div>\n",
              "<style scoped>\n",
              "    .dataframe tbody tr th:only-of-type {\n",
              "        vertical-align: middle;\n",
              "    }\n",
              "\n",
              "    .dataframe tbody tr th {\n",
              "        vertical-align: top;\n",
              "    }\n",
              "\n",
              "    .dataframe thead th {\n",
              "        text-align: right;\n",
              "    }\n",
              "</style>\n",
              "<table border=\"1\" class=\"dataframe\">\n",
              "  <thead>\n",
              "    <tr style=\"text-align: right;\">\n",
              "      <th></th>\n",
              "      <th>Idade</th>\n",
              "      <th>Genero</th>\n",
              "      <th>Nivel Ensino</th>\n",
              "      <th>Area Formacao</th>\n",
              "      <th>Setor</th>\n",
              "      <th>Nivel</th>\n",
              "      <th>Faixa Salarial</th>\n",
              "      <th>Anos experiencia</th>\n",
              "      <th>Faixa Salarial – numero</th>\n",
              "      <th>Data ultimo aumento</th>\n",
              "      <th>Média Salarial</th>\n",
              "      <th>Data ultimo aumento - Ano</th>\n",
              "    </tr>\n",
              "  </thead>\n",
              "  <tbody>\n",
              "    <tr>\n",
              "      <th>0</th>\n",
              "      <td>38</td>\n",
              "      <td>1</td>\n",
              "      <td>Pós-graduação</td>\n",
              "      <td>Química / Física</td>\n",
              "      <td>Marketing</td>\n",
              "      <td>Gestor</td>\n",
              "      <td>de R$ 4.001/mês a R$ 6.000/mês</td>\n",
              "      <td>Mais de 10 anos</td>\n",
              "      <td>6000</td>\n",
              "      <td>2021-02-01</td>\n",
              "      <td>9993.0</td>\n",
              "      <td>2021</td>\n",
              "    </tr>\n",
              "    <tr>\n",
              "      <th>1</th>\n",
              "      <td>39</td>\n",
              "      <td>1</td>\n",
              "      <td>Pós-graduação</td>\n",
              "      <td>Economia/ Administração / Contabilidade / Fina...</td>\n",
              "      <td>Consultoria</td>\n",
              "      <td>Gestor</td>\n",
              "      <td>de R$ 6.001/mês a R$ 8.000/mês</td>\n",
              "      <td>de 2 a 3 anos</td>\n",
              "      <td>8000</td>\n",
              "      <td>2021-06-04</td>\n",
              "      <td>9993.0</td>\n",
              "      <td>2021</td>\n",
              "    </tr>\n",
              "    <tr>\n",
              "      <th>2</th>\n",
              "      <td>30</td>\n",
              "      <td>1</td>\n",
              "      <td>Pós-graduação</td>\n",
              "      <td>Computação / Engenharia de Software / Sistemas...</td>\n",
              "      <td>Indústria</td>\n",
              "      <td>Gestor</td>\n",
              "      <td>de R$ 8.001/mês a R$ 12.000/mês</td>\n",
              "      <td>de 1 a 2 anos</td>\n",
              "      <td>12000</td>\n",
              "      <td>2023-04-15</td>\n",
              "      <td>9993.0</td>\n",
              "      <td>2023</td>\n",
              "    </tr>\n",
              "    <tr>\n",
              "      <th>3</th>\n",
              "      <td>38</td>\n",
              "      <td>0</td>\n",
              "      <td>Pós-graduação</td>\n",
              "      <td>Outras</td>\n",
              "      <td>Serviços</td>\n",
              "      <td>Gestor</td>\n",
              "      <td>de R$ 12.001/mês a R$ 16.000/mês</td>\n",
              "      <td>Mais de 10 anos</td>\n",
              "      <td>16000</td>\n",
              "      <td>2021-04-06</td>\n",
              "      <td>9993.0</td>\n",
              "      <td>2021</td>\n",
              "    </tr>\n",
              "    <tr>\n",
              "      <th>4</th>\n",
              "      <td>36</td>\n",
              "      <td>1</td>\n",
              "      <td>Pós-graduação</td>\n",
              "      <td>Outras Engenharias</td>\n",
              "      <td>Varejo</td>\n",
              "      <td>Gestor</td>\n",
              "      <td>de R$ 8.001/mês a R$ 12.000/mês</td>\n",
              "      <td>de 1 a 2 anos</td>\n",
              "      <td>12000</td>\n",
              "      <td>2023-03-22</td>\n",
              "      <td>9993.0</td>\n",
              "      <td>2023</td>\n",
              "    </tr>\n",
              "  </tbody>\n",
              "</table>\n",
              "</div>"
            ],
            "text/plain": [
              "   Idade  Genero   Nivel Ensino  \\\n",
              "0     38       1  Pós-graduação   \n",
              "1     39       1  Pós-graduação   \n",
              "2     30       1  Pós-graduação   \n",
              "3     38       0  Pós-graduação   \n",
              "4     36       1  Pós-graduação   \n",
              "\n",
              "                                       Area Formacao        Setor   Nivel  \\\n",
              "0                                   Química / Física    Marketing  Gestor   \n",
              "1  Economia/ Administração / Contabilidade / Fina...  Consultoria  Gestor   \n",
              "2  Computação / Engenharia de Software / Sistemas...    Indústria  Gestor   \n",
              "3                                             Outras     Serviços  Gestor   \n",
              "4                                 Outras Engenharias       Varejo  Gestor   \n",
              "\n",
              "                     Faixa Salarial Anos experiencia  Faixa Salarial – numero  \\\n",
              "0    de R$ 4.001/mês a R$ 6.000/mês  Mais de 10 anos                     6000   \n",
              "1    de R$ 6.001/mês a R$ 8.000/mês    de 2 a 3 anos                     8000   \n",
              "2   de R$ 8.001/mês a R$ 12.000/mês    de 1 a 2 anos                    12000   \n",
              "3  de R$ 12.001/mês a R$ 16.000/mês  Mais de 10 anos                    16000   \n",
              "4   de R$ 8.001/mês a R$ 12.000/mês    de 1 a 2 anos                    12000   \n",
              "\n",
              "  Data ultimo aumento  Média Salarial Data ultimo aumento - Ano  \n",
              "0          2021-02-01          9993.0                      2021  \n",
              "1          2021-06-04          9993.0                      2021  \n",
              "2          2023-04-15          9993.0                      2023  \n",
              "3          2021-04-06          9993.0                      2021  \n",
              "4          2023-03-22          9993.0                      2023  "
            ]
          },
          "execution_count": 46,
          "metadata": {},
          "output_type": "execute_result"
        }
      ],
      "source": [
        "# Coluna Gênero tem dois valores: Feminino e Masculino. Após aplicar a função abaixo, ficará com valores 0 e 1 (1 Masculino e 0 Feminino)\n",
        "dados['Genero'] = LabelEncoder().fit_transform(dados['Genero']) \n",
        "dados.head()"
      ]
    },
    {
      "cell_type": "markdown",
      "metadata": {},
      "source": [
        "Agora, transformando a coluna anos de experiência em numérica"
      ]
    },
    {
      "cell_type": "code",
      "execution_count": 47,
      "metadata": {},
      "outputs": [],
      "source": [
        "# Função para atribuir valores numéricos com base nos anos de experiência\n",
        "def atribuir_valor_numerico(categoria):\n",
        "    if categoria == 'Menos de 1 ano':\n",
        "        return 1\n",
        "    elif categoria == 'de 1 a 2 anos':\n",
        "        return 1.5\n",
        "    elif categoria == 'de 2 a 3 anos':\n",
        "        return 3.5\n",
        "    elif categoria == 'de 4 a 5 anos':\n",
        "        return 4.5\n",
        "    elif categoria == 'de 6 a 10 anos':\n",
        "        return 8\n",
        "    elif categoria == 'Mais de 10 anos':\n",
        "        return 15\n",
        "    else:\n",
        "        return None  # Caso queira lidar com categorias não mapeadas\n",
        "\n",
        "# Criar a nova coluna usando a função aplicada na coluna 'Anos experiencia'\n",
        "dados['Anos experiencia - numerico'] = dados['Anos experiencia'].apply(atribuir_valor_numerico)"
      ]
    },
    {
      "cell_type": "code",
      "execution_count": 48,
      "metadata": {},
      "outputs": [
        {
          "data": {
            "text/plain": [
              "Index(['Idade', 'Genero', 'Nivel Ensino', 'Area Formacao', 'Setor', 'Nivel',\n",
              "       'Faixa Salarial', 'Anos experiencia', 'Faixa Salarial – numero',\n",
              "       'Data ultimo aumento', 'Média Salarial', 'Data ultimo aumento - Ano',\n",
              "       'Anos experiencia - numerico'],\n",
              "      dtype='object')"
            ]
          },
          "execution_count": 48,
          "metadata": {},
          "output_type": "execute_result"
        }
      ],
      "source": [
        "# Nome das colunas\n",
        "dados.columns"
      ]
    },
    {
      "cell_type": "code",
      "execution_count": 49,
      "metadata": {},
      "outputs": [
        {
          "data": {
            "text/html": [
              "<div>\n",
              "<style scoped>\n",
              "    .dataframe tbody tr th:only-of-type {\n",
              "        vertical-align: middle;\n",
              "    }\n",
              "\n",
              "    .dataframe tbody tr th {\n",
              "        vertical-align: top;\n",
              "    }\n",
              "\n",
              "    .dataframe thead th {\n",
              "        text-align: right;\n",
              "    }\n",
              "</style>\n",
              "<table border=\"1\" class=\"dataframe\">\n",
              "  <thead>\n",
              "    <tr style=\"text-align: right;\">\n",
              "      <th></th>\n",
              "      <th>Idade</th>\n",
              "      <th>Genero</th>\n",
              "      <th>Faixa Salarial – numero</th>\n",
              "      <th>Anos experiencia - numerico</th>\n",
              "    </tr>\n",
              "  </thead>\n",
              "  <tbody>\n",
              "    <tr>\n",
              "      <th>0</th>\n",
              "      <td>38</td>\n",
              "      <td>1</td>\n",
              "      <td>6000</td>\n",
              "      <td>15.0</td>\n",
              "    </tr>\n",
              "    <tr>\n",
              "      <th>1</th>\n",
              "      <td>39</td>\n",
              "      <td>1</td>\n",
              "      <td>8000</td>\n",
              "      <td>3.5</td>\n",
              "    </tr>\n",
              "    <tr>\n",
              "      <th>2</th>\n",
              "      <td>30</td>\n",
              "      <td>1</td>\n",
              "      <td>12000</td>\n",
              "      <td>1.5</td>\n",
              "    </tr>\n",
              "    <tr>\n",
              "      <th>3</th>\n",
              "      <td>38</td>\n",
              "      <td>0</td>\n",
              "      <td>16000</td>\n",
              "      <td>15.0</td>\n",
              "    </tr>\n",
              "    <tr>\n",
              "      <th>4</th>\n",
              "      <td>36</td>\n",
              "      <td>1</td>\n",
              "      <td>12000</td>\n",
              "      <td>1.5</td>\n",
              "    </tr>\n",
              "  </tbody>\n",
              "</table>\n",
              "</div>"
            ],
            "text/plain": [
              "   Idade  Genero  Faixa Salarial – numero  Anos experiencia - numerico\n",
              "0     38       1                     6000                         15.0\n",
              "1     39       1                     8000                          3.5\n",
              "2     30       1                    12000                          1.5\n",
              "3     38       0                    16000                         15.0\n",
              "4     36       1                    12000                          1.5"
            ]
          },
          "execution_count": 49,
          "metadata": {},
          "output_type": "execute_result"
        }
      ],
      "source": [
        "# Variável dados_num contém apenas variáveis numéricas de interesse (exclui o restante)\n",
        "dados_num = dados.drop(['Nivel Ensino', 'Area Formacao', 'Setor', 'Nivel',\n",
        "       'Faixa Salarial', 'Anos experiencia',\n",
        "       'Data ultimo aumento', 'Média Salarial', 'Data ultimo aumento - Ano'],axis = 1)\n",
        "dados_num.head()"
      ]
    },
    {
      "cell_type": "code",
      "execution_count": 50,
      "metadata": {},
      "outputs": [
        {
          "data": {
            "image/png": "[encoded data removed]",
            "text/plain": [
              "<Figure size 640x480 with 2 Axes>"
            ]
          },
          "metadata": {},
          "output_type": "display_data"
        }
      ],
      "source": [
        "# Mapa de correlação das variáveis numéricas com variável Target\n",
        "sns.heatmap(dados_num.corr(\"spearman\"), annot = True)\n",
        "plt.title(\"Mapa de Correlação das Variáveis Numéricas\\n\", fontsize = 15)\n",
        "plt.show()"
      ]
    },
    {
      "cell_type": "code",
      "execution_count": 51,
      "metadata": {},
      "outputs": [
        {
          "data": {
            "text/html": [
              "<div>\n",
              "<style scoped>\n",
              "    .dataframe tbody tr th:only-of-type {\n",
              "        vertical-align: middle;\n",
              "    }\n",
              "\n",
              "    .dataframe tbody tr th {\n",
              "        vertical-align: top;\n",
              "    }\n",
              "\n",
              "    .dataframe thead th {\n",
              "        text-align: right;\n",
              "    }\n",
              "</style>\n",
              "<table border=\"1\" class=\"dataframe\">\n",
              "  <thead>\n",
              "    <tr style=\"text-align: right;\">\n",
              "      <th></th>\n",
              "      <th>Idade</th>\n",
              "      <th>Genero</th>\n",
              "      <th>Anos experiencia - numerico</th>\n",
              "    </tr>\n",
              "  </thead>\n",
              "  <tbody>\n",
              "    <tr>\n",
              "      <th>0</th>\n",
              "      <td>38</td>\n",
              "      <td>1</td>\n",
              "      <td>15.0</td>\n",
              "    </tr>\n",
              "    <tr>\n",
              "      <th>1</th>\n",
              "      <td>39</td>\n",
              "      <td>1</td>\n",
              "      <td>3.5</td>\n",
              "    </tr>\n",
              "    <tr>\n",
              "      <th>2</th>\n",
              "      <td>30</td>\n",
              "      <td>1</td>\n",
              "      <td>1.5</td>\n",
              "    </tr>\n",
              "    <tr>\n",
              "      <th>3</th>\n",
              "      <td>38</td>\n",
              "      <td>0</td>\n",
              "      <td>15.0</td>\n",
              "    </tr>\n",
              "    <tr>\n",
              "      <th>4</th>\n",
              "      <td>36</td>\n",
              "      <td>1</td>\n",
              "      <td>1.5</td>\n",
              "    </tr>\n",
              "  </tbody>\n",
              "</table>\n",
              "</div>"
            ],
            "text/plain": [
              "   Idade  Genero  Anos experiencia - numerico\n",
              "0     38       1                         15.0\n",
              "1     39       1                          3.5\n",
              "2     30       1                          1.5\n",
              "3     38       0                         15.0\n",
              "4     36       1                          1.5"
            ]
          },
          "execution_count": 51,
          "metadata": {},
          "output_type": "execute_result"
        }
      ],
      "source": [
        "# Variável X contém apenas variáveis numéricas de interesse para a análise, excluindo a variável target \n",
        "X = dados_num.drop(['Faixa Salarial – numero'],axis = 1)\n",
        "X.head()"
      ]
    },
    {
      "cell_type": "code",
      "execution_count": 52,
      "metadata": {},
      "outputs": [
        {
          "data": {
            "text/plain": [
              "0     6000\n",
              "1     8000\n",
              "2    12000\n",
              "3    16000\n",
              "4    12000\n",
              "Name: Faixa Salarial – numero, dtype: int64"
            ]
          },
          "execution_count": 52,
          "metadata": {},
          "output_type": "execute_result"
        }
      ],
      "source": [
        "# Variável Y contém apenas a variável target - Faixa Salarial\n",
        "Y = dados_num['Faixa Salarial – numero']\n",
        "Y.head()"
      ]
    },
    {
      "cell_type": "code",
      "execution_count": 53,
      "metadata": {},
      "outputs": [],
      "source": [
        "# Divisão: 30% dos dados são de teste e 70% de treinamento\n",
        "X_train, X_test, Y_train, Y_test = train_test_split(X, Y, test_size = 0.30, random_state = 42)"
      ]
    },
    {
      "cell_type": "code",
      "execution_count": 54,
      "metadata": {},
      "outputs": [
        {
          "name": "stdout",
          "output_type": "stream",
          "text": [
            "(969, 3)\n"
          ]
        },
        {
          "data": {
            "text/html": [
              "<div>\n",
              "<style scoped>\n",
              "    .dataframe tbody tr th:only-of-type {\n",
              "        vertical-align: middle;\n",
              "    }\n",
              "\n",
              "    .dataframe tbody tr th {\n",
              "        vertical-align: top;\n",
              "    }\n",
              "\n",
              "    .dataframe thead th {\n",
              "        text-align: right;\n",
              "    }\n",
              "</style>\n",
              "<table border=\"1\" class=\"dataframe\">\n",
              "  <thead>\n",
              "    <tr style=\"text-align: right;\">\n",
              "      <th></th>\n",
              "      <th>Idade</th>\n",
              "      <th>Genero</th>\n",
              "      <th>Anos experiencia - numerico</th>\n",
              "    </tr>\n",
              "  </thead>\n",
              "  <tbody>\n",
              "    <tr>\n",
              "      <th>772</th>\n",
              "      <td>31</td>\n",
              "      <td>1</td>\n",
              "      <td>8.0</td>\n",
              "    </tr>\n",
              "  </tbody>\n",
              "</table>\n",
              "</div>"
            ],
            "text/plain": [
              "     Idade  Genero  Anos experiencia - numerico\n",
              "772     31       1                          8.0"
            ]
          },
          "execution_count": 54,
          "metadata": {},
          "output_type": "execute_result"
        }
      ],
      "source": [
        "# Observando os dados de treinamento\n",
        "print(X_train.shape)\n",
        "X_train.head(1)"
      ]
    },
    {
      "cell_type": "code",
      "execution_count": 55,
      "metadata": {},
      "outputs": [
        {
          "name": "stdout",
          "output_type": "stream",
          "text": [
            "(416, 3)\n"
          ]
        },
        {
          "data": {
            "text/html": [
              "<div>\n",
              "<style scoped>\n",
              "    .dataframe tbody tr th:only-of-type {\n",
              "        vertical-align: middle;\n",
              "    }\n",
              "\n",
              "    .dataframe tbody tr th {\n",
              "        vertical-align: top;\n",
              "    }\n",
              "\n",
              "    .dataframe thead th {\n",
              "        text-align: right;\n",
              "    }\n",
              "</style>\n",
              "<table border=\"1\" class=\"dataframe\">\n",
              "  <thead>\n",
              "    <tr style=\"text-align: right;\">\n",
              "      <th></th>\n",
              "      <th>Idade</th>\n",
              "      <th>Genero</th>\n",
              "      <th>Anos experiencia - numerico</th>\n",
              "    </tr>\n",
              "  </thead>\n",
              "  <tbody>\n",
              "    <tr>\n",
              "      <th>1128</th>\n",
              "      <td>25</td>\n",
              "      <td>1</td>\n",
              "      <td>1.5</td>\n",
              "    </tr>\n",
              "  </tbody>\n",
              "</table>\n",
              "</div>"
            ],
            "text/plain": [
              "      Idade  Genero  Anos experiencia - numerico\n",
              "1128     25       1                          1.5"
            ]
          },
          "execution_count": 55,
          "metadata": {},
          "output_type": "execute_result"
        }
      ],
      "source": [
        "# Observando os dados de teste\n",
        "print(X_test.shape)\n",
        "X_test.head(1)"
      ]
    },
    {
      "cell_type": "code",
      "execution_count": 56,
      "metadata": {},
      "outputs": [
        {
          "data": {
            "text/plain": [
              "1128     4000\n",
              "237      3000\n",
              "163     12000\n",
              "739     12000\n",
              "51      12000\n",
              "Name: Faixa Salarial – numero, dtype: int64"
            ]
          },
          "execution_count": 56,
          "metadata": {},
          "output_type": "execute_result"
        }
      ],
      "source": [
        "# Observando a variável target\n",
        "Y_test.head()"
      ]
    },
    {
      "cell_type": "markdown",
      "metadata": {},
      "source": [
        "### 3. Treinamento do modelo"
      ]
    },
    {
      "cell_type": "markdown",
      "metadata": {},
      "source": [
        "#### Aqui vamos treinar 2 modelos, sendo a variável target o salário e as variáveis de entrada Idade, Gênero e Anos de Experiência \n",
        "- Random Forest - combina a saída de múltiplas árvores de decisão para chegar a um único resultado\n",
        "- XGBoost - significa “eXtreme Gradient Boosting”. Essa técnica é baseada no conceito de boosting, que consiste em combinar vários modelos fracos para criar um modelo forte"
      ]
    },
    {
      "cell_type": "markdown",
      "metadata": {},
      "source": [
        "#### 3.1 Random Forest"
      ]
    },
    {
      "cell_type": "code",
      "execution_count": 57,
      "metadata": {},
      "outputs": [],
      "source": [
        "# Algoritmo Random Forest, sem especificar nenhum parâmetro (número de árvores, número de ramificações, etc)\n",
        "model_rf = RandomForestRegressor()"
      ]
    },
    {
      "cell_type": "code",
      "execution_count": 58,
      "metadata": {},
      "outputs": [
        {
          "data": {
            "text/html": [
              "<style>#sk-container-id-1 {\n",
              "  /* Definition of color scheme common for light and dark mode */\n",
              "  --sklearn-color-text: black;\n",
              "  --sklearn-color-line: gray;\n",
              "  /* Definition of color scheme for unfitted estimators */\n",
              "  --sklearn-color-unfitted-level-0: #fff5e6;\n",
              "  --sklearn-color-unfitted-level-1: #f6e4d2;\n",
              "  --sklearn-color-unfitted-level-2: #ffe0b3;\n",
              "  --sklearn-color-unfitted-level-3: chocolate;\n",
              "  /* Definition of color scheme for fitted estimators */\n",
              "  --sklearn-color-fitted-level-0: #f0f8ff;\n",
              "  --sklearn-color-fitted-level-1: #d4ebff;\n",
              "  --sklearn-color-fitted-level-2: #b3dbfd;\n",
              "  --sklearn-color-fitted-level-3: cornflowerblue;\n",
              "\n",
              "  /* Specific color for light theme */\n",
              "  --sklearn-color-text-on-default-background: var(--sg-text-color, var(--theme-code-foreground, var(--jp-content-font-color1, black)));\n",
              "  --sklearn-color-background: var(--sg-background-color, var(--theme-background, var(--jp-layout-color0, white)));\n",
              "  --sklearn-color-border-box: var(--sg-text-color, var(--theme-code-foreground, var(--jp-content-font-color1, black)));\n",
              "  --sklearn-color-icon: #696969;\n",
              "\n",
              "  @media (prefers-color-scheme: dark) {\n",
              "    /* Redefinition of color scheme for dark theme */\n",
              "    --sklearn-color-text-on-default-background: var(--sg-text-color, var(--theme-code-foreground, var(--jp-content-font-color1, white)));\n",
              "    --sklearn-color-background: var(--sg-background-color, var(--theme-background, var(--jp-layout-color0, #111)));\n",
              "    --sklearn-color-border-box: var(--sg-text-color, var(--theme-code-foreground, var(--jp-content-font-color1, white)));\n",
              "    --sklearn-color-icon: #878787;\n",
              "  }\n",
              "}\n",
              "\n",
              "#sk-container-id-1 {\n",
              "  color: var(--sklearn-color-text);\n",
              "}\n",
              "\n",
              "#sk-container-id-1 pre {\n",
              "  padding: 0;\n",
              "}\n",
              "\n",
              "#sk-container-id-1 input.sk-hidden--visually {\n",
              "  border: 0;\n",
              "  clip: rect(1px 1px 1px 1px);\n",
              "  clip: rect(1px, 1px, 1px, 1px);\n",
              "  height: 1px;\n",
              "  margin: -1px;\n",
              "  overflow: hidden;\n",
              "  padding: 0;\n",
              "  position: absolute;\n",
              "  width: 1px;\n",
              "}\n",
              "\n",
              "#sk-container-id-1 div.sk-dashed-wrapped {\n",
              "  border: 1px dashed var(--sklearn-color-line);\n",
              "  margin: 0 0.4em 0.5em 0.4em;\n",
              "  box-sizing: border-box;\n",
              "  padding-bottom: 0.4em;\n",
              "  background-color: var(--sklearn-color-background);\n",
              "}\n",
              "\n",
              "#sk-container-id-1 div.sk-container {\n",
              "  /* jupyter's `normalize.less` sets `[hidden] { display: none; }`\n",
              "     but bootstrap.min.css set `[hidden] { display: none !important; }`\n",
              "     so we also need the `!important` here to be able to override the\n",
              "     default hidden behavior on the sphinx rendered scikit-learn.org.\n",
              "     See: https://github.com/scikit-learn/scikit-learn/issues/21755 */\n",
              "  display: inline-block !important;\n",
              "  position: relative;\n",
              "}\n",
              "\n",
              "#sk-container-id-1 div.sk-text-repr-fallback {\n",
              "  display: none;\n",
              "}\n",
              "\n",
              "div.sk-parallel-item,\n",
              "div.sk-serial,\n",
              "div.sk-item {\n",
              "  /* draw centered vertical line to link estimators */\n",
              "  background-image: linear-gradient(var(--sklearn-color-text-on-default-background), var(--sklearn-color-text-on-default-background));\n",
              "  background-size: 2px 100%;\n",
              "  background-repeat: no-repeat;\n",
              "  background-position: center center;\n",
              "}\n",
              "\n",
              "/* Parallel-specific style estimator block */\n",
              "\n",
              "#sk-container-id-1 div.sk-parallel-item::after {\n",
              "  content: \"\";\n",
              "  width: 100%;\n",
              "  border-bottom: 2px solid var(--sklearn-color-text-on-default-background);\n",
              "  flex-grow: 1;\n",
              "}\n",
              "\n",
              "#sk-container-id-1 div.sk-parallel {\n",
              "  display: flex;\n",
              "  align-items: stretch;\n",
              "  justify-content: center;\n",
              "  background-color: var(--sklearn-color-background);\n",
              "  position: relative;\n",
              "}\n",
              "\n",
              "#sk-container-id-1 div.sk-parallel-item {\n",
              "  display: flex;\n",
              "  flex-direction: column;\n",
              "}\n",
              "\n",
              "#sk-container-id-1 div.sk-parallel-item:first-child::after {\n",
              "  align-self: flex-end;\n",
              "  width: 50%;\n",
              "}\n",
              "\n",
              "#sk-container-id-1 div.sk-parallel-item:last-child::after {\n",
              "  align-self: flex-start;\n",
              "  width: 50%;\n",
              "}\n",
              "\n",
              "#sk-container-id-1 div.sk-parallel-item:only-child::after {\n",
              "  width: 0;\n",
              "}\n",
              "\n",
              "/* Serial-specific style estimator block */\n",
              "\n",
              "#sk-container-id-1 div.sk-serial {\n",
              "  display: flex;\n",
              "  flex-direction: column;\n",
              "  align-items: center;\n",
              "  background-color: var(--sklearn-color-background);\n",
              "  padding-right: 1em;\n",
              "  padding-left: 1em;\n",
              "}\n",
              "\n",
              "\n",
              "/* Toggleable style: style used for estimator/Pipeline/ColumnTransformer box that is\n",
              "clickable and can be expanded/collapsed.\n",
              "- Pipeline and ColumnTransformer use this feature and define the default style\n",
              "- Estimators will overwrite some part of the style using the `sk-estimator` class\n",
              "*/\n",
              "\n",
              "/* Pipeline and ColumnTransformer style (default) */\n",
              "\n",
              "#sk-container-id-1 div.sk-toggleable {\n",
              "  /* Default theme specific background. It is overwritten whether we have a\n",
              "  specific estimator or a Pipeline/ColumnTransformer */\n",
              "  background-color: var(--sklearn-color-background);\n",
              "}\n",
              "\n",
              "/* Toggleable label */\n",
              "#sk-container-id-1 label.sk-toggleable__label {\n",
              "  cursor: pointer;\n",
              "  display: block;\n",
              "  width: 100%;\n",
              "  margin-bottom: 0;\n",
              "  padding: 0.5em;\n",
              "  box-sizing: border-box;\n",
              "  text-align: center;\n",
              "}\n",
              "\n",
              "#sk-container-id-1 label.sk-toggleable__label-arrow:before {\n",
              "  /* Arrow on the left of the label */\n",
              "  content: \"▸\";\n",
              "  float: left;\n",
              "  margin-right: 0.25em;\n",
              "  color: var(--sklearn-color-icon);\n",
              "}\n",
              "\n",
              "#sk-container-id-1 label.sk-toggleable__label-arrow:hover:before {\n",
              "  color: var(--sklearn-color-text);\n",
              "}\n",
              "\n",
              "/* Toggleable content - dropdown */\n",
              "\n",
              "#sk-container-id-1 div.sk-toggleable__content {\n",
              "  max-height: 0;\n",
              "  max-width: 0;\n",
              "  overflow: hidden;\n",
              "  text-align: left;\n",
              "  /* unfitted */\n",
              "  background-color: var(--sklearn-color-unfitted-level-0);\n",
              "}\n",
              "\n",
              "#sk-container-id-1 div.sk-toggleable__content.fitted {\n",
              "  /* fitted */\n",
              "  background-color: var(--sklearn-color-fitted-level-0);\n",
              "}\n",
              "\n",
              "#sk-container-id-1 div.sk-toggleable__content pre {\n",
              "  margin: 0.2em;\n",
              "  border-radius: 0.25em;\n",
              "  color: var(--sklearn-color-text);\n",
              "  /* unfitted */\n",
              "  background-color: var(--sklearn-color-unfitted-level-0);\n",
              "}\n",
              "\n",
              "#sk-container-id-1 div.sk-toggleable__content.fitted pre {\n",
              "  /* unfitted */\n",
              "  background-color: var(--sklearn-color-fitted-level-0);\n",
              "}\n",
              "\n",
              "#sk-container-id-1 input.sk-toggleable__control:checked~div.sk-toggleable__content {\n",
              "  /* Expand drop-down */\n",
              "  max-height: 200px;\n",
              "  max-width: 100%;\n",
              "  overflow: auto;\n",
              "}\n",
              "\n",
              "#sk-container-id-1 input.sk-toggleable__control:checked~label.sk-toggleable__label-arrow:before {\n",
              "  content: \"▾\";\n",
              "}\n",
              "\n",
              "/* Pipeline/ColumnTransformer-specific style */\n",
              "\n",
              "#sk-container-id-1 div.sk-label input.sk-toggleable__control:checked~label.sk-toggleable__label {\n",
              "  color: var(--sklearn-color-text);\n",
              "  background-color: var(--sklearn-color-unfitted-level-2);\n",
              "}\n",
              "\n",
              "#sk-container-id-1 div.sk-label.fitted input.sk-toggleable__control:checked~label.sk-toggleable__label {\n",
              "  background-color: var(--sklearn-color-fitted-level-2);\n",
              "}\n",
              "\n",
              "/* Estimator-specific style */\n",
              "\n",
              "/* Colorize estimator box */\n",
              "#sk-container-id-1 div.sk-estimator input.sk-toggleable__control:checked~label.sk-toggleable__label {\n",
              "  /* unfitted */\n",
              "  background-color: var(--sklearn-color-unfitted-level-2);\n",
              "}\n",
              "\n",
              "#sk-container-id-1 div.sk-estimator.fitted input.sk-toggleable__control:checked~label.sk-toggleable__label {\n",
              "  /* fitted */\n",
              "  background-color: var(--sklearn-color-fitted-level-2);\n",
              "}\n",
              "\n",
              "#sk-container-id-1 div.sk-label label.sk-toggleable__label,\n",
              "#sk-container-id-1 div.sk-label label {\n",
              "  /* The background is the default theme color */\n",
              "  color: var(--sklearn-color-text-on-default-background);\n",
              "}\n",
              "\n",
              "/* On hover, darken the color of the background */\n",
              "#sk-container-id-1 div.sk-label:hover label.sk-toggleable__label {\n",
              "  color: var(--sklearn-color-text);\n",
              "  background-color: var(--sklearn-color-unfitted-level-2);\n",
              "}\n",
              "\n",
              "/* Label box, darken color on hover, fitted */\n",
              "#sk-container-id-1 div.sk-label.fitted:hover label.sk-toggleable__label.fitted {\n",
              "  color: var(--sklearn-color-text);\n",
              "  background-color: var(--sklearn-color-fitted-level-2);\n",
              "}\n",
              "\n",
              "/* Estimator label */\n",
              "\n",
              "#sk-container-id-1 div.sk-label label {\n",
              "  font-family: monospace;\n",
              "  font-weight: bold;\n",
              "  display: inline-block;\n",
              "  line-height: 1.2em;\n",
              "}\n",
              "\n",
              "#sk-container-id-1 div.sk-label-container {\n",
              "  text-align: center;\n",
              "}\n",
              "\n",
              "/* Estimator-specific */\n",
              "#sk-container-id-1 div.sk-estimator {\n",
              "  font-family: monospace;\n",
              "  border: 1px dotted var(--sklearn-color-border-box);\n",
              "  border-radius: 0.25em;\n",
              "  box-sizing: border-box;\n",
              "  margin-bottom: 0.5em;\n",
              "  /* unfitted */\n",
              "  background-color: var(--sklearn-color-unfitted-level-0);\n",
              "}\n",
              "\n",
              "#sk-container-id-1 div.sk-estimator.fitted {\n",
              "  /* fitted */\n",
              "  background-color: var(--sklearn-color-fitted-level-0);\n",
              "}\n",
              "\n",
              "/* on hover */\n",
              "#sk-container-id-1 div.sk-estimator:hover {\n",
              "  /* unfitted */\n",
              "  background-color: var(--sklearn-color-unfitted-level-2);\n",
              "}\n",
              "\n",
              "#sk-container-id-1 div.sk-estimator.fitted:hover {\n",
              "  /* fitted */\n",
              "  background-color: var(--sklearn-color-fitted-level-2);\n",
              "}\n",
              "\n",
              "/* Specification for estimator info (e.g. \"i\" and \"?\") */\n",
              "\n",
              "/* Common style for \"i\" and \"?\" */\n",
              "\n",
              ".sk-estimator-doc-link,\n",
              "a:link.sk-estimator-doc-link,\n",
              "a:visited.sk-estimator-doc-link {\n",
              "  float: right;\n",
              "  font-size: smaller;\n",
              "  line-height: 1em;\n",
              "  font-family: monospace;\n",
              "  background-color: var(--sklearn-color-background);\n",
              "  border-radius: 1em;\n",
              "  height: 1em;\n",
              "  width: 1em;\n",
              "  text-decoration: none !important;\n",
              "  margin-left: 1ex;\n",
              "  /* unfitted */\n",
              "  border: var(--sklearn-color-unfitted-level-1) 1pt solid;\n",
              "  color: var(--sklearn-color-unfitted-level-1);\n",
              "}\n",
              "\n",
              ".sk-estimator-doc-link.fitted,\n",
              "a:link.sk-estimator-doc-link.fitted,\n",
              "a:visited.sk-estimator-doc-link.fitted {\n",
              "  /* fitted */\n",
              "  border: var(--sklearn-color-fitted-level-1) 1pt solid;\n",
              "  color: var(--sklearn-color-fitted-level-1);\n",
              "}\n",
              "\n",
              "/* On hover */\n",
              "div.sk-estimator:hover .sk-estimator-doc-link:hover,\n",
              ".sk-estimator-doc-link:hover,\n",
              "div.sk-label-container:hover .sk-estimator-doc-link:hover,\n",
              ".sk-estimator-doc-link:hover {\n",
              "  /* unfitted */\n",
              "  background-color: var(--sklearn-color-unfitted-level-3);\n",
              "  color: var(--sklearn-color-background);\n",
              "  text-decoration: none;\n",
              "}\n",
              "\n",
              "div.sk-estimator.fitted:hover .sk-estimator-doc-link.fitted:hover,\n",
              ".sk-estimator-doc-link.fitted:hover,\n",
              "div.sk-label-container:hover .sk-estimator-doc-link.fitted:hover,\n",
              ".sk-estimator-doc-link.fitted:hover {\n",
              "  /* fitted */\n",
              "  background-color: var(--sklearn-color-fitted-level-3);\n",
              "  color: var(--sklearn-color-background);\n",
              "  text-decoration: none;\n",
              "}\n",
              "\n",
              "/* Span, style for the box shown on hovering the info icon */\n",
              ".sk-estimator-doc-link span {\n",
              "  display: none;\n",
              "  z-index: 9999;\n",
              "  position: relative;\n",
              "  font-weight: normal;\n",
              "  right: .2ex;\n",
              "  padding: .5ex;\n",
              "  margin: .5ex;\n",
              "  width: min-content;\n",
              "  min-width: 20ex;\n",
              "  max-width: 50ex;\n",
              "  color: var(--sklearn-color-text);\n",
              "  box-shadow: 2pt 2pt 4pt #999;\n",
              "  /* unfitted */\n",
              "  background: var(--sklearn-color-unfitted-level-0);\n",
              "  border: .5pt solid var(--sklearn-color-unfitted-level-3);\n",
              "}\n",
              "\n",
              ".sk-estimator-doc-link.fitted span {\n",
              "  /* fitted */\n",
              "  background: var(--sklearn-color-fitted-level-0);\n",
              "  border: var(--sklearn-color-fitted-level-3);\n",
              "}\n",
              "\n",
              ".sk-estimator-doc-link:hover span {\n",
              "  display: block;\n",
              "}\n",
              "\n",
              "/* \"?\"-specific style due to the `<a>` HTML tag */\n",
              "\n",
              "#sk-container-id-1 a.estimator_doc_link {\n",
              "  float: right;\n",
              "  font-size: 1rem;\n",
              "  line-height: 1em;\n",
              "  font-family: monospace;\n",
              "  background-color: var(--sklearn-color-background);\n",
              "  border-radius: 1rem;\n",
              "  height: 1rem;\n",
              "  width: 1rem;\n",
              "  text-decoration: none;\n",
              "  /* unfitted */\n",
              "  color: var(--sklearn-color-unfitted-level-1);\n",
              "  border: var(--sklearn-color-unfitted-level-1) 1pt solid;\n",
              "}\n",
              "\n",
              "#sk-container-id-1 a.estimator_doc_link.fitted {\n",
              "  /* fitted */\n",
              "  border: var(--sklearn-color-fitted-level-1) 1pt solid;\n",
              "  color: var(--sklearn-color-fitted-level-1);\n",
              "}\n",
              "\n",
              "/* On hover */\n",
              "#sk-container-id-1 a.estimator_doc_link:hover {\n",
              "  /* unfitted */\n",
              "  background-color: var(--sklearn-color-unfitted-level-3);\n",
              "  color: var(--sklearn-color-background);\n",
              "  text-decoration: none;\n",
              "}\n",
              "\n",
              "#sk-container-id-1 a.estimator_doc_link.fitted:hover {\n",
              "  /* fitted */\n",
              "  background-color: var(--sklearn-color-fitted-level-3);\n",
              "}\n",
              "</style><div id=\"sk-container-id-1\" class=\"sk-top-container\"><div class=\"sk-text-repr-fallback\"><pre>RandomForestRegressor()</pre><b>In a Jupyter environment, please rerun this cell to show the HTML representation or trust the notebook. <br />On GitHub, the HTML representation is unable to render, please try loading this page with nbviewer.org.</b></div><div class=\"sk-container\" hidden><div class=\"sk-item\"><div class=\"sk-estimator fitted sk-toggleable\"><input class=\"sk-toggleable__control sk-hidden--visually\" id=\"sk-estimator-id-1\" type=\"checkbox\" checked><label for=\"sk-estimator-id-1\" class=\"sk-toggleable__label fitted sk-toggleable__label-arrow fitted\">&nbsp;&nbsp;RandomForestRegressor<a class=\"sk-estimator-doc-link fitted\" rel=\"noreferrer\" target=\"_blank\" href=\"https://scikit-learn.org/1.4/modules/generated/sklearn.ensemble.RandomForestRegressor.html\">?<span>Documentation for RandomForestRegressor</span></a><span class=\"sk-estimator-doc-link fitted\">i<span>Fitted</span></span></label><div class=\"sk-toggleable__content fitted\"><pre>RandomForestRegressor()</pre></div> </div></div></div></div>"
            ],
            "text/plain": [
              "RandomForestRegressor()"
            ]
          },
          "execution_count": 58,
          "metadata": {},
          "output_type": "execute_result"
        }
      ],
      "source": [
        "# Ajuste do modelo, de acordo com as variáveis de treinamento\n",
        "model_rf.fit(X_train, Y_train)"
      ]
    },
    {
      "cell_type": "code",
      "execution_count": 59,
      "metadata": {},
      "outputs": [],
      "source": [
        "# Predição dos valores de salário com base nos dados de teste\n",
        "valores_preditos_rf = model_rf.predict(X_test)"
      ]
    },
    {
      "cell_type": "code",
      "execution_count": 60,
      "metadata": {},
      "outputs": [
        {
          "data": {
            "text/plain": [
              "array([ 5677.56121819, 13239.67097634, 20500.85714286,  8080.83333333,\n",
              "       12443.33333333,  5645.6468254 ,  3840.01418026, 12068.44444444,\n",
              "       13239.67097634, 11449.93406593, 10611.43538642,  6364.40440115,\n",
              "        5645.6468254 ,  6364.40440115, 15051.3968254 ,  8145.7982018 ,\n",
              "        9645.16666667,  9330.64285714,  4158.54450125, 14020.23061871,\n",
              "       10004.56954157, 11449.93406593,  2496.16666667, 12068.44444444,\n",
              "        4700.2024136 ,  5206.79093129,  9284.45238095, 22026.42857143,\n",
              "       19827.61904762,  9330.64285714, 10611.43538642, 14993.33333333,\n",
              "        4673.        , 13898.84126984,  7679.21969697, 16830.93478743,\n",
              "        8985.33333333,  8875.2514985 ,  3952.17698968, 17833.38095238,\n",
              "       16113.36507937,  6198.50793651,  2184.03683898, 13101.66666667,\n",
              "       14020.23061871,  9159.85125985, 10611.43538642, 14265.9527417 ,\n",
              "        8949.22362274,  7143.51087801, 10089.24414474,  8594.66666667,\n",
              "       16990.71428571,  3772.08802309, 14371.5       , 12568.23809524,\n",
              "       12068.29365079, 16964.21212121,  7758.19068325,  6264.33333333,\n",
              "       14560.23809524, 14852.87301587,  7925.46642247, 14661.76190476,\n",
              "        9543.33333333, 19197.21056721, 16460.84776489,  4042.97738454,\n",
              "        7054.44949495,  6319.68577256,  5351.5515873 , 17022.93145743,\n",
              "       13293.36763237,  7758.19068325,  5677.56121819, 20500.85714286,\n",
              "       18043.33333333, 12032.53058053, 13239.67097634,  8614.38095238,\n",
              "        5637.56349206, 11567.95238095, 10611.43538642,  7379.44017094,\n",
              "        8145.7982018 ,  5615.47619048,  5637.56349206,  7758.19068325,\n",
              "        5677.56121819, 13901.6045066 , 11348.16666667, 31064.96428571,\n",
              "        5615.47619048,  5206.79093129,  7735.83333333, 11607.52651695,\n",
              "        8875.2514985 ,  9423.36794549,  5206.79093129,  5677.56121819,\n",
              "       13612.84304584, 16830.93478743,  3096.3958264 ,  5677.56121819,\n",
              "        7143.51087801,  7735.83333333, 16830.93478743,  6198.50793651,\n",
              "        8145.7982018 ,  6247.87884338,  5673.73809524,  6308.11538462,\n",
              "       17265.        ,  9159.85125985, 11104.73165723,  5677.56121819,\n",
              "        6618.76226648,  3096.3958264 ,  6083.26190476, 10706.28571429,\n",
              "       12420.        ,  6618.76226648,  7758.19068325,  7758.19068325,\n",
              "       13295.76058923,  6618.76226648,  8145.7982018 , 10611.43538642,\n",
              "        9145.48706849, 15823.37243634,  4700.2024136 ,  3952.17698968,\n",
              "       19230.        ,  4700.2024136 , 10083.61904762,  8875.2514985 ,\n",
              "       13121.8823485 , 11852.        ,  6308.11538462, 33860.04761905,\n",
              "        6618.76226648, 22309.66666667,  9151.84126984,  8833.26046176,\n",
              "        8353.63492063,  4353.23185148,  9423.36794549,  7661.16666667,\n",
              "        3462.38564798, 10912.3968254 ,  6264.33333333,  9159.85125985,\n",
              "       12855.        , 19197.21056721,  6617.77874903, 11158.37728938,\n",
              "        6968.21428571, 15415.33333333, 17593.45238095,  7790.42857143,\n",
              "        8833.26046176,  7496.16666667, 15051.3968254 ,  7081.01587302,\n",
              "       13121.8823485 ,  6247.87884338, 17561.81168831,  9973.99189699,\n",
              "       11099.64144352,  8778.01413549, 13121.8823485 , 13295.28687979,\n",
              "        4217.18261627, 12068.29365079,  5637.56349206, 12313.88278388,\n",
              "        7735.83333333, 10912.3968254 , 14046.        ,  9159.85125985,\n",
              "       15823.37243634,  4217.18261627, 13295.76058923, 10401.25574426,\n",
              "        5645.6468254 , 10611.43538642, 14661.76190476,  5637.56349206,\n",
              "        9145.48706849,  9284.45238095, 13121.8823485 ,  5673.73809524,\n",
              "       11995.79365079, 13239.67097634,  3462.38564798,  8041.07936508,\n",
              "       13239.67097634,  6083.26190476,  4146.66666667, 10635.38622489,\n",
              "       13612.84304584,  7744.98484848, 16590.28571429,  5677.56121819,\n",
              "        7735.83333333,  5206.79093129, 15489.35714286,  4158.54450125,\n",
              "        6319.68577256, 10140.        , 13239.67097634,  4809.5018315 ,\n",
              "        8145.7982018 , 13239.67097634, 11449.93406593,  8875.2514985 ,\n",
              "        6247.87884338, 11099.64144352, 15140.        , 13901.6045066 ,\n",
              "        5677.56121819, 17330.16666667,  4875.03174603,  9973.99189699,\n",
              "        7925.46642247,  8436.26190476,  9423.36794549,  9159.85125985,\n",
              "        8899.66666667,  8778.01413549, 23153.56349206,  6530.0966811 ,\n",
              "       11750.95238095,  8778.01413549, 11651.56047874,  4158.54450125,\n",
              "       14020.23061871, 11995.79365079, 17833.38095238,  3485.54761905,\n",
              "        6618.76226648,  3952.17698968,  9693.72468339,  4700.2024136 ,\n",
              "        9423.36794549,  9693.72468339,  5206.79093129,  3840.01418026,\n",
              "       13684.61904762, 17939.5       ,  5206.79093129,  9145.48706849,\n",
              "       13295.76058923,  9423.36794549,  8452.16666667,  4158.54450125,\n",
              "        6083.26190476,  8875.2514985 , 14116.84126984, 11863.0952381 ,\n",
              "        7925.46642247,  9601.5       ,  3096.3958264 , 16620.16666667,\n",
              "        8875.2514985 ,  4217.18261627,  3462.38564798,  9693.72468339,\n",
              "       17593.45238095, 10299.36507937,  5555.5       ,  6198.50793651,\n",
              "       11863.0952381 , 12032.53058053, 30655.83333333, 30655.83333333,\n",
              "       13239.67097634,  7054.44949495, 14241.5952381 , 13898.84126984,\n",
              "       16830.93478743, 13295.76058923, 17561.81168831,  2376.21846291,\n",
              "        7143.51087801,  7758.19068325, 11852.        ,  7925.46642247,\n",
              "        4875.03174603,  7758.19068325,  4809.5018315 ,  3963.10915473,\n",
              "        8985.33333333, 17022.93145743,  9145.48706849, 20500.85714286,\n",
              "        9601.5       ,  6273.6579422 ,  3485.54761905, 33860.04761905,\n",
              "        8875.2514985 , 14020.23061871, 10004.56954157, 19197.21056721,\n",
              "        5645.6468254 ,  6618.76226648, 10624.57142857,  3494.83333333,\n",
              "       12068.29365079,  4042.97738454,  6309.53391053,  3462.38564798,\n",
              "       11168.25274725,  5206.79093129,  3963.10915473, 16964.21212121,\n",
              "        3952.17698968,  8145.7982018 ,  5677.56121819,  4042.97738454,\n",
              "        4353.23185148, 12032.53058053, 11607.52651695, 12068.29365079,\n",
              "       10611.43538642, 12617.42857143, 13121.8823485 ,  3462.38564798,\n",
              "       10611.43538642,  8949.22362274, 10872.76190476, 16964.21212121,\n",
              "       12313.88278388, 11852.        , 13295.76058923, 11158.37728938,\n",
              "       19403.92857143, 13531.95299145,  4158.54450125,  8452.16666667,\n",
              "        7735.83333333, 11158.37728938, 13610.75108225, 12032.53058053,\n",
              "        7379.44017094,  7143.51087801,  2376.21846291,  7899.64285714,\n",
              "       13295.76058923, 14116.84126984,  8041.07936508,  4925.79761905,\n",
              "       18754.16666667,  6273.6579422 ,  8949.22362274,  2184.03683898,\n",
              "        7026.82683983, 20667.42857143,  6618.76226648,  6450.17275155,\n",
              "        6025.72294372,  3963.10915473, 30655.83333333,  7322.79365079,\n",
              "        4353.23185148,  3485.54761905, 11158.37728938, 16395.33333333,\n",
              "       13295.76058923,  6740.92857143,  3963.10915473,  5615.47619048,\n",
              "        9513.        , 15550.66666667,  8778.01413549, 23546.66666667,\n",
              "        3462.38564798,  3963.10915473, 15055.66666667, 14371.5       ,\n",
              "        9159.85125985,  8041.07936508,  5637.56349206, 10654.77811731,\n",
              "        9973.99189699, 13684.61904762, 19197.21056721, 13121.8823485 ,\n",
              "        7735.83333333,  3963.10915473, 17833.38095238, 14020.23061871,\n",
              "        4217.18261627, 13295.76058923,  6247.87884338,  5677.56121819,\n",
              "       16744.23809524,  3462.38564798,  4353.23185148,  8985.33333333,\n",
              "        3485.54761905,  8875.2514985 ,  9928.62698413,  2693.63095238,\n",
              "       13295.76058923,  3485.54761905, 19197.21056721,  4158.54450125,\n",
              "        9423.36794549, 13239.67097634,  7758.19068325, 11607.52651695,\n",
              "       11168.25274725,  3840.01418026, 12568.23809524, 11607.52651695])"
            ]
          },
          "execution_count": 60,
          "metadata": {},
          "output_type": "execute_result"
        }
      ],
      "source": [
        "# Valores preditos\n",
        "valores_preditos_rf"
      ]
    },
    {
      "cell_type": "markdown",
      "metadata": {},
      "source": [
        "Analisando a importância das variáveis para estimar a variável target"
      ]
    },
    {
      "cell_type": "code",
      "execution_count": 61,
      "metadata": {},
      "outputs": [
        {
          "data": {
            "text/html": [
              "<div>\n",
              "<style scoped>\n",
              "    .dataframe tbody tr th:only-of-type {\n",
              "        vertical-align: middle;\n",
              "    }\n",
              "\n",
              "    .dataframe tbody tr th {\n",
              "        vertical-align: top;\n",
              "    }\n",
              "\n",
              "    .dataframe thead th {\n",
              "        text-align: right;\n",
              "    }\n",
              "</style>\n",
              "<table border=\"1\" class=\"dataframe\">\n",
              "  <thead>\n",
              "    <tr style=\"text-align: right;\">\n",
              "      <th></th>\n",
              "      <th>importance</th>\n",
              "    </tr>\n",
              "  </thead>\n",
              "  <tbody>\n",
              "    <tr>\n",
              "      <th>Anos experiencia - numerico</th>\n",
              "      <td>0.485282</td>\n",
              "    </tr>\n",
              "    <tr>\n",
              "      <th>Idade</th>\n",
              "      <td>0.408791</td>\n",
              "    </tr>\n",
              "    <tr>\n",
              "      <th>Genero</th>\n",
              "      <td>0.105927</td>\n",
              "    </tr>\n",
              "  </tbody>\n",
              "</table>\n",
              "</div>"
            ],
            "text/plain": [
              "                             importance\n",
              "Anos experiencia - numerico    0.485282\n",
              "Idade                          0.408791\n",
              "Genero                         0.105927"
            ]
          },
          "execution_count": 61,
          "metadata": {},
          "output_type": "execute_result"
        }
      ],
      "source": [
        "model_rf.feature_importances_\n",
        "feature_importances = pd.DataFrame(model_rf.feature_importances_, index = X_train.columns, columns=['importance']).sort_values('importance', ascending = False)\n",
        "feature_importances"
      ]
    },
    {
      "cell_type": "markdown",
      "metadata": {},
      "source": [
        "#### Métricas de acurácia do modelo"
      ]
    },
    {
      "cell_type": "markdown",
      "metadata": {},
      "source": [
        "Quão acurado é o modelo para estabelecer as predições de salários com base na idade e gênero?"
      ]
    },
    {
      "cell_type": "markdown",
      "metadata": {},
      "source": [
        "Existem diversas métricas para avaliar o erro da predição do nosso modelo. Hoje iremos ver as seguintes:\n",
        "- MSE (Mean Squared Error)\n",
        "- MAE (Mean Absolute Error)\n",
        "- R²\n",
        "\n",
        "[Aqui](https://medium.com/usf-msds/choosing-the-right-metric-for-machine-learning-models-part-1-a99d7d7414e4) tem um artigo falando sobre outras métricas de avaliação."
      ]
    },
    {
      "cell_type": "markdown",
      "metadata": {},
      "source": [
        "MSE - calcula o erro quadrático médio das predições do nosso modelo. Quanto maior o MSE, pior é o modelo."
      ]
    },
    {
      "cell_type": "code",
      "execution_count": 62,
      "metadata": {},
      "outputs": [
        {
          "data": {
            "text/plain": [
              "39343165.57259471"
            ]
          },
          "execution_count": 62,
          "metadata": {},
          "output_type": "execute_result"
        }
      ],
      "source": [
        "mse = mean_squared_error(Y_test, valores_preditos_rf)\n",
        "mse"
      ]
    },
    {
      "cell_type": "markdown",
      "metadata": {},
      "source": [
        "O MAE calcula a média da diferença absoluta entre o valor predito e o valor real. Nesse caso, os erros são penalizados linearmente, ou seja, todos terão o mesmo peso na média."
      ]
    },
    {
      "cell_type": "code",
      "execution_count": 63,
      "metadata": {},
      "outputs": [
        {
          "data": {
            "text/plain": [
              "4294.205622107038"
            ]
          },
          "execution_count": 63,
          "metadata": {},
          "output_type": "execute_result"
        }
      ],
      "source": [
        "mae = mean_absolute_error(Y_test, valores_preditos_rf)\n",
        "mae"
      ]
    },
    {
      "cell_type": "markdown",
      "metadata": {},
      "source": [
        "O R² é uma métrica que varia entre 0 e 1 e é uma razão que indica o quão bom o nosso modelo. Quanto maior seu valor, melhor é o modelo "
      ]
    },
    {
      "cell_type": "code",
      "execution_count": 64,
      "metadata": {},
      "outputs": [
        {
          "data": {
            "text/plain": [
              "0.17952537192643647"
            ]
          },
          "execution_count": 64,
          "metadata": {},
          "output_type": "execute_result"
        }
      ],
      "source": [
        "r2_score(Y_test, valores_preditos_rf)"
      ]
    },
    {
      "cell_type": "markdown",
      "metadata": {},
      "source": [
        "### Agora, testando o mesmo modelo, mas utilizando parâmetros do algoritmo Random Forest"
      ]
    },
    {
      "cell_type": "code",
      "execution_count": 65,
      "metadata": {},
      "outputs": [],
      "source": [
        "model_rf_parametros = RandomForestRegressor(max_depth=29, min_samples_leaf=32, min_samples_split=28,\n",
        "                       n_estimators=208, random_state=43)"
      ]
    },
    {
      "cell_type": "code",
      "execution_count": 66,
      "metadata": {},
      "outputs": [
        {
          "data": {
            "text/html": [
              "<style>#sk-container-id-2 {\n",
              "  /* Definition of color scheme common for light and dark mode */\n",
              "  --sklearn-color-text: black;\n",
              "  --sklearn-color-line: gray;\n",
              "  /* Definition of color scheme for unfitted estimators */\n",
              "  --sklearn-color-unfitted-level-0: #fff5e6;\n",
              "  --sklearn-color-unfitted-level-1: #f6e4d2;\n",
              "  --sklearn-color-unfitted-level-2: #ffe0b3;\n",
              "  --sklearn-color-unfitted-level-3: chocolate;\n",
              "  /* Definition of color scheme for fitted estimators */\n",
              "  --sklearn-color-fitted-level-0: #f0f8ff;\n",
              "  --sklearn-color-fitted-level-1: #d4ebff;\n",
              "  --sklearn-color-fitted-level-2: #b3dbfd;\n",
              "  --sklearn-color-fitted-level-3: cornflowerblue;\n",
              "\n",
              "  /* Specific color for light theme */\n",
              "  --sklearn-color-text-on-default-background: var(--sg-text-color, var(--theme-code-foreground, var(--jp-content-font-color1, black)));\n",
              "  --sklearn-color-background: var(--sg-background-color, var(--theme-background, var(--jp-layout-color0, white)));\n",
              "  --sklearn-color-border-box: var(--sg-text-color, var(--theme-code-foreground, var(--jp-content-font-color1, black)));\n",
              "  --sklearn-color-icon: #696969;\n",
              "\n",
              "  @media (prefers-color-scheme: dark) {\n",
              "    /* Redefinition of color scheme for dark theme */\n",
              "    --sklearn-color-text-on-default-background: var(--sg-text-color, var(--theme-code-foreground, var(--jp-content-font-color1, white)));\n",
              "    --sklearn-color-background: var(--sg-background-color, var(--theme-background, var(--jp-layout-color0, #111)));\n",
              "    --sklearn-color-border-box: var(--sg-text-color, var(--theme-code-foreground, var(--jp-content-font-color1, white)));\n",
              "    --sklearn-color-icon: #878787;\n",
              "  }\n",
              "}\n",
              "\n",
              "#sk-container-id-2 {\n",
              "  color: var(--sklearn-color-text);\n",
              "}\n",
              "\n",
              "#sk-container-id-2 pre {\n",
              "  padding: 0;\n",
              "}\n",
              "\n",
              "#sk-container-id-2 input.sk-hidden--visually {\n",
              "  border: 0;\n",
              "  clip: rect(1px 1px 1px 1px);\n",
              "  clip: rect(1px, 1px, 1px, 1px);\n",
              "  height: 1px;\n",
              "  margin: -1px;\n",
              "  overflow: hidden;\n",
              "  padding: 0;\n",
              "  position: absolute;\n",
              "  width: 1px;\n",
              "}\n",
              "\n",
              "#sk-container-id-2 div.sk-dashed-wrapped {\n",
              "  border: 1px dashed var(--sklearn-color-line);\n",
              "  margin: 0 0.4em 0.5em 0.4em;\n",
              "  box-sizing: border-box;\n",
              "  padding-bottom: 0.4em;\n",
              "  background-color: var(--sklearn-color-background);\n",
              "}\n",
              "\n",
              "#sk-container-id-2 div.sk-container {\n",
              "  /* jupyter's `normalize.less` sets `[hidden] { display: none; }`\n",
              "     but bootstrap.min.css set `[hidden] { display: none !important; }`\n",
              "     so we also need the `!important` here to be able to override the\n",
              "     default hidden behavior on the sphinx rendered scikit-learn.org.\n",
              "     See: https://github.com/scikit-learn/scikit-learn/issues/21755 */\n",
              "  display: inline-block !important;\n",
              "  position: relative;\n",
              "}\n",
              "\n",
              "#sk-container-id-2 div.sk-text-repr-fallback {\n",
              "  display: none;\n",
              "}\n",
              "\n",
              "div.sk-parallel-item,\n",
              "div.sk-serial,\n",
              "div.sk-item {\n",
              "  /* draw centered vertical line to link estimators */\n",
              "  background-image: linear-gradient(var(--sklearn-color-text-on-default-background), var(--sklearn-color-text-on-default-background));\n",
              "  background-size: 2px 100%;\n",
              "  background-repeat: no-repeat;\n",
              "  background-position: center center;\n",
              "}\n",
              "\n",
              "/* Parallel-specific style estimator block */\n",
              "\n",
              "#sk-container-id-2 div.sk-parallel-item::after {\n",
              "  content: \"\";\n",
              "  width: 100%;\n",
              "  border-bottom: 2px solid var(--sklearn-color-text-on-default-background);\n",
              "  flex-grow: 1;\n",
              "}\n",
              "\n",
              "#sk-container-id-2 div.sk-parallel {\n",
              "  display: flex;\n",
              "  align-items: stretch;\n",
              "  justify-content: center;\n",
              "  background-color: var(--sklearn-color-background);\n",
              "  position: relative;\n",
              "}\n",
              "\n",
              "#sk-container-id-2 div.sk-parallel-item {\n",
              "  display: flex;\n",
              "  flex-direction: column;\n",
              "}\n",
              "\n",
              "#sk-container-id-2 div.sk-parallel-item:first-child::after {\n",
              "  align-self: flex-end;\n",
              "  width: 50%;\n",
              "}\n",
              "\n",
              "#sk-container-id-2 div.sk-parallel-item:last-child::after {\n",
              "  align-self: flex-start;\n",
              "  width: 50%;\n",
              "}\n",
              "\n",
              "#sk-container-id-2 div.sk-parallel-item:only-child::after {\n",
              "  width: 0;\n",
              "}\n",
              "\n",
              "/* Serial-specific style estimator block */\n",
              "\n",
              "#sk-container-id-2 div.sk-serial {\n",
              "  display: flex;\n",
              "  flex-direction: column;\n",
              "  align-items: center;\n",
              "  background-color: var(--sklearn-color-background);\n",
              "  padding-right: 1em;\n",
              "  padding-left: 1em;\n",
              "}\n",
              "\n",
              "\n",
              "/* Toggleable style: style used for estimator/Pipeline/ColumnTransformer box that is\n",
              "clickable and can be expanded/collapsed.\n",
              "- Pipeline and ColumnTransformer use this feature and define the default style\n",
              "- Estimators will overwrite some part of the style using the `sk-estimator` class\n",
              "*/\n",
              "\n",
              "/* Pipeline and ColumnTransformer style (default) */\n",
              "\n",
              "#sk-container-id-2 div.sk-toggleable {\n",
              "  /* Default theme specific background. It is overwritten whether we have a\n",
              "  specific estimator or a Pipeline/ColumnTransformer */\n",
              "  background-color: var(--sklearn-color-background);\n",
              "}\n",
              "\n",
              "/* Toggleable label */\n",
              "#sk-container-id-2 label.sk-toggleable__label {\n",
              "  cursor: pointer;\n",
              "  display: block;\n",
              "  width: 100%;\n",
              "  margin-bottom: 0;\n",
              "  padding: 0.5em;\n",
              "  box-sizing: border-box;\n",
              "  text-align: center;\n",
              "}\n",
              "\n",
              "#sk-container-id-2 label.sk-toggleable__label-arrow:before {\n",
              "  /* Arrow on the left of the label */\n",
              "  content: \"▸\";\n",
              "  float: left;\n",
              "  margin-right: 0.25em;\n",
              "  color: var(--sklearn-color-icon);\n",
              "}\n",
              "\n",
              "#sk-container-id-2 label.sk-toggleable__label-arrow:hover:before {\n",
              "  color: var(--sklearn-color-text);\n",
              "}\n",
              "\n",
              "/* Toggleable content - dropdown */\n",
              "\n",
              "#sk-container-id-2 div.sk-toggleable__content {\n",
              "  max-height: 0;\n",
              "  max-width: 0;\n",
              "  overflow: hidden;\n",
              "  text-align: left;\n",
              "  /* unfitted */\n",
              "  background-color: var(--sklearn-color-unfitted-level-0);\n",
              "}\n",
              "\n",
              "#sk-container-id-2 div.sk-toggleable__content.fitted {\n",
              "  /* fitted */\n",
              "  background-color: var(--sklearn-color-fitted-level-0);\n",
              "}\n",
              "\n",
              "#sk-container-id-2 div.sk-toggleable__content pre {\n",
              "  margin: 0.2em;\n",
              "  border-radius: 0.25em;\n",
              "  color: var(--sklearn-color-text);\n",
              "  /* unfitted */\n",
              "  background-color: var(--sklearn-color-unfitted-level-0);\n",
              "}\n",
              "\n",
              "#sk-container-id-2 div.sk-toggleable__content.fitted pre {\n",
              "  /* unfitted */\n",
              "  background-color: var(--sklearn-color-fitted-level-0);\n",
              "}\n",
              "\n",
              "#sk-container-id-2 input.sk-toggleable__control:checked~div.sk-toggleable__content {\n",
              "  /* Expand drop-down */\n",
              "  max-height: 200px;\n",
              "  max-width: 100%;\n",
              "  overflow: auto;\n",
              "}\n",
              "\n",
              "#sk-container-id-2 input.sk-toggleable__control:checked~label.sk-toggleable__label-arrow:before {\n",
              "  content: \"▾\";\n",
              "}\n",
              "\n",
              "/* Pipeline/ColumnTransformer-specific style */\n",
              "\n",
              "#sk-container-id-2 div.sk-label input.sk-toggleable__control:checked~label.sk-toggleable__label {\n",
              "  color: var(--sklearn-color-text);\n",
              "  background-color: var(--sklearn-color-unfitted-level-2);\n",
              "}\n",
              "\n",
              "#sk-container-id-2 div.sk-label.fitted input.sk-toggleable__control:checked~label.sk-toggleable__label {\n",
              "  background-color: var(--sklearn-color-fitted-level-2);\n",
              "}\n",
              "\n",
              "/* Estimator-specific style */\n",
              "\n",
              "/* Colorize estimator box */\n",
              "#sk-container-id-2 div.sk-estimator input.sk-toggleable__control:checked~label.sk-toggleable__label {\n",
              "  /* unfitted */\n",
              "  background-color: var(--sklearn-color-unfitted-level-2);\n",
              "}\n",
              "\n",
              "#sk-container-id-2 div.sk-estimator.fitted input.sk-toggleable__control:checked~label.sk-toggleable__label {\n",
              "  /* fitted */\n",
              "  background-color: var(--sklearn-color-fitted-level-2);\n",
              "}\n",
              "\n",
              "#sk-container-id-2 div.sk-label label.sk-toggleable__label,\n",
              "#sk-container-id-2 div.sk-label label {\n",
              "  /* The background is the default theme color */\n",
              "  color: var(--sklearn-color-text-on-default-background);\n",
              "}\n",
              "\n",
              "/* On hover, darken the color of the background */\n",
              "#sk-container-id-2 div.sk-label:hover label.sk-toggleable__label {\n",
              "  color: var(--sklearn-color-text);\n",
              "  background-color: var(--sklearn-color-unfitted-level-2);\n",
              "}\n",
              "\n",
              "/* Label box, darken color on hover, fitted */\n",
              "#sk-container-id-2 div.sk-label.fitted:hover label.sk-toggleable__label.fitted {\n",
              "  color: var(--sklearn-color-text);\n",
              "  background-color: var(--sklearn-color-fitted-level-2);\n",
              "}\n",
              "\n",
              "/* Estimator label */\n",
              "\n",
              "#sk-container-id-2 div.sk-label label {\n",
              "  font-family: monospace;\n",
              "  font-weight: bold;\n",
              "  display: inline-block;\n",
              "  line-height: 1.2em;\n",
              "}\n",
              "\n",
              "#sk-container-id-2 div.sk-label-container {\n",
              "  text-align: center;\n",
              "}\n",
              "\n",
              "/* Estimator-specific */\n",
              "#sk-container-id-2 div.sk-estimator {\n",
              "  font-family: monospace;\n",
              "  border: 1px dotted var(--sklearn-color-border-box);\n",
              "  border-radius: 0.25em;\n",
              "  box-sizing: border-box;\n",
              "  margin-bottom: 0.5em;\n",
              "  /* unfitted */\n",
              "  background-color: var(--sklearn-color-unfitted-level-0);\n",
              "}\n",
              "\n",
              "#sk-container-id-2 div.sk-estimator.fitted {\n",
              "  /* fitted */\n",
              "  background-color: var(--sklearn-color-fitted-level-0);\n",
              "}\n",
              "\n",
              "/* on hover */\n",
              "#sk-container-id-2 div.sk-estimator:hover {\n",
              "  /* unfitted */\n",
              "  background-color: var(--sklearn-color-unfitted-level-2);\n",
              "}\n",
              "\n",
              "#sk-container-id-2 div.sk-estimator.fitted:hover {\n",
              "  /* fitted */\n",
              "  background-color: var(--sklearn-color-fitted-level-2);\n",
              "}\n",
              "\n",
              "/* Specification for estimator info (e.g. \"i\" and \"?\") */\n",
              "\n",
              "/* Common style for \"i\" and \"?\" */\n",
              "\n",
              ".sk-estimator-doc-link,\n",
              "a:link.sk-estimator-doc-link,\n",
              "a:visited.sk-estimator-doc-link {\n",
              "  float: right;\n",
              "  font-size: smaller;\n",
              "  line-height: 1em;\n",
              "  font-family: monospace;\n",
              "  background-color: var(--sklearn-color-background);\n",
              "  border-radius: 1em;\n",
              "  height: 1em;\n",
              "  width: 1em;\n",
              "  text-decoration: none !important;\n",
              "  margin-left: 1ex;\n",
              "  /* unfitted */\n",
              "  border: var(--sklearn-color-unfitted-level-1) 1pt solid;\n",
              "  color: var(--sklearn-color-unfitted-level-1);\n",
              "}\n",
              "\n",
              ".sk-estimator-doc-link.fitted,\n",
              "a:link.sk-estimator-doc-link.fitted,\n",
              "a:visited.sk-estimator-doc-link.fitted {\n",
              "  /* fitted */\n",
              "  border: var(--sklearn-color-fitted-level-1) 1pt solid;\n",
              "  color: var(--sklearn-color-fitted-level-1);\n",
              "}\n",
              "\n",
              "/* On hover */\n",
              "div.sk-estimator:hover .sk-estimator-doc-link:hover,\n",
              ".sk-estimator-doc-link:hover,\n",
              "div.sk-label-container:hover .sk-estimator-doc-link:hover,\n",
              ".sk-estimator-doc-link:hover {\n",
              "  /* unfitted */\n",
              "  background-color: var(--sklearn-color-unfitted-level-3);\n",
              "  color: var(--sklearn-color-background);\n",
              "  text-decoration: none;\n",
              "}\n",
              "\n",
              "div.sk-estimator.fitted:hover .sk-estimator-doc-link.fitted:hover,\n",
              ".sk-estimator-doc-link.fitted:hover,\n",
              "div.sk-label-container:hover .sk-estimator-doc-link.fitted:hover,\n",
              ".sk-estimator-doc-link.fitted:hover {\n",
              "  /* fitted */\n",
              "  background-color: var(--sklearn-color-fitted-level-3);\n",
              "  color: var(--sklearn-color-background);\n",
              "  text-decoration: none;\n",
              "}\n",
              "\n",
              "/* Span, style for the box shown on hovering the info icon */\n",
              ".sk-estimator-doc-link span {\n",
              "  display: none;\n",
              "  z-index: 9999;\n",
              "  position: relative;\n",
              "  font-weight: normal;\n",
              "  right: .2ex;\n",
              "  padding: .5ex;\n",
              "  margin: .5ex;\n",
              "  width: min-content;\n",
              "  min-width: 20ex;\n",
              "  max-width: 50ex;\n",
              "  color: var(--sklearn-color-text);\n",
              "  box-shadow: 2pt 2pt 4pt #999;\n",
              "  /* unfitted */\n",
              "  background: var(--sklearn-color-unfitted-level-0);\n",
              "  border: .5pt solid var(--sklearn-color-unfitted-level-3);\n",
              "}\n",
              "\n",
              ".sk-estimator-doc-link.fitted span {\n",
              "  /* fitted */\n",
              "  background: var(--sklearn-color-fitted-level-0);\n",
              "  border: var(--sklearn-color-fitted-level-3);\n",
              "}\n",
              "\n",
              ".sk-estimator-doc-link:hover span {\n",
              "  display: block;\n",
              "}\n",
              "\n",
              "/* \"?\"-specific style due to the `<a>` HTML tag */\n",
              "\n",
              "#sk-container-id-2 a.estimator_doc_link {\n",
              "  float: right;\n",
              "  font-size: 1rem;\n",
              "  line-height: 1em;\n",
              "  font-family: monospace;\n",
              "  background-color: var(--sklearn-color-background);\n",
              "  border-radius: 1rem;\n",
              "  height: 1rem;\n",
              "  width: 1rem;\n",
              "  text-decoration: none;\n",
              "  /* unfitted */\n",
              "  color: var(--sklearn-color-unfitted-level-1);\n",
              "  border: var(--sklearn-color-unfitted-level-1) 1pt solid;\n",
              "}\n",
              "\n",
              "#sk-container-id-2 a.estimator_doc_link.fitted {\n",
              "  /* fitted */\n",
              "  border: var(--sklearn-color-fitted-level-1) 1pt solid;\n",
              "  color: var(--sklearn-color-fitted-level-1);\n",
              "}\n",
              "\n",
              "/* On hover */\n",
              "#sk-container-id-2 a.estimator_doc_link:hover {\n",
              "  /* unfitted */\n",
              "  background-color: var(--sklearn-color-unfitted-level-3);\n",
              "  color: var(--sklearn-color-background);\n",
              "  text-decoration: none;\n",
              "}\n",
              "\n",
              "#sk-container-id-2 a.estimator_doc_link.fitted:hover {\n",
              "  /* fitted */\n",
              "  background-color: var(--sklearn-color-fitted-level-3);\n",
              "}\n",
              "</style><div id=\"sk-container-id-2\" class=\"sk-top-container\"><div class=\"sk-text-repr-fallback\"><pre>RandomForestRegressor(max_depth=29, min_samples_leaf=32, min_samples_split=28,\n",
              "                      n_estimators=208, random_state=43)</pre><b>In a Jupyter environment, please rerun this cell to show the HTML representation or trust the notebook. <br />On GitHub, the HTML representation is unable to render, please try loading this page with nbviewer.org.</b></div><div class=\"sk-container\" hidden><div class=\"sk-item\"><div class=\"sk-estimator fitted sk-toggleable\"><input class=\"sk-toggleable__control sk-hidden--visually\" id=\"sk-estimator-id-2\" type=\"checkbox\" checked><label for=\"sk-estimator-id-2\" class=\"sk-toggleable__label fitted sk-toggleable__label-arrow fitted\">&nbsp;&nbsp;RandomForestRegressor<a class=\"sk-estimator-doc-link fitted\" rel=\"noreferrer\" target=\"_blank\" href=\"https://scikit-learn.org/1.4/modules/generated/sklearn.ensemble.RandomForestRegressor.html\">?<span>Documentation for RandomForestRegressor</span></a><span class=\"sk-estimator-doc-link fitted\">i<span>Fitted</span></span></label><div class=\"sk-toggleable__content fitted\"><pre>RandomForestRegressor(max_depth=29, min_samples_leaf=32, min_samples_split=28,\n",
              "                      n_estimators=208, random_state=43)</pre></div> </div></div></div></div>"
            ],
            "text/plain": [
              "RandomForestRegressor(max_depth=29, min_samples_leaf=32, min_samples_split=28,\n",
              "                      n_estimators=208, random_state=43)"
            ]
          },
          "execution_count": 66,
          "metadata": {},
          "output_type": "execute_result"
        }
      ],
      "source": [
        "# Ajuste do modelo, de acordo com as variáveis de treinamento\n",
        "model_rf_parametros.fit(X_train, Y_train)"
      ]
    },
    {
      "cell_type": "code",
      "execution_count": 67,
      "metadata": {},
      "outputs": [],
      "source": [
        "# Predição dos valores de salário com base nos dados de teste\n",
        "valores_preditos_rf_parametros = model_rf_parametros.predict(X_test)"
      ]
    },
    {
      "cell_type": "markdown",
      "metadata": {},
      "source": [
        "#### Analisando a importância das variáveis para estimar a variável target. Observe o aumento da importância da variável 'Anos experiencia - numerico'"
      ]
    },
    {
      "cell_type": "code",
      "execution_count": 68,
      "metadata": {},
      "outputs": [
        {
          "data": {
            "text/html": [
              "<div>\n",
              "<style scoped>\n",
              "    .dataframe tbody tr th:only-of-type {\n",
              "        vertical-align: middle;\n",
              "    }\n",
              "\n",
              "    .dataframe tbody tr th {\n",
              "        vertical-align: top;\n",
              "    }\n",
              "\n",
              "    .dataframe thead th {\n",
              "        text-align: right;\n",
              "    }\n",
              "</style>\n",
              "<table border=\"1\" class=\"dataframe\">\n",
              "  <thead>\n",
              "    <tr style=\"text-align: right;\">\n",
              "      <th></th>\n",
              "      <th>importance</th>\n",
              "    </tr>\n",
              "  </thead>\n",
              "  <tbody>\n",
              "    <tr>\n",
              "      <th>Anos experiencia - numerico</th>\n",
              "      <td>0.837231</td>\n",
              "    </tr>\n",
              "    <tr>\n",
              "      <th>Idade</th>\n",
              "      <td>0.155928</td>\n",
              "    </tr>\n",
              "    <tr>\n",
              "      <th>Genero</th>\n",
              "      <td>0.006841</td>\n",
              "    </tr>\n",
              "  </tbody>\n",
              "</table>\n",
              "</div>"
            ],
            "text/plain": [
              "                             importance\n",
              "Anos experiencia - numerico    0.837231\n",
              "Idade                          0.155928\n",
              "Genero                         0.006841"
            ]
          },
          "execution_count": 68,
          "metadata": {},
          "output_type": "execute_result"
        }
      ],
      "source": [
        "model_rf_parametros.feature_importances_\n",
        "feature_importances = pd.DataFrame(model_rf_parametros.feature_importances_, index = X_train.columns, columns=['importance']).sort_values('importance', ascending = False)\n",
        "feature_importances"
      ]
    },
    {
      "cell_type": "markdown",
      "metadata": {},
      "source": [
        "#### Métricas de avaliação do modelo"
      ]
    },
    {
      "cell_type": "code",
      "execution_count": 69,
      "metadata": {},
      "outputs": [
        {
          "data": {
            "text/plain": [
              "0.27209838017209864"
            ]
          },
          "execution_count": 69,
          "metadata": {},
          "output_type": "execute_result"
        }
      ],
      "source": [
        "mse = mean_squared_error(Y_test, valores_preditos_rf_parametros)\n",
        "mae = mean_absolute_error(Y_test, valores_preditos_rf_parametros)\n",
        "r2_score(Y_test, valores_preditos_rf_parametros)"
      ]
    },
    {
      "cell_type": "markdown",
      "metadata": {},
      "source": [
        "#### Aumento na acurácia do modelo de 17% para 27%, inserindo parâmetros no algoritmo Random Forest"
      ]
    },
    {
      "cell_type": "markdown",
      "metadata": {},
      "source": [
        "---\n",
        "#### 3.2 XGBoost"
      ]
    },
    {
      "cell_type": "code",
      "execution_count": 70,
      "metadata": {},
      "outputs": [],
      "source": [
        "model_xgboost = XGBRegressor()"
      ]
    },
    {
      "cell_type": "code",
      "execution_count": 71,
      "metadata": {},
      "outputs": [
        {
          "data": {
            "text/html": [
              "<style>#sk-container-id-3 {\n",
              "  /* Definition of color scheme common for light and dark mode */\n",
              "  --sklearn-color-text: black;\n",
              "  --sklearn-color-line: gray;\n",
              "  /* Definition of color scheme for unfitted estimators */\n",
              "  --sklearn-color-unfitted-level-0: #fff5e6;\n",
              "  --sklearn-color-unfitted-level-1: #f6e4d2;\n",
              "  --sklearn-color-unfitted-level-2: #ffe0b3;\n",
              "  --sklearn-color-unfitted-level-3: chocolate;\n",
              "  /* Definition of color scheme for fitted estimators */\n",
              "  --sklearn-color-fitted-level-0: #f0f8ff;\n",
              "  --sklearn-color-fitted-level-1: #d4ebff;\n",
              "  --sklearn-color-fitted-level-2: #b3dbfd;\n",
              "  --sklearn-color-fitted-level-3: cornflowerblue;\n",
              "\n",
              "  /* Specific color for light theme */\n",
              "  --sklearn-color-text-on-default-background: var(--sg-text-color, var(--theme-code-foreground, var(--jp-content-font-color1, black)));\n",
              "  --sklearn-color-background: var(--sg-background-color, var(--theme-background, var(--jp-layout-color0, white)));\n",
              "  --sklearn-color-border-box: var(--sg-text-color, var(--theme-code-foreground, var(--jp-content-font-color1, black)));\n",
              "  --sklearn-color-icon: #696969;\n",
              "\n",
              "  @media (prefers-color-scheme: dark) {\n",
              "    /* Redefinition of color scheme for dark theme */\n",
              "    --sklearn-color-text-on-default-background: var(--sg-text-color, var(--theme-code-foreground, var(--jp-content-font-color1, white)));\n",
              "    --sklearn-color-background: var(--sg-background-color, var(--theme-background, var(--jp-layout-color0, #111)));\n",
              "    --sklearn-color-border-box: var(--sg-text-color, var(--theme-code-foreground, var(--jp-content-font-color1, white)));\n",
              "    --sklearn-color-icon: #878787;\n",
              "  }\n",
              "}\n",
              "\n",
              "#sk-container-id-3 {\n",
              "  color: var(--sklearn-color-text);\n",
              "}\n",
              "\n",
              "#sk-container-id-3 pre {\n",
              "  padding: 0;\n",
              "}\n",
              "\n",
              "#sk-container-id-3 input.sk-hidden--visually {\n",
              "  border: 0;\n",
              "  clip: rect(1px 1px 1px 1px);\n",
              "  clip: rect(1px, 1px, 1px, 1px);\n",
              "  height: 1px;\n",
              "  margin: -1px;\n",
              "  overflow: hidden;\n",
              "  padding: 0;\n",
              "  position: absolute;\n",
              "  width: 1px;\n",
              "}\n",
              "\n",
              "#sk-container-id-3 div.sk-dashed-wrapped {\n",
              "  border: 1px dashed var(--sklearn-color-line);\n",
              "  margin: 0 0.4em 0.5em 0.4em;\n",
              "  box-sizing: border-box;\n",
              "  padding-bottom: 0.4em;\n",
              "  background-color: var(--sklearn-color-background);\n",
              "}\n",
              "\n",
              "#sk-container-id-3 div.sk-container {\n",
              "  /* jupyter's `normalize.less` sets `[hidden] { display: none; }`\n",
              "     but bootstrap.min.css set `[hidden] { display: none !important; }`\n",
              "     so we also need the `!important` here to be able to override the\n",
              "     default hidden behavior on the sphinx rendered scikit-learn.org.\n",
              "     See: https://github.com/scikit-learn/scikit-learn/issues/21755 */\n",
              "  display: inline-block !important;\n",
              "  position: relative;\n",
              "}\n",
              "\n",
              "#sk-container-id-3 div.sk-text-repr-fallback {\n",
              "  display: none;\n",
              "}\n",
              "\n",
              "div.sk-parallel-item,\n",
              "div.sk-serial,\n",
              "div.sk-item {\n",
              "  /* draw centered vertical line to link estimators */\n",
              "  background-image: linear-gradient(var(--sklearn-color-text-on-default-background), var(--sklearn-color-text-on-default-background));\n",
              "  background-size: 2px 100%;\n",
              "  background-repeat: no-repeat;\n",
              "  background-position: center center;\n",
              "}\n",
              "\n",
              "/* Parallel-specific style estimator block */\n",
              "\n",
              "#sk-container-id-3 div.sk-parallel-item::after {\n",
              "  content: \"\";\n",
              "  width: 100%;\n",
              "  border-bottom: 2px solid var(--sklearn-color-text-on-default-background);\n",
              "  flex-grow: 1;\n",
              "}\n",
              "\n",
              "#sk-container-id-3 div.sk-parallel {\n",
              "  display: flex;\n",
              "  align-items: stretch;\n",
              "  justify-content: center;\n",
              "  background-color: var(--sklearn-color-background);\n",
              "  position: relative;\n",
              "}\n",
              "\n",
              "#sk-container-id-3 div.sk-parallel-item {\n",
              "  display: flex;\n",
              "  flex-direction: column;\n",
              "}\n",
              "\n",
              "#sk-container-id-3 div.sk-parallel-item:first-child::after {\n",
              "  align-self: flex-end;\n",
              "  width: 50%;\n",
              "}\n",
              "\n",
              "#sk-container-id-3 div.sk-parallel-item:last-child::after {\n",
              "  align-self: flex-start;\n",
              "  width: 50%;\n",
              "}\n",
              "\n",
              "#sk-container-id-3 div.sk-parallel-item:only-child::after {\n",
              "  width: 0;\n",
              "}\n",
              "\n",
              "/* Serial-specific style estimator block */\n",
              "\n",
              "#sk-container-id-3 div.sk-serial {\n",
              "  display: flex;\n",
              "  flex-direction: column;\n",
              "  align-items: center;\n",
              "  background-color: var(--sklearn-color-background);\n",
              "  padding-right: 1em;\n",
              "  padding-left: 1em;\n",
              "}\n",
              "\n",
              "\n",
              "/* Toggleable style: style used for estimator/Pipeline/ColumnTransformer box that is\n",
              "clickable and can be expanded/collapsed.\n",
              "- Pipeline and ColumnTransformer use this feature and define the default style\n",
              "- Estimators will overwrite some part of the style using the `sk-estimator` class\n",
              "*/\n",
              "\n",
              "/* Pipeline and ColumnTransformer style (default) */\n",
              "\n",
              "#sk-container-id-3 div.sk-toggleable {\n",
              "  /* Default theme specific background. It is overwritten whether we have a\n",
              "  specific estimator or a Pipeline/ColumnTransformer */\n",
              "  background-color: var(--sklearn-color-background);\n",
              "}\n",
              "\n",
              "/* Toggleable label */\n",
              "#sk-container-id-3 label.sk-toggleable__label {\n",
              "  cursor: pointer;\n",
              "  display: block;\n",
              "  width: 100%;\n",
              "  margin-bottom: 0;\n",
              "  padding: 0.5em;\n",
              "  box-sizing: border-box;\n",
              "  text-align: center;\n",
              "}\n",
              "\n",
              "#sk-container-id-3 label.sk-toggleable__label-arrow:before {\n",
              "  /* Arrow on the left of the label */\n",
              "  content: \"▸\";\n",
              "  float: left;\n",
              "  margin-right: 0.25em;\n",
              "  color: var(--sklearn-color-icon);\n",
              "}\n",
              "\n",
              "#sk-container-id-3 label.sk-toggleable__label-arrow:hover:before {\n",
              "  color: var(--sklearn-color-text);\n",
              "}\n",
              "\n",
              "/* Toggleable content - dropdown */\n",
              "\n",
              "#sk-container-id-3 div.sk-toggleable__content {\n",
              "  max-height: 0;\n",
              "  max-width: 0;\n",
              "  overflow: hidden;\n",
              "  text-align: left;\n",
              "  /* unfitted */\n",
              "  background-color: var(--sklearn-color-unfitted-level-0);\n",
              "}\n",
              "\n",
              "#sk-container-id-3 div.sk-toggleable__content.fitted {\n",
              "  /* fitted */\n",
              "  background-color: var(--sklearn-color-fitted-level-0);\n",
              "}\n",
              "\n",
              "#sk-container-id-3 div.sk-toggleable__content pre {\n",
              "  margin: 0.2em;\n",
              "  border-radius: 0.25em;\n",
              "  color: var(--sklearn-color-text);\n",
              "  /* unfitted */\n",
              "  background-color: var(--sklearn-color-unfitted-level-0);\n",
              "}\n",
              "\n",
              "#sk-container-id-3 div.sk-toggleable__content.fitted pre {\n",
              "  /* unfitted */\n",
              "  background-color: var(--sklearn-color-fitted-level-0);\n",
              "}\n",
              "\n",
              "#sk-container-id-3 input.sk-toggleable__control:checked~div.sk-toggleable__content {\n",
              "  /* Expand drop-down */\n",
              "  max-height: 200px;\n",
              "  max-width: 100%;\n",
              "  overflow: auto;\n",
              "}\n",
              "\n",
              "#sk-container-id-3 input.sk-toggleable__control:checked~label.sk-toggleable__label-arrow:before {\n",
              "  content: \"▾\";\n",
              "}\n",
              "\n",
              "/* Pipeline/ColumnTransformer-specific style */\n",
              "\n",
              "#sk-container-id-3 div.sk-label input.sk-toggleable__control:checked~label.sk-toggleable__label {\n",
              "  color: var(--sklearn-color-text);\n",
              "  background-color: var(--sklearn-color-unfitted-level-2);\n",
              "}\n",
              "\n",
              "#sk-container-id-3 div.sk-label.fitted input.sk-toggleable__control:checked~label.sk-toggleable__label {\n",
              "  background-color: var(--sklearn-color-fitted-level-2);\n",
              "}\n",
              "\n",
              "/* Estimator-specific style */\n",
              "\n",
              "/* Colorize estimator box */\n",
              "#sk-container-id-3 div.sk-estimator input.sk-toggleable__control:checked~label.sk-toggleable__label {\n",
              "  /* unfitted */\n",
              "  background-color: var(--sklearn-color-unfitted-level-2);\n",
              "}\n",
              "\n",
              "#sk-container-id-3 div.sk-estimator.fitted input.sk-toggleable__control:checked~label.sk-toggleable__label {\n",
              "  /* fitted */\n",
              "  background-color: var(--sklearn-color-fitted-level-2);\n",
              "}\n",
              "\n",
              "#sk-container-id-3 div.sk-label label.sk-toggleable__label,\n",
              "#sk-container-id-3 div.sk-label label {\n",
              "  /* The background is the default theme color */\n",
              "  color: var(--sklearn-color-text-on-default-background);\n",
              "}\n",
              "\n",
              "/* On hover, darken the color of the background */\n",
              "#sk-container-id-3 div.sk-label:hover label.sk-toggleable__label {\n",
              "  color: var(--sklearn-color-text);\n",
              "  background-color: var(--sklearn-color-unfitted-level-2);\n",
              "}\n",
              "\n",
              "/* Label box, darken color on hover, fitted */\n",
              "#sk-container-id-3 div.sk-label.fitted:hover label.sk-toggleable__label.fitted {\n",
              "  color: var(--sklearn-color-text);\n",
              "  background-color: var(--sklearn-color-fitted-level-2);\n",
              "}\n",
              "\n",
              "/* Estimator label */\n",
              "\n",
              "#sk-container-id-3 div.sk-label label {\n",
              "  font-family: monospace;\n",
              "  font-weight: bold;\n",
              "  display: inline-block;\n",
              "  line-height: 1.2em;\n",
              "}\n",
              "\n",
              "#sk-container-id-3 div.sk-label-container {\n",
              "  text-align: center;\n",
              "}\n",
              "\n",
              "/* Estimator-specific */\n",
              "#sk-container-id-3 div.sk-estimator {\n",
              "  font-family: monospace;\n",
              "  border: 1px dotted var(--sklearn-color-border-box);\n",
              "  border-radius: 0.25em;\n",
              "  box-sizing: border-box;\n",
              "  margin-bottom: 0.5em;\n",
              "  /* unfitted */\n",
              "  background-color: var(--sklearn-color-unfitted-level-0);\n",
              "}\n",
              "\n",
              "#sk-container-id-3 div.sk-estimator.fitted {\n",
              "  /* fitted */\n",
              "  background-color: var(--sklearn-color-fitted-level-0);\n",
              "}\n",
              "\n",
              "/* on hover */\n",
              "#sk-container-id-3 div.sk-estimator:hover {\n",
              "  /* unfitted */\n",
              "  background-color: var(--sklearn-color-unfitted-level-2);\n",
              "}\n",
              "\n",
              "#sk-container-id-3 div.sk-estimator.fitted:hover {\n",
              "  /* fitted */\n",
              "  background-color: var(--sklearn-color-fitted-level-2);\n",
              "}\n",
              "\n",
              "/* Specification for estimator info (e.g. \"i\" and \"?\") */\n",
              "\n",
              "/* Common style for \"i\" and \"?\" */\n",
              "\n",
              ".sk-estimator-doc-link,\n",
              "a:link.sk-estimator-doc-link,\n",
              "a:visited.sk-estimator-doc-link {\n",
              "  float: right;\n",
              "  font-size: smaller;\n",
              "  line-height: 1em;\n",
              "  font-family: monospace;\n",
              "  background-color: var(--sklearn-color-background);\n",
              "  border-radius: 1em;\n",
              "  height: 1em;\n",
              "  width: 1em;\n",
              "  text-decoration: none !important;\n",
              "  margin-left: 1ex;\n",
              "  /* unfitted */\n",
              "  border: var(--sklearn-color-unfitted-level-1) 1pt solid;\n",
              "  color: var(--sklearn-color-unfitted-level-1);\n",
              "}\n",
              "\n",
              ".sk-estimator-doc-link.fitted,\n",
              "a:link.sk-estimator-doc-link.fitted,\n",
              "a:visited.sk-estimator-doc-link.fitted {\n",
              "  /* fitted */\n",
              "  border: var(--sklearn-color-fitted-level-1) 1pt solid;\n",
              "  color: var(--sklearn-color-fitted-level-1);\n",
              "}\n",
              "\n",
              "/* On hover */\n",
              "div.sk-estimator:hover .sk-estimator-doc-link:hover,\n",
              ".sk-estimator-doc-link:hover,\n",
              "div.sk-label-container:hover .sk-estimator-doc-link:hover,\n",
              ".sk-estimator-doc-link:hover {\n",
              "  /* unfitted */\n",
              "  background-color: var(--sklearn-color-unfitted-level-3);\n",
              "  color: var(--sklearn-color-background);\n",
              "  text-decoration: none;\n",
              "}\n",
              "\n",
              "div.sk-estimator.fitted:hover .sk-estimator-doc-link.fitted:hover,\n",
              ".sk-estimator-doc-link.fitted:hover,\n",
              "div.sk-label-container:hover .sk-estimator-doc-link.fitted:hover,\n",
              ".sk-estimator-doc-link.fitted:hover {\n",
              "  /* fitted */\n",
              "  background-color: var(--sklearn-color-fitted-level-3);\n",
              "  color: var(--sklearn-color-background);\n",
              "  text-decoration: none;\n",
              "}\n",
              "\n",
              "/* Span, style for the box shown on hovering the info icon */\n",
              ".sk-estimator-doc-link span {\n",
              "  display: none;\n",
              "  z-index: 9999;\n",
              "  position: relative;\n",
              "  font-weight: normal;\n",
              "  right: .2ex;\n",
              "  padding: .5ex;\n",
              "  margin: .5ex;\n",
              "  width: min-content;\n",
              "  min-width: 20ex;\n",
              "  max-width: 50ex;\n",
              "  color: var(--sklearn-color-text);\n",
              "  box-shadow: 2pt 2pt 4pt #999;\n",
              "  /* unfitted */\n",
              "  background: var(--sklearn-color-unfitted-level-0);\n",
              "  border: .5pt solid var(--sklearn-color-unfitted-level-3);\n",
              "}\n",
              "\n",
              ".sk-estimator-doc-link.fitted span {\n",
              "  /* fitted */\n",
              "  background: var(--sklearn-color-fitted-level-0);\n",
              "  border: var(--sklearn-color-fitted-level-3);\n",
              "}\n",
              "\n",
              ".sk-estimator-doc-link:hover span {\n",
              "  display: block;\n",
              "}\n",
              "\n",
              "/* \"?\"-specific style due to the `<a>` HTML tag */\n",
              "\n",
              "#sk-container-id-3 a.estimator_doc_link {\n",
              "  float: right;\n",
              "  font-size: 1rem;\n",
              "  line-height: 1em;\n",
              "  font-family: monospace;\n",
              "  background-color: var(--sklearn-color-background);\n",
              "  border-radius: 1rem;\n",
              "  height: 1rem;\n",
              "  width: 1rem;\n",
              "  text-decoration: none;\n",
              "  /* unfitted */\n",
              "  color: var(--sklearn-color-unfitted-level-1);\n",
              "  border: var(--sklearn-color-unfitted-level-1) 1pt solid;\n",
              "}\n",
              "\n",
              "#sk-container-id-3 a.estimator_doc_link.fitted {\n",
              "  /* fitted */\n",
              "  border: var(--sklearn-color-fitted-level-1) 1pt solid;\n",
              "  color: var(--sklearn-color-fitted-level-1);\n",
              "}\n",
              "\n",
              "/* On hover */\n",
              "#sk-container-id-3 a.estimator_doc_link:hover {\n",
              "  /* unfitted */\n",
              "  background-color: var(--sklearn-color-unfitted-level-3);\n",
              "  color: var(--sklearn-color-background);\n",
              "  text-decoration: none;\n",
              "}\n",
              "\n",
              "#sk-container-id-3 a.estimator_doc_link.fitted:hover {\n",
              "  /* fitted */\n",
              "  background-color: var(--sklearn-color-fitted-level-3);\n",
              "}\n",
              "</style><div id=\"sk-container-id-3\" class=\"sk-top-container\"><div class=\"sk-text-repr-fallback\"><pre>XGBRegressor(base_score=None, booster=None, callbacks=None,\n",
              "             colsample_bylevel=None, colsample_bynode=None,\n",
              "             colsample_bytree=None, device=None, early_stopping_rounds=None,\n",
              "             enable_categorical=False, eval_metric=None, feature_types=None,\n",
              "             gamma=None, grow_policy=None, importance_type=None,\n",
              "             interaction_constraints=None, learning_rate=None, max_bin=None,\n",
              "             max_cat_threshold=None, max_cat_to_onehot=None,\n",
              "             max_delta_step=None, max_depth=None, max_leaves=None,\n",
              "             min_child_weight=None, missing=nan, monotone_constraints=None,\n",
              "             multi_strategy=None, n_estimators=None, n_jobs=None,\n",
              "             num_parallel_tree=None, random_state=None, ...)</pre><b>In a Jupyter environment, please rerun this cell to show the HTML representation or trust the notebook. <br />On GitHub, the HTML representation is unable to render, please try loading this page with nbviewer.org.</b></div><div class=\"sk-container\" hidden><div class=\"sk-item\"><div class=\"sk-estimator fitted sk-toggleable\"><input class=\"sk-toggleable__control sk-hidden--visually\" id=\"sk-estimator-id-3\" type=\"checkbox\" checked><label for=\"sk-estimator-id-3\" class=\"sk-toggleable__label fitted sk-toggleable__label-arrow fitted\">&nbsp;XGBRegressor<span class=\"sk-estimator-doc-link fitted\">i<span>Fitted</span></span></label><div class=\"sk-toggleable__content fitted\"><pre>XGBRegressor(base_score=None, booster=None, callbacks=None,\n",
              "             colsample_bylevel=None, colsample_bynode=None,\n",
              "             colsample_bytree=None, device=None, early_stopping_rounds=None,\n",
              "             enable_categorical=False, eval_metric=None, feature_types=None,\n",
              "             gamma=None, grow_policy=None, importance_type=None,\n",
              "             interaction_constraints=None, learning_rate=None, max_bin=None,\n",
              "             max_cat_threshold=None, max_cat_to_onehot=None,\n",
              "             max_delta_step=None, max_depth=None, max_leaves=None,\n",
              "             min_child_weight=None, missing=nan, monotone_constraints=None,\n",
              "             multi_strategy=None, n_estimators=None, n_jobs=None,\n",
              "             num_parallel_tree=None, random_state=None, ...)</pre></div> </div></div></div></div>"
            ],
            "text/plain": [
              "XGBRegressor(base_score=None, booster=None, callbacks=None,\n",
              "             colsample_bylevel=None, colsample_bynode=None,\n",
              "             colsample_bytree=None, device=None, early_stopping_rounds=None,\n",
              "             enable_categorical=False, eval_metric=None, feature_types=None,\n",
              "             gamma=None, grow_policy=None, importance_type=None,\n",
              "             interaction_constraints=None, learning_rate=None, max_bin=None,\n",
              "             max_cat_threshold=None, max_cat_to_onehot=None,\n",
              "             max_delta_step=None, max_depth=None, max_leaves=None,\n",
              "             min_child_weight=None, missing=nan, monotone_constraints=None,\n",
              "             multi_strategy=None, n_estimators=None, n_jobs=None,\n",
              "             num_parallel_tree=None, random_state=None, ...)"
            ]
          },
          "execution_count": 71,
          "metadata": {},
          "output_type": "execute_result"
        }
      ],
      "source": [
        "# Ajuste do modelo, de acordo com as variáveis de treinamento\n",
        "model_xgboost.fit(X_train, Y_train)"
      ]
    },
    {
      "cell_type": "code",
      "execution_count": 72,
      "metadata": {},
      "outputs": [
        {
          "data": {
            "text/plain": [
              "array([ 5645.6226, 13068.446 , 20263.82  ,  8188.7925, 12262.426 ,\n",
              "        6172.8945,  3766.3657, 12245.694 , 13068.446 , 11694.955 ,\n",
              "       10533.964 ,  6551.2363,  6172.8945,  6551.2363, 14439.076 ,\n",
              "        8352.578 ,  3572.5652,  9140.09  ,  4233.152 , 14042.099 ,\n",
              "        9876.125 , 11694.955 ,  2244.4626, 12245.694 ,  4724.6436,\n",
              "        5202.0527,  9288.821 , 15640.317 , 17288.87  ,  9140.09  ,\n",
              "       10533.964 , 12002.522 ,  5391.0054, 13949.034 ,  7059.036 ,\n",
              "       16678.75  ,  8881.32  ,  8720.666 ,  4055.7822, 17677.932 ,\n",
              "       15867.892 ,  6004.2563,  1817.5685, 10006.239 , 14042.099 ,\n",
              "        9330.148 , 10533.964 , 14083.922 ,  8942.644 ,  6897.338 ,\n",
              "       10044.34  ,  6153.2266, 19770.596 ,  3973.9666, 15045.674 ,\n",
              "       18513.246 , 11985.932 , 17133.785 ,  7820.617 ,  6337.9023,\n",
              "       12740.406 , 15903.76  ,  8046.67  , 14529.529 ,  3585.4788,\n",
              "       18370.352 , 12118.972 ,  4161.6553,  4547.606 ,  6183.4653,\n",
              "        4290.2485, 16885.312 , 12677.458 ,  7820.617 ,  5645.6226,\n",
              "       20263.82  , 20027.883 , 12258.649 , 13068.446 ,  8550.084 ,\n",
              "        5749.847 , 11702.834 , 10533.964 ,  7352.168 ,  8352.578 ,\n",
              "        5717.932 ,  5749.847 ,  7820.617 ,  5645.6226, 13751.74  ,\n",
              "       15597.471 , 31532.428 ,  5717.932 ,  5202.0527,  7769.866 ,\n",
              "       11559.781 ,  8720.666 ,  9557.611 ,  5202.0527,  5645.6226,\n",
              "       13250.107 , 16678.75  ,  3130.8513,  5645.6226,  6897.338 ,\n",
              "        7769.866 , 16678.75  ,  6004.2563,  8352.578 ,  6257.0503,\n",
              "        6047.005 ,  6256.127 , 16229.794 ,  9330.148 , 11221.026 ,\n",
              "        5645.6226,  6719.3223,  3130.8513,  5586.3433, 11020.382 ,\n",
              "       11833.837 ,  6719.3223,  7820.617 ,  7820.617 , 13659.181 ,\n",
              "        6719.3223,  8352.578 , 10533.964 ,  9116.6875, 15949.861 ,\n",
              "        4724.6436,  4055.7822, 19991.172 ,  4724.6436,  9839.427 ,\n",
              "        8720.666 , 12989.639 , 12063.601 ,  6256.127 , 44965.402 ,\n",
              "        6719.3223, 23613.906 ,  9335.286 ,  8912.756 ,  8498.307 ,\n",
              "        4318.6772,  9557.611 ,  7906.2544,  3568.2659, 10916.873 ,\n",
              "        6337.9023,  9330.148 , 12238.842 , 18370.352 ,  6007.0674,\n",
              "       10959.808 ,  6004.3896, 12168.577 , 17325.172 ,  3017.591 ,\n",
              "        8912.756 , 25274.527 , 14439.076 ,  6914.123 , 12989.639 ,\n",
              "        6257.0503, 17979.63  ,  9956.479 ,  9765.349 ,  8862.023 ,\n",
              "       12989.639 , 13411.656 ,  4282.457 , 11985.932 ,  5749.847 ,\n",
              "       12457.847 ,  7769.866 , 10916.873 , 13855.844 ,  9330.148 ,\n",
              "       15949.861 ,  4282.457 , 13659.181 , 10249.454 ,  6172.8945,\n",
              "       10533.964 , 14529.529 ,  5749.847 ,  9116.6875,  9288.821 ,\n",
              "       12989.639 ,  6047.005 , 11242.552 , 13068.446 ,  3568.2659,\n",
              "        7972.2266, 13068.446 ,  5586.3433,  2199.138 , 10350.886 ,\n",
              "       13250.107 ,  7869.0664, 18418.266 ,  5645.6226,  7769.866 ,\n",
              "        5202.0527, 11964.55  ,  4233.152 ,  6183.4653,  9751.154 ,\n",
              "       13068.446 ,  4729.3696,  8352.578 , 13068.446 , 11694.955 ,\n",
              "        8720.666 ,  6257.0503,  9765.349 , 11822.293 , 13751.74  ,\n",
              "        5645.6226, 16485.264 ,  4973.89  ,  9956.479 ,  8046.67  ,\n",
              "        7148.5513,  9557.611 ,  9330.148 ,  5578.9473,  8862.023 ,\n",
              "       25995.373 ,  7414.0527, 12565.447 ,  8862.023 , 12007.798 ,\n",
              "        4233.152 , 14042.099 , 11242.552 , 17677.932 ,  3398.9775,\n",
              "        6719.3223,  4055.7822, 10886.821 ,  4724.6436,  9557.611 ,\n",
              "       10886.821 ,  5202.0527,  3766.3657, 13375.819 , 18258.002 ,\n",
              "        5202.0527,  9116.6875, 13659.181 ,  9557.611 ,  8099.687 ,\n",
              "        4233.152 ,  5586.3433,  8720.666 , 14417.417 , 11625.151 ,\n",
              "        8046.67  , 10948.389 ,  3130.8513, 17710.977 ,  8720.666 ,\n",
              "        4282.457 ,  3568.2659, 10886.821 , 17325.172 ,  9922.787 ,\n",
              "        4596.2637,  6004.2563, 11625.151 , 12258.649 , 38846.07  ,\n",
              "       38846.07  , 13068.446 ,  4547.606 , 14085.673 , 13949.034 ,\n",
              "       16678.75  , 13659.181 , 17979.63  ,  2426.7883,  6897.338 ,\n",
              "        7820.617 , 12063.601 ,  8046.67  ,  4973.89  ,  7820.617 ,\n",
              "        4729.3696,  3817.4065,  8881.32  , 16885.312 ,  9116.6875,\n",
              "       20263.82  , 10948.389 ,  6570.5454,  3398.9775, 44965.402 ,\n",
              "        8720.666 , 14042.099 ,  9876.125 , 18370.352 ,  6172.8945,\n",
              "        6719.3223, 10524.185 ,  3347.2861, 11985.932 ,  4161.6553,\n",
              "        6362.803 ,  3568.2659, 11144.234 ,  5202.0527,  3817.4065,\n",
              "       17133.785 ,  4055.7822,  8352.578 ,  5645.6226,  4161.6553,\n",
              "        4318.6772, 12258.649 , 11559.781 , 11985.932 , 10533.964 ,\n",
              "        9889.307 , 12989.639 ,  3568.2659, 10533.964 ,  8942.644 ,\n",
              "       11396.056 , 17133.785 , 12457.847 , 12063.601 , 13659.181 ,\n",
              "       10959.808 , 20467.652 , 15630.386 ,  4233.152 ,  8099.687 ,\n",
              "        7769.866 , 10959.808 , 13625.929 , 12258.649 ,  7352.168 ,\n",
              "        6897.338 ,  2426.7883,  7834.8867, 13659.181 , 14417.417 ,\n",
              "        7972.2266,  4926.8057, 23715.86  ,  6570.5454,  8942.644 ,\n",
              "        1817.5685,  6991.5684, 20002.287 ,  6719.3223,  6485.0527,\n",
              "        6148.7666,  3817.4065, 38846.07  ,  7442.823 ,  4318.6772,\n",
              "        3398.9775, 10959.808 , 16167.667 , 13659.181 ,  6638.803 ,\n",
              "        3817.4065,  5717.932 ,  7852.1265, 10726.262 ,  8862.023 ,\n",
              "       21497.055 ,  3568.2659,  3817.4065, 15478.383 , 15045.674 ,\n",
              "        9330.148 ,  7972.2266,  5749.847 , 10511.105 ,  9956.479 ,\n",
              "       13375.819 , 18370.352 , 12989.639 ,  7769.866 ,  3817.4065,\n",
              "       17677.932 , 14042.099 ,  4282.457 , 13659.181 ,  6257.0503,\n",
              "        5645.6226, 16438.86  ,  3568.2659,  4318.6772,  8881.32  ,\n",
              "        3398.9775,  8720.666 ,  9642.13  ,  2963.3977, 13659.181 ,\n",
              "        3398.9775, 18370.352 ,  4233.152 ,  9557.611 , 13068.446 ,\n",
              "        7820.617 , 11559.781 , 11144.234 ,  3766.3657, 18513.246 ,\n",
              "       11559.781 ], dtype=float32)"
            ]
          },
          "execution_count": 72,
          "metadata": {},
          "output_type": "execute_result"
        }
      ],
      "source": [
        "# Predição dos valores de salário com base nos dados de teste\n",
        "valores_preditos_xgboost = model_xgboost.predict(X_test)\n",
        "valores_preditos_xgboost"
      ]
    },
    {
      "cell_type": "markdown",
      "metadata": {},
      "source": [
        "#### Analisando a importância das variáveis para estimar a variável target. Observe o aumento da importância das variáveis 'Idade' e 'Genero'"
      ]
    },
    {
      "cell_type": "code",
      "execution_count": 73,
      "metadata": {},
      "outputs": [
        {
          "data": {
            "text/html": [
              "<div>\n",
              "<style scoped>\n",
              "    .dataframe tbody tr th:only-of-type {\n",
              "        vertical-align: middle;\n",
              "    }\n",
              "\n",
              "    .dataframe tbody tr th {\n",
              "        vertical-align: top;\n",
              "    }\n",
              "\n",
              "    .dataframe thead th {\n",
              "        text-align: right;\n",
              "    }\n",
              "</style>\n",
              "<table border=\"1\" class=\"dataframe\">\n",
              "  <thead>\n",
              "    <tr style=\"text-align: right;\">\n",
              "      <th></th>\n",
              "      <th>importance</th>\n",
              "    </tr>\n",
              "  </thead>\n",
              "  <tbody>\n",
              "    <tr>\n",
              "      <th>Anos experiencia - numerico</th>\n",
              "      <td>0.613865</td>\n",
              "    </tr>\n",
              "    <tr>\n",
              "      <th>Idade</th>\n",
              "      <td>0.202229</td>\n",
              "    </tr>\n",
              "    <tr>\n",
              "      <th>Genero</th>\n",
              "      <td>0.183905</td>\n",
              "    </tr>\n",
              "  </tbody>\n",
              "</table>\n",
              "</div>"
            ],
            "text/plain": [
              "                             importance\n",
              "Anos experiencia - numerico    0.613865\n",
              "Idade                          0.202229\n",
              "Genero                         0.183905"
            ]
          },
          "execution_count": 73,
          "metadata": {},
          "output_type": "execute_result"
        }
      ],
      "source": [
        "model_xgboost.feature_importances_\n",
        "feature_importances = pd.DataFrame(model_xgboost.feature_importances_, index = X_train.columns, columns=['importance']).sort_values('importance', ascending = False)\n",
        "feature_importances"
      ]
    },
    {
      "cell_type": "markdown",
      "metadata": {},
      "source": [
        "#### Métricas de avaliação do modelo"
      ]
    },
    {
      "cell_type": "code",
      "execution_count": 74,
      "metadata": {},
      "outputs": [
        {
          "data": {
            "text/plain": [
              "0.05641534848785856"
            ]
          },
          "execution_count": 74,
          "metadata": {},
          "output_type": "execute_result"
        }
      ],
      "source": [
        "mse = mean_squared_error(Y_test, valores_preditos_xgboost)\n",
        "mae = mean_absolute_error(Y_test, valores_preditos_xgboost)\n",
        "r2_score(Y_test, valores_preditos_xgboost)"
      ]
    },
    {
      "cell_type": "markdown",
      "metadata": {},
      "source": [
        "### **Concluindo**"
      ]
    },
    {
      "cell_type": "markdown",
      "metadata": {},
      "source": [
        "#### Apesar do algoritmo XGboost ter aumentando a importância de variáveis 'fracas', não foi um modelo acurado para estimar o salário dos funcionários: Acurácia de 6%"
      ]
    },
    {
      "cell_type": "markdown",
      "metadata": {},
      "source": [
        "#### Nesse exemplo, o modelo Random Forest, com especificação de parâmetros como número de árvores e ramificações, foi o mais acurado: Acurácia de 27%"
      ]
    },
    {
      "cell_type": "markdown",
      "metadata": {},
      "source": [
        "---\n",
        "#### Fim do código\n",
        "#### Obrigada!  \n",
        "#### Profa. Luani R O Piva - https://www.linkedin.com/in/luanipiva/"
      ]
    }
  ],
  "metadata": {
    "colab": {
      "provenance": []
    },
    "kernelspec": {
      "display_name": "Python 3.8.10 64-bit",
      "language": "python",
      "name": "python3"
    },
    "language_info": {
      "codemirror_mode": {
        "name": "ipython",
        "version": 3
      },
      "file_extension": ".py",
      "mimetype": "text/x-python",
      "name": "python",
      "nbconvert_exporter": "python",
      "pygments_lexer": "ipython3",
      "version": "3.11.8"
    },
    "vscode": {
      "interpreter": {
        "hash": "916dbcbb3f70747c44a77c7bcd40155683ae19c65e1c03b4aa3499c5328201f1"
      }
    }
  },
  "nbformat": 4,
  "nbformat_minor": 0
}
