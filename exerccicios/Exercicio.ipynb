{
 "cells": [
  {
   "cell_type": "code",
   "execution_count": 5,
   "metadata": {},
   "outputs": [
    {
     "name": "stdout",
     "output_type": "stream",
     "text": [
      "   acidez_fixa  acidez_volatil  acido_citrico  acucar_residual  cloretos  \\\n",
      "0          7.6            1.58           0.00              2.1     137.0   \n",
      "1          8.2            1.33           0.00              1.7      81.0   \n",
      "2          8.1            1.33           0.00              1.8      82.0   \n",
      "3          9.8            1.24           0.34              2.0      79.0   \n",
      "4          8.0            1.18           0.21              1.9      83.0   \n",
      "\n",
      "   dioxido_de_enxofre  densidade  sulfatos  perc_alcoolico tipo_vinho  \n",
      "0                 5.0        9.0      3.50            0.40      tinto  \n",
      "1                 3.0       12.0      3.53            0.49      tinto  \n",
      "2                 3.0       12.0      3.54            0.48      tinto  \n",
      "3                32.0      151.0      3.15            0.53      tinto  \n",
      "4                14.0       41.0      3.34            0.47      tinto  \n"
     ]
    }
   ],
   "source": [
    "import pandas as pd\n",
    "import seaborn as sns\n",
    "import matplotlib.pyplot as plt\n",
    "\n",
    "\n",
    "df = pd.read_csv('wine_dataset.csv')\n",
    "\n",
    "\n",
    "print(df.head())"
   ]
  }
 ],
 "metadata": {
  "kernelspec": {
   "display_name": "Python 3 (ipykernel)",
   "language": "python",
   "name": "python3"
  },
  "language_info": {
   "codemirror_mode": {
    "name": "ipython",
    "version": 3
   },
   "file_extension": ".py",
   "mimetype": "text/x-python",
   "name": "python",
   "nbconvert_exporter": "python",
   "pygments_lexer": "ipython3",
   "version": "3.10.13"
  }
 },
 "nbformat": 4,
 "nbformat_minor": 2
}
