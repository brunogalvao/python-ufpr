{
 "cells": [
  {
   "cell_type": "markdown",
   "metadata": {},
   "source": [
    "# Exercício prático \n",
    "\n",
    "## Aula Síncrona 2 - Linguagem de Programação Aplicada\n",
    "## 16/03/2024\n",
    "\n",
    "---"
   ]
  },
  {
   "cell_type": "markdown",
   "metadata": {},
   "source": [
    "## Parte 1 - Análise Exploratória dos Dados com Pandas"
   ]
  },
  {
   "cell_type": "markdown",
   "metadata": {},
   "source": [
    "#### Importando bibliotecas"
   ]
  },
  {
   "cell_type": "code",
   "execution_count": 5,
   "metadata": {},
   "outputs": [],
   "source": [
    "import pandas as pd\n",
    "import seaborn as sns\n",
    "import matplotlib.pyplot as plt"
   ]
  },
  {
   "cell_type": "markdown",
   "metadata": {},
   "source": [
    "#### Importando os dados\n"
   ]
  },
  {
   "cell_type": "code",
   "execution_count": 7,
   "metadata": {},
   "outputs": [],
   "source": [
    "# read_csv\n",
    "dados = pd.read_csv('wine_dataset.csv')"
   ]
  },
  {
   "cell_type": "code",
   "execution_count": 8,
   "metadata": {},
   "outputs": [
    {
     "name": "stdout",
     "output_type": "stream",
     "text": [
      "   acidez_fixa  acidez_volatil  acido_citrico  acucar_residual  cloretos  \\\n",
      "0          7.6            1.58           0.00              2.1     137.0   \n",
      "1          8.2            1.33           0.00              1.7      81.0   \n",
      "2          8.1            1.33           0.00              1.8      82.0   \n",
      "3          9.8            1.24           0.34              2.0      79.0   \n",
      "4          8.0            1.18           0.21              1.9      83.0   \n",
      "\n",
      "   dioxido_de_enxofre  densidade  sulfatos  perc_alcoolico tipo_vinho  \n",
      "0                 5.0        9.0      3.50            0.40      tinto  \n",
      "1                 3.0       12.0      3.53            0.49      tinto  \n",
      "2                 3.0       12.0      3.54            0.48      tinto  \n",
      "3                32.0      151.0      3.15            0.53      tinto  \n",
      "4                14.0       41.0      3.34            0.47      tinto  \n"
     ]
    }
   ],
   "source": [
    "# visualizando os dados com head\n",
    "print(dados.head())"
   ]
  },
  {
   "cell_type": "code",
   "execution_count": 9,
   "metadata": {},
   "outputs": [
    {
     "name": "stdout",
     "output_type": "stream",
     "text": [
      "Quantidade de linhas: 6138\n",
      "Quantidade de colunas: 10\n"
     ]
    }
   ],
   "source": [
    "# quantidade de linhas e colunas com shape\n",
    "quantidade_linhas, quantidade_colunas = dados.shape\n",
    "\n",
    "print(\"Quantidade de linhas:\", quantidade_linhas)\n",
    "print(\"Quantidade de colunas:\", quantidade_colunas)"
   ]
  },
  {
   "cell_type": "markdown",
   "metadata": {},
   "source": [
    "#### Análise Exploratória de Dados"
   ]
  },
  {
   "cell_type": "code",
   "execution_count": 10,
   "metadata": {},
   "outputs": [
    {
     "name": "stdout",
     "output_type": "stream",
     "text": [
      "Tipos de cada coluna:\n",
      "acidez_fixa           float64\n",
      "acidez_volatil        float64\n",
      "acido_citrico         float64\n",
      "acucar_residual       float64\n",
      "cloretos              float64\n",
      "dioxido_de_enxofre    float64\n",
      "densidade             float64\n",
      "sulfatos              float64\n",
      "perc_alcoolico        float64\n",
      "tipo_vinho             object\n",
      "dtype: object\n"
     ]
    }
   ],
   "source": [
    "# imprimir os tipos de cada coluna\n",
    "\n",
    "print(\"Tipos de cada coluna:\")\n",
    "print(dados.dtypes)"
   ]
  },
  {
   "cell_type": "code",
   "execution_count": 14,
   "metadata": {},
   "outputs": [
    {
     "name": "stdout",
     "output_type": "stream",
     "text": [
      "Resumo estatístico das variáveis numéricas:\n",
      "       acidez_fixa  acidez_volatil  acido_citrico  acucar_residual  \\\n",
      "count  6138.000000     6138.000000    6138.000000      6138.000000   \n",
      "mean      7.214150        0.326779       0.324353         5.534718   \n",
      "std       1.264585        0.148130       0.141189         4.740753   \n",
      "min       3.800000        0.080000       0.000000         0.600000   \n",
      "25%       6.400000        0.220000       0.250000         1.800000   \n",
      "50%       7.000000        0.290000       0.310000         3.200000   \n",
      "75%       7.700000        0.390000       0.400000         8.200000   \n",
      "max      15.900000        1.580000       1.660000        31.600000   \n",
      "\n",
      "          cloretos  dioxido_de_enxofre    densidade     sulfatos  \\\n",
      "count  6138.000000         6138.000000  6138.000000  6138.000000   \n",
      "mean     48.814060           31.009123   117.680270     3.213641   \n",
      "std      36.534073           17.658498    55.913171     0.158316   \n",
      "min       0.020000            1.000000     6.000000     2.720000   \n",
      "25%      34.000000           18.000000    82.000000     3.110000   \n",
      "50%      45.000000           29.000000   120.000000     3.200000   \n",
      "75%      58.000000           42.000000   157.000000     3.320000   \n",
      "max     611.000000          289.000000   440.000000     4.010000   \n",
      "\n",
      "       perc_alcoolico  \n",
      "count     6138.000000  \n",
      "mean         0.529550  \n",
      "std          0.147864  \n",
      "min          0.220000  \n",
      "25%          0.430000  \n",
      "50%          0.500000  \n",
      "75%          0.600000  \n",
      "max          2.000000  \n"
     ]
    }
   ],
   "source": [
    "# resumo das variáveis, utilizando a função describe\n",
    "resumo_variaveis_numericas = dados.describe()\n",
    "\n",
    "print(\"Resumo estatístico das variáveis numéricas:\")\n",
    "print(resumo_variaveis_numericas)"
   ]
  },
  {
   "cell_type": "code",
   "execution_count": 33,
   "metadata": {},
   "outputs": [
    {
     "name": "stdout",
     "output_type": "stream",
     "text": [
      "Valores faltantes no DataFrame:\n",
      "      acidez_fixa  acidez_volatil  acido_citrico  acucar_residual  cloretos  \\\n",
      "0           False           False          False            False     False   \n",
      "1           False           False          False            False     False   \n",
      "2           False           False          False            False     False   \n",
      "3           False           False          False            False     False   \n",
      "4           False           False          False            False     False   \n",
      "...           ...             ...            ...              ...       ...   \n",
      "6133        False           False          False            False     False   \n",
      "6134        False           False          False            False     False   \n",
      "6135        False           False          False            False     False   \n",
      "6136        False           False          False            False     False   \n",
      "6137        False           False          False            False     False   \n",
      "\n",
      "      dioxido_de_enxofre  densidade  sulfatos  perc_alcoolico  tipo_vinho  \n",
      "0                  False      False     False           False       False  \n",
      "1                  False      False     False           False       False  \n",
      "2                  False      False     False           False       False  \n",
      "3                  False      False     False           False       False  \n",
      "4                  False      False     False           False       False  \n",
      "...                  ...        ...       ...             ...         ...  \n",
      "6133               False      False     False           False       False  \n",
      "6134               False      False     False           False       False  \n",
      "6135               False      False     False           False       False  \n",
      "6136               False      False     False           False       False  \n",
      "6137               False      False     False           False       False  \n",
      "\n",
      "[6138 rows x 10 columns]\n",
      "acidez_fixa           False\n",
      "acidez_volatil        False\n",
      "acido_citrico         False\n",
      "acucar_residual       False\n",
      "cloretos              False\n",
      "dioxido_de_enxofre    False\n",
      "densidade             False\n",
      "sulfatos              False\n",
      "perc_alcoolico        False\n",
      "tipo_vinho            False\n",
      "dtype: bool\n",
      "False    10\n",
      "Name: count, dtype: int64\n"
     ]
    }
   ],
   "source": [
    "# verificar valores faltantes com isna()\n",
    "\n",
    "valores_faltantes = dados.isna()\n",
    "\n",
    "\n",
    "tratado = valores_faltantes.any()\n",
    "\n",
    "\n",
    "print(\"Valores faltantes no DataFrame:\")\n",
    "print(valores_faltantes)\n",
    "\n",
    "print(tratado)\n",
    "print(tratado.value_counts())\n"
   ]
  },
  {
   "cell_type": "code",
   "execution_count": 37,
   "metadata": {},
   "outputs": [
    {
     "name": "stdout",
     "output_type": "stream",
     "text": [
      "Valores duplicados no DataFrame:\n",
      "0       False\n",
      "1       False\n",
      "2       False\n",
      "3       False\n",
      "4       False\n",
      "        ...  \n",
      "6133    False\n",
      "6134    False\n",
      "6135     True\n",
      "6136    False\n",
      "6137     True\n",
      "Length: 6138, dtype: bool\n",
      "Total: 1146\n"
     ]
    }
   ],
   "source": [
    "# verificar valores duplicados com duplicated()\n",
    "\n",
    "valores_duplicados = dados.duplicated()\n",
    "\n",
    "valores_duplicados_total = valores_duplicados.sum()\n",
    "\n",
    "print(\"Valores duplicados no DataFrame:\")\n",
    "print(valores_duplicados)\n",
    "\n",
    "print(\"Total:\", valores_duplicados_total)"
   ]
  },
  {
   "cell_type": "code",
   "execution_count": 17,
   "metadata": {},
   "outputs": [
    {
     "name": "stdout",
     "output_type": "stream",
     "text": [
      "Valores por categoria na coluna 'tipo_vinho':\n",
      "tipo_vinho\n",
      "branco    4740\n",
      "tinto     1398\n",
      "Name: count, dtype: int64\n"
     ]
    }
   ],
   "source": [
    "# calcular valores por categoria tipo_vinho  -value_counts()\n",
    "\n",
    "valores_por_categoria = dados['tipo_vinho'].value_counts()\n",
    "\n",
    "print(\"Valores por categoria na coluna 'tipo_vinho':\")\n",
    "print(valores_por_categoria)"
   ]
  },
  {
   "cell_type": "markdown",
   "metadata": {},
   "source": [
    "#### Visualização dos dados\n",
    "\n",
    "Elaborar os gráficos e discutir os resultados\n",
    "\n"
   ]
  },
  {
   "cell_type": "code",
   "execution_count": 18,
   "metadata": {},
   "outputs": [
    {
     "data": {
      "image/png": "[encoded data removed]",
      "text/plain": [
       "<Figure size 800x600 with 1 Axes>"
      ]
     },
     "metadata": {},
     "output_type": "display_data"
    }
   ],
   "source": [
    "# gráfico da quantidade de vinhos por tipo (tinto ou branco)\n",
    "\n",
    "valores_por_categoria = dados['tipo_vinho'].value_counts()\n",
    "\n",
    "plt.figure(figsize=(8, 6))\n",
    "valores_por_categoria.plot(kind='bar', color=['red', 'blue'], alpha=0.7)\n",
    "\n",
    "plt.title('Quantidade de Vinhos por Tipo')\n",
    "plt.xlabel('Tipo de Vinho')\n",
    "plt.ylabel('Quantidade')\n",
    "plt.xticks(rotation=0)\n",
    "\n",
    "plt.tight_layout()\n",
    "plt.show()"
   ]
  },
  {
   "cell_type": "code",
   "execution_count": 19,
   "metadata": {},
   "outputs": [
    {
     "data": {
      "image/png": "[encoded data removed]",
      "text/plain": [
       "<Figure size 800x600 with 1 Axes>"
      ]
     },
     "metadata": {},
     "output_type": "display_data"
    }
   ],
   "source": [
    "# gráfico da média de acidez fixa por tipo de vinho - criacao das variáveis com a média calculada\n",
    "\n",
    "media_acidez_fixa_por_tipo = dados.groupby('tipo_vinho')['acidez_fixa'].mean()\n",
    "\n",
    "plt.figure(figsize=(8, 6))\n",
    "media_acidez_fixa_por_tipo.plot(kind='bar', color=['red', 'blue'], alpha=0.7)\n",
    "\n",
    "plt.title('Média de Acidez Fixa por Tipo de Vinho')\n",
    "plt.xlabel('Tipo de Vinho')\n",
    "plt.ylabel('Média de Acidez Fixa')\n",
    "plt.xticks(rotation=0)  # Rotacionar os rótulos do eixo x para melhor visualização\n",
    "\n",
    "plt.tight_layout()\n",
    "plt.show()"
   ]
  },
  {
   "cell_type": "code",
   "execution_count": 20,
   "metadata": {},
   "outputs": [
    {
     "data": {
      "image/png": "[encoded data removed]",
      "text/plain": [
       "<Figure size 800x600 with 1 Axes>"
      ]
     },
     "metadata": {},
     "output_type": "display_data"
    }
   ],
   "source": [
    "# gráfico da média de acidez fixa por tipo de vinho - criação do gráfico\n",
    "\n",
    "media_acidez_fixa_por_tipo = dados.groupby('tipo_vinho')['acidez_fixa'].mean()\n",
    "\n",
    "plt.figure(figsize=(8, 6))\n",
    "media_acidez_fixa_por_tipo.plot(kind='bar', color=['red', 'blue'], alpha=0.7)\n",
    "\n",
    "plt.title('Média de Acidez Fixa por Tipo de Vinho')\n",
    "plt.xlabel('Tipo de Vinho')\n",
    "plt.ylabel('Média de Acidez Fixa')\n",
    "plt.xticks(rotation=0)\n",
    "\n",
    "plt.tight_layout()\n",
    "plt.show()"
   ]
  },
  {
   "cell_type": "markdown",
   "metadata": {},
   "source": [
    "---\n",
    "## Parte 2 - Algoritmo ExtraTrees para prever o tipo do vinho"
   ]
  },
  {
   "cell_type": "markdown",
   "metadata": {},
   "source": [
    "#### Importando bibliotecas"
   ]
  },
  {
   "cell_type": "code",
   "execution_count": 4,
   "metadata": {},
   "outputs": [],
   "source": [
    "from sklearn.ensemble import ExtraTreesClassifier\n",
    "from sklearn.model_selection import train_test_split\n",
    "from sklearn.preprocessing import LabelEncoder"
   ]
  },
  {
   "cell_type": "markdown",
   "metadata": {},
   "source": [
    "#### Preparação dos dados"
   ]
  },
  {
   "cell_type": "code",
   "execution_count": 38,
   "metadata": {},
   "outputs": [
    {
     "ename": "NameError",
     "evalue": "name 'LabelEncoder' is not defined",
     "output_type": "error",
     "traceback": [
      "\u001b[0;31m---------------------------------------------------------------------------\u001b[0m",
      "\u001b[0;31mNameError\u001b[0m                                 Traceback (most recent call last)",
      "Cell \u001b[0;32mIn[38], line 2\u001b[0m\n\u001b[1;32m      1\u001b[0m \u001b[38;5;66;03m# transformar coluna tipo_vinho em 0 e 1 (de categórica para numérica)\u001b[39;00m\n\u001b[0;32m----> 2\u001b[0m dados[\u001b[38;5;124m'\u001b[39m\u001b[38;5;124mtipo_vinho\u001b[39m\u001b[38;5;124m'\u001b[39m] \u001b[38;5;241m=\u001b[39m \u001b[43mLabelEncoder\u001b[49m()\u001b[38;5;241m.\u001b[39mfit_transform(dados[\u001b[38;5;124m'\u001b[39m\u001b[38;5;124mtipo_vinho\u001b[39m\u001b[38;5;124m'\u001b[39m]) \n\u001b[1;32m      3\u001b[0m dados\u001b[38;5;241m.\u001b[39mhead()\n",
      "\u001b[0;31mNameError\u001b[0m: name 'LabelEncoder' is not defined"
     ]
    }
   ],
   "source": [
    "# transformar coluna tipo_vinho em 0 e 1 (de categórica para numérica)\n",
    "dados['tipo_vinho'] = LabelEncoder().fit_transform(dados['tipo_vinho']) \n",
    "dados.head()\n",
    "\n",
    "\n"
   ]
  },
  {
   "cell_type": "code",
   "execution_count": null,
   "metadata": {},
   "outputs": [],
   "source": [
    "# separar as variáveis Y (Target - tipo do vinho) do restantE, que são as variáveis preditoras"
   ]
  },
  {
   "cell_type": "markdown",
   "metadata": {},
   "source": [
    "#### Divisão em treino e teste"
   ]
  },
  {
   "cell_type": "code",
   "execution_count": null,
   "metadata": {},
   "outputs": [],
   "source": [
    "# divisão dos dados em treino e teste: 30% pra treino e 70% para teste"
   ]
  },
  {
   "cell_type": "markdown",
   "metadata": {},
   "source": [
    "#### Treinamento do modelo"
   ]
  },
  {
   "cell_type": "code",
   "execution_count": null,
   "metadata": {},
   "outputs": [],
   "source": [
    "# modelo ExtraTreesClassifier\n",
    "modelo = ExtraTreesClassifier()"
   ]
  },
  {
   "cell_type": "code",
   "execution_count": null,
   "metadata": {},
   "outputs": [],
   "source": [
    "# ajuste do modelo\n"
   ]
  },
  {
   "cell_type": "markdown",
   "metadata": {},
   "source": [
    "#### Cálculo da acurácia do modelo"
   ]
  },
  {
   "cell_type": "code",
   "execution_count": null,
   "metadata": {},
   "outputs": [],
   "source": [
    "# cálculo da acurácia do modelo com o parametro score (para classificação)\n"
   ]
  },
  {
   "cell_type": "code",
   "execution_count": null,
   "metadata": {},
   "outputs": [],
   "source": [
    "# imprimindo a acurácia do modelo - colocar as variáveis de teste entre parênteses\n",
    "resultado = modelo.score()"
   ]
  },
  {
   "cell_type": "markdown",
   "metadata": {},
   "source": [
    "#### Teste do modelo treinado"
   ]
  },
  {
   "cell_type": "code",
   "execution_count": null,
   "metadata": {},
   "outputs": [],
   "source": [
    "# selecionando alguns valores para teste do modelo"
   ]
  },
  {
   "cell_type": "code",
   "execution_count": null,
   "metadata": {},
   "outputs": [],
   "source": [
    "# testando o modelo com predict "
   ]
  },
  {
   "cell_type": "markdown",
   "metadata": {},
   "source": [
    "---\n",
    "#### Fim do código\n",
    "#### Obrigada!  \n",
    "#### Profa. Luani R O Piva - https://www.linkedin.com/in/luanipiva/"
   ]
  }
 ],
 "metadata": {
  "kernelspec": {
   "display_name": "Python 3 (ipykernel)",
   "language": "python",
   "name": "python3"
  },
  "language_info": {
   "codemirror_mode": {
    "name": "ipython",
    "version": 3
   },
   "file_extension": ".py",
   "mimetype": "text/x-python",
   "name": "python",
   "nbconvert_exporter": "python",
   "pygments_lexer": "ipython3",
   "version": "3.10.13"
  }
 },
 "nbformat": 4,
 "nbformat_minor": 2
}
